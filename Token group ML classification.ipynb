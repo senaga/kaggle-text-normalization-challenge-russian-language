{
 "cells": [
  {
   "cell_type": "code",
   "execution_count": 1,
   "metadata": {},
   "outputs": [],
   "source": [
    "import numpy as np\n",
    "import pandas as pd\n",
    "\n",
    "import string\n",
    "import re\n",
    "import gc"
   ]
  },
  {
   "cell_type": "code",
   "execution_count": 2,
   "metadata": {},
   "outputs": [
    {
     "name": "stderr",
     "output_type": "stream",
     "text": [
      "D:\\Projects\\OCDBot\\thirdParty\\winpython\\python-3.5.4.amd64\\Lib\\site-packages\\sklearn\\cross_validation.py:44: DeprecationWarning: This module was deprecated in version 0.18 in favor of the model_selection module into which all the refactored classes and functions are moved. Also note that the interface of the new CV iterators are different from that of this module. This module will be removed in 0.20.\n",
      "  \"This module will be removed in 0.20.\", DeprecationWarning)\n"
     ]
    }
   ],
   "source": [
    "import xgboost as xgb\n",
    "from sklearn.model_selection import train_test_split"
   ]
  },
  {
   "cell_type": "code",
   "execution_count": 3,
   "metadata": {},
   "outputs": [],
   "source": [
    "train = pd.read_csv('data/train.csv', encoding='utf-8')\n",
    "train.dropna(inplace=True)\n",
    "train = train[train.sentence_id != 492799]"
   ]
  },
  {
   "cell_type": "code",
   "execution_count": 6,
   "metadata": {},
   "outputs": [
    {
     "data": {
      "text/plain": [
       "array(['PLAIN', 'DATE', 'PUNCT', 'ORDINAL', 'VERBATIM', 'LETTERS',\n",
       "       'CARDINAL', 'MEASURE', 'TELEPHONE', 'ELECTRONIC', 'DECIMAL',\n",
       "       'DIGIT', 'FRACTION', 'MONEY', 'TIME'], dtype=object)"
      ]
     },
     "execution_count": 6,
     "metadata": {},
     "output_type": "execute_result"
    }
   ],
   "source": [
    "train['class'].unique()"
   ]
  },
  {
   "cell_type": "code",
   "execution_count": 22,
   "metadata": {},
   "outputs": [],
   "source": [
    "punctuations = [s[0] for s in train[train['class'] == 'PUNCT']['before'].unique().tolist()]\n",
    "verbatims = train[train['class'] == 'VERBATIM'].query('after != before').before.unique().tolist()\n",
    "currencies = [u'¥', u'$', u'€', u'£']\n",
    "power_signs = [u'²', u'³']\n",
    "fraction_signs = [u'¼', u'½', u'¾', u'⅔', u'⅓']\n",
    "specials = list(set(string.punctuation) - set(punctuations) - set(currencies))\n",
    "date_signs = [u'январ', u'феврал', u'март', u'апрел', u'мая', u'май', u'июн', \\\n",
    "        u'июл', u'август', u'сентябр', u'октябр', u'ноябр', u'декабр', u'год']\n",
    "quantitatives = [u'тыс', u'млн', u'миллион', u'миллиард', u'млрд', u'трлн', u'триллион']\n",
    "measure_names = [u'см', u'км', u'%', u'с.', u'метров', u'мин', u'st', u'мм', \n",
    "                 u'кило', u'кг', u'м.', u'л.', u'т.', u'ярд', u' м']\n",
    "currency_names = [u'евро', u'руб', u'долл', u'гривен', u'гривн', u'usd', u'eur', u'юан', u'йен', u'cyp', u'php', u'bsd']"
   ]
  },
  {
   "cell_type": "code",
   "execution_count": 23,
   "metadata": {},
   "outputs": [],
   "source": [
    "def is_latin_letter(letter):\n",
    "    ord_letter = ord(letter)\n",
    "    return ord_letter >= 97 and ord_letter <= 122\n",
    "\n",
    "def is_rus_letter(letter):\n",
    "    ord_letter = ord(letter)\n",
    "    return ord_letter >= 1072 and ord_letter <= 1105\n",
    "\n",
    "def is_digit(letter):\n",
    "    ord_letter = ord(letter)\n",
    "    return ord_letter >= 48 and ord_letter <= 57\n",
    "\n",
    "def is_greek(letter):\n",
    "    ord_letter = ord(letter)\n",
    "    return ord_letter >= 945 and ord_letter <= 969\n",
    "\n",
    "def is_dash(letter):\n",
    "    return letter == u'—'\n",
    "\n",
    "def is_dot(letter):\n",
    "    return letter == u'.'\n",
    "\n",
    "def is_comma(letter):\n",
    "    return letter == u','\n",
    "\n",
    "def is_slash(letter):\n",
    "    return letter == u'/'\n",
    "\n",
    "def is_colon(letter):\n",
    "    return letter == u':'\n",
    "\n",
    "def is_hyphen(letter):\n",
    "    return letter == u'-'\n",
    "\n",
    "def is_date_in_word(word):\n",
    "    for d in date_signs:\n",
    "        if d in word:\n",
    "            return True\n",
    "    return False\n",
    "\n",
    "def is_measure_in_word(word):\n",
    "    for m in measure_names:\n",
    "        if m in word:\n",
    "            return True\n",
    "    return False\n",
    "\n",
    "def is_domain_in_word(word):\n",
    "    url_pattern = \"(([a-zA-Z0-9]+(-[a-zA-Z0-9]+)*\\.)+[a-z]{2,10})\"\n",
    "    return len(re.findall(url_pattern, word)) > 0\n",
    "\n",
    "def is_quantitative_in_word(word):\n",
    "    for d in quantitatives:\n",
    "        if d in word:\n",
    "            return True\n",
    "    return False\n",
    "\n",
    "def is_currency_name_in_word(word):\n",
    "    for c in currency_names:\n",
    "        if c in word:\n",
    "            return True\n",
    "    return False\n",
    "\n",
    "def generate_features(value):\n",
    "    \n",
    "    value = value.strip()\n",
    "    num_letters = len(value)\n",
    "    num_words = len(value.split(\" \"))\n",
    "    \n",
    "    rus_letters_num = 0\n",
    "    en_letters_num = 0\n",
    "    digits_num = 0\n",
    "    punctuations_num = 0\n",
    "    greek_letters_num = 0\n",
    "    other_letters_num = 0\n",
    "    special_letters_num = 0\n",
    "    whitespaces_num = 0\n",
    "    uppercase_num = 0\n",
    "    \n",
    "    has_dash = 0\n",
    "    has_currency_sign = 0\n",
    "    has_power_sign = 0\n",
    "    has_fraction_sign = 0\n",
    "    has_dot = 0\n",
    "    has_comma = 0\n",
    "    has_slash = 0\n",
    "    has_colon = 0\n",
    "    num_hyphens = 0\n",
    "\n",
    "    for l in value:\n",
    "        if l.isupper():\n",
    "            uppercase_num += 1\n",
    "        \n",
    "        l = l.lower()\n",
    "\n",
    "        if is_rus_letter(l):\n",
    "            rus_letters_num += 1\n",
    "        elif is_latin_letter(l):\n",
    "            en_letters_num += 1\n",
    "        elif is_digit(l):\n",
    "            digits_num += 1\n",
    "        elif is_greek(l):\n",
    "            greek_letters_num += 1\n",
    "        elif is_hyphen(l):\n",
    "            num_hyphens += 1\n",
    "        elif l in punctuations:\n",
    "            punctuations_num += 1\n",
    "        elif l in specials:\n",
    "            special_letters_num += 1\n",
    "        elif l.isspace():\n",
    "            whitespaces_num += 1\n",
    "        else:\n",
    "            other_letters_num += 1\n",
    "            \n",
    "        if is_dash(l):\n",
    "            has_dash = 1\n",
    "        elif is_dot(l):\n",
    "            has_dot = 1\n",
    "        elif is_comma(l):\n",
    "            has_comma = 1\n",
    "        elif is_slash(l):\n",
    "            has_slash = 1\n",
    "        elif is_colon(l):\n",
    "            has_colon = 1\n",
    "        elif l in currencies:\n",
    "            has_currency_sign = 1\n",
    "        elif l in power_signs:\n",
    "            has_power_sign = 1\n",
    "        elif l in fraction_signs:\n",
    "            has_fraction_sign = 1\n",
    "\n",
    "    value = value.lower()\n",
    "        \n",
    "    is_uppercase = 1 if num_letters == uppercase_num else 0\n",
    "    is_single_char = 1 if num_letters == 1 else 0\n",
    "    is_russian_only = 1 if num_letters == rus_letters_num else 0\n",
    "    is_english_only = 1 if num_letters == en_letters_num else 0\n",
    "    is_digits_only = 1 if num_letters == digits_num else 0\n",
    "    is_punctuation_only = 1 if num_letters == punctuations_num else 0\n",
    "    is_one_word = 1 if num_words == 1 else 0\n",
    "    \n",
    "    has_date = is_date_in_word(value)\n",
    "    has_measure = is_measure_in_word(value)\n",
    "    has_domain = is_domain_in_word(value)\n",
    "    has_quantitative = is_quantitative_in_word(value)\n",
    "    is_zero_leading = len(value) > 0 and value[0] == u'0'\n",
    "    has_currency_name = is_currency_name_in_word(value)\n",
    "    \n",
    "    return [num_letters, num_words, rus_letters_num, en_letters_num, digits_num, greek_letters_num, \\\n",
    "            other_letters_num, punctuations_num, uppercase_num, special_letters_num, num_hyphens, \\\n",
    "            is_russian_only, is_english_only, is_digits_only, is_punctuation_only, is_one_word, \\\n",
    "            is_uppercase, is_single_char, is_zero_leading, has_dash, has_currency_sign, has_power_sign, \\\n",
    "            has_fraction_sign, has_date, has_dot, has_comma, has_domain, has_quantitative, has_slash, \\\n",
    "            has_currency_name, has_colon, has_measure]"
   ]
  },
  {
   "cell_type": "code",
   "execution_count": 27,
   "metadata": {},
   "outputs": [
    {
     "name": "stdout",
     "output_type": "stream",
     "text": [
      "Wall time: 8min 26s\n"
     ]
    }
   ],
   "source": [
    "%%time\n",
    "gen_data = train.before.apply(generate_features)\n",
    "gen_data = np.vstack(gen_data.values)"
   ]
  },
  {
   "cell_type": "code",
   "execution_count": 65,
   "metadata": {},
   "outputs": [
    {
     "name": "stdout",
     "output_type": "stream",
     "text": [
      "Wall time: 3min 30s\n"
     ]
    }
   ],
   "source": [
    "%%time\n",
    "features_no = len(generate_features(train.before.values[0]))\n",
    "gen_features = np.zeros((train.shape[0], features_no * 5), dtype = 'int8')\n",
    "\n",
    "lenghts = train.sentence_id.values\n",
    "_, lenghts = np.unique(lenghts, return_counts = True)\n",
    "lenghts = [[count] * count for count in lenghts]\n",
    "flat_lenghts = [item for sublist in lenghts for item in sublist]\n",
    "lenghts = np.array(flat_lenghts)\n",
    "\n",
    "token_ids = train.token_id.values\n",
    "\n",
    "for index in range(train.shape[0]):\n",
    "    sentence_length = lenghts[index] - 1\n",
    "    token_id = token_ids[index]\n",
    "    \n",
    "    for offset in range(-2, 3):\n",
    "        if token_id + offset < 0 or token_id + offset > sentence_length:\n",
    "            continue\n",
    "        gen_features[index + offset, ((-offset + 2) * features_no):((-offset + 3) * features_no)] = gen_data[index, :]"
   ]
  },
  {
   "cell_type": "code",
   "execution_count": 24,
   "metadata": {},
   "outputs": [],
   "source": [
    "sample_sizes = {\n",
    "    \"PUNCT\" : 25000,\n",
    "    \"PLAIN\" : 30000,\n",
    "    \"CARDINAL\" : 20000,\n",
    "    \"LETTERS\" : 20000,\n",
    "    \"DATE\" : 20000,\n",
    "    \"ORDINAL\" : 15000,\n",
    "    \"MEASURE\" : 15000\n",
    "}"
   ]
  },
  {
   "cell_type": "code",
   "execution_count": 106,
   "metadata": {},
   "outputs": [],
   "source": [
    "train.reset_index(inplace=True)"
   ]
  },
  {
   "cell_type": "code",
   "execution_count": 107,
   "metadata": {},
   "outputs": [
    {
     "name": "stdout",
     "output_type": "stream",
     "text": [
      "Wall time: 21.8 s\n"
     ]
    }
   ],
   "source": [
    "%%time\n",
    "train_data = pd.DataFrame(columns=train.columns)\n",
    "sample_max_size = 10000\n",
    "\n",
    "for c in train['class'].unique():\n",
    "    class_sample = train[train['class'] == c]\n",
    "    sample_size = sample_sizes[c] if c in sample_sizes else sample_max_size\n",
    "    if len(class_sample) > sample_max_size:\n",
    "        train_data = train_data.append(class_sample.sample(sample_size))\n",
    "    else:\n",
    "        train_data = train_data.append(class_sample)"
   ]
  },
  {
   "cell_type": "code",
   "execution_count": 108,
   "metadata": {},
   "outputs": [],
   "source": [
    "labels = train_data['class'].values\n",
    "train_indices = train_data.index.values\n",
    "train_data = np.take(gen_features, train_indices, axis=0)"
   ]
  },
  {
   "cell_type": "code",
   "execution_count": 109,
   "metadata": {},
   "outputs": [
    {
     "name": "stderr",
     "output_type": "stream",
     "text": [
      "D:\\Projects\\OCDBot\\thirdParty\\winpython\\python-3.5.4.amd64\\Lib\\site-packages\\sklearn\\utils\\validation.py:429: DataConversionWarning: Data with input dtype int8 was converted to float64 by StandardScaler.\n",
      "  warnings.warn(msg, _DataConversionWarning)\n"
     ]
    }
   ],
   "source": [
    "from sklearn.preprocessing import StandardScaler\n",
    "\n",
    "scaler = StandardScaler()\n",
    "train_data = scaler.fit_transform(train_data)"
   ]
  },
  {
   "cell_type": "code",
   "execution_count": 110,
   "metadata": {},
   "outputs": [],
   "source": [
    "from sklearn.preprocessing import LabelEncoder\n",
    "\n",
    "enc = LabelEncoder()\n",
    "labels = enc.fit_transform(labels)"
   ]
  },
  {
   "cell_type": "markdown",
   "metadata": {},
   "source": [
    "### Train XGBoost classifier"
   ]
  },
  {
   "cell_type": "code",
   "execution_count": 115,
   "metadata": {},
   "outputs": [],
   "source": [
    "xtr, xcv, ytr, ycv = train_test_split(train_data, labels, test_size = 0.1,  random_state = 42)"
   ]
  },
  {
   "cell_type": "code",
   "execution_count": 116,
   "metadata": {},
   "outputs": [],
   "source": [
    "train = xgb.DMatrix(xtr, label=ytr)\n",
    "dvalid = xgb.DMatrix(xcv, label=ycv)"
   ]
  },
  {
   "cell_type": "code",
   "execution_count": 123,
   "metadata": {},
   "outputs": [],
   "source": [
    "params = [(\"objective\", \"multi:softmax\"),\n",
    "          (\"num_class\", 15),\n",
    "          (\"booster\", \"gbtree\"),\n",
    "          (\"nthread\", 3),\n",
    "          (\"eta\", 0.01),\n",
    "          (\"max_depth\", 8),\n",
    "          (\"subsample\", 0.9),\n",
    "          (\"min_child_weight\", 1),\n",
    "          (\"colsample_bytree\", 0.7),\n",
    "          (\"eval_metric\", 'mlogloss'),\n",
    "          (\"eval_metric\", 'merror')\n",
    "         ]\n",
    "num_rounds = 2000\n",
    "stop = 40"
   ]
  },
  {
   "cell_type": "code",
   "execution_count": 120,
   "metadata": {},
   "outputs": [],
   "source": [
    "watchlist = [(dtrain, 'train'), (dvalid, 'valid')]"
   ]
  },
  {
   "cell_type": "code",
   "execution_count": null,
   "metadata": {
    "scrolled": true
   },
   "outputs": [
    {
     "name": "stdout",
     "output_type": "stream",
     "text": [
      "[0]\ttrain-mlogloss:2.63718\ttrain-merror:0.019889\tvalid-mlogloss:2.63695\tvalid-merror:0.017357\n",
      "Multiple eval metrics have been passed: 'valid-merror' will be used for early stopping.\n",
      "\n",
      "Will train until valid-merror hasn't improved in 40 rounds.\n",
      "[1]\ttrain-mlogloss:2.57272\ttrain-merror:0.013918\tvalid-mlogloss:2.5724\tvalid-merror:0.013192\n",
      "[2]\ttrain-mlogloss:2.51126\ttrain-merror:0.012839\tvalid-mlogloss:2.51095\tvalid-merror:0.011856\n",
      "[3]\ttrain-mlogloss:2.45333\ttrain-merror:0.011905\tvalid-mlogloss:2.45303\tvalid-merror:0.011109\n",
      "[4]\ttrain-mlogloss:2.39862\ttrain-merror:0.012049\tvalid-mlogloss:2.39833\tvalid-merror:0.011322\n",
      "[5]\ttrain-mlogloss:2.34873\ttrain-merror:0.011937\tvalid-mlogloss:2.3485\tvalid-merror:0.011322\n",
      "[6]\ttrain-mlogloss:2.29914\ttrain-merror:0.011878\tvalid-mlogloss:2.2989\tvalid-merror:0.011376\n",
      "[7]\ttrain-mlogloss:2.25245\ttrain-merror:0.011712\tvalid-mlogloss:2.25222\tvalid-merror:0.011109\n",
      "[8]\ttrain-mlogloss:2.20946\ttrain-merror:0.011477\tvalid-mlogloss:2.20931\tvalid-merror:0.010681\n",
      "[9]\ttrain-mlogloss:2.16718\ttrain-merror:0.011488\tvalid-mlogloss:2.16706\tvalid-merror:0.010575\n",
      "[10]\ttrain-mlogloss:2.12799\ttrain-merror:0.01152\tvalid-mlogloss:2.12792\tvalid-merror:0.010628\n",
      "[11]\ttrain-mlogloss:2.08913\ttrain-merror:0.011301\tvalid-mlogloss:2.08905\tvalid-merror:0.010361\n",
      "[12]\ttrain-mlogloss:2.05175\ttrain-merror:0.011152\tvalid-mlogloss:2.05172\tvalid-merror:0.010254\n",
      "[13]\ttrain-mlogloss:2.01575\ttrain-merror:0.01121\tvalid-mlogloss:2.01564\tvalid-merror:0.010414\n",
      "[14]\ttrain-mlogloss:1.98082\ttrain-merror:0.011173\tvalid-mlogloss:1.98066\tvalid-merror:0.010308\n",
      "[15]\ttrain-mlogloss:1.94729\ttrain-merror:0.011157\tvalid-mlogloss:1.94713\tvalid-merror:0.010628\n",
      "[16]\ttrain-mlogloss:1.91451\ttrain-merror:0.011253\tvalid-mlogloss:1.91441\tvalid-merror:0.011109\n",
      "[17]\ttrain-mlogloss:1.88315\ttrain-merror:0.011141\tvalid-mlogloss:1.88305\tvalid-merror:0.010895\n",
      "[18]\ttrain-mlogloss:1.85276\ttrain-merror:0.011152\tvalid-mlogloss:1.85264\tvalid-merror:0.010949\n",
      "[19]\ttrain-mlogloss:1.82377\ttrain-merror:0.011184\tvalid-mlogloss:1.82372\tvalid-merror:0.010949\n",
      "[20]\ttrain-mlogloss:1.79576\ttrain-merror:0.010986\tvalid-mlogloss:1.79568\tvalid-merror:0.010735\n",
      "[21]\ttrain-mlogloss:1.76815\ttrain-merror:0.011002\tvalid-mlogloss:1.76805\tvalid-merror:0.010788\n",
      "[22]\ttrain-mlogloss:1.74137\ttrain-merror:0.010965\tvalid-mlogloss:1.74128\tvalid-merror:0.010521\n",
      "[23]\ttrain-mlogloss:1.71488\ttrain-merror:0.011018\tvalid-mlogloss:1.7148\tvalid-merror:0.010628\n",
      "[24]\ttrain-mlogloss:1.68958\ttrain-merror:0.011066\tvalid-mlogloss:1.68951\tvalid-merror:0.010628\n",
      "[25]\ttrain-mlogloss:1.66455\ttrain-merror:0.010917\tvalid-mlogloss:1.66448\tvalid-merror:0.010575\n",
      "[26]\ttrain-mlogloss:1.64022\ttrain-merror:0.010901\tvalid-mlogloss:1.64016\tvalid-merror:0.010575\n",
      "[27]\ttrain-mlogloss:1.61683\ttrain-merror:0.010938\tvalid-mlogloss:1.61681\tvalid-merror:0.010681\n",
      "[28]\ttrain-mlogloss:1.59397\ttrain-merror:0.010858\tvalid-mlogloss:1.59395\tvalid-merror:0.010575\n",
      "[29]\ttrain-mlogloss:1.57151\ttrain-merror:0.01081\tvalid-mlogloss:1.57147\tvalid-merror:0.010361\n",
      "[30]\ttrain-mlogloss:1.54977\ttrain-merror:0.010826\tvalid-mlogloss:1.54972\tvalid-merror:0.010414\n",
      "[31]\ttrain-mlogloss:1.52844\ttrain-merror:0.010805\tvalid-mlogloss:1.5284\tvalid-merror:0.010308\n",
      "[32]\ttrain-mlogloss:1.50795\ttrain-merror:0.010778\tvalid-mlogloss:1.5079\tvalid-merror:0.010254\n",
      "[33]\ttrain-mlogloss:1.48765\ttrain-merror:0.010794\tvalid-mlogloss:1.4876\tvalid-merror:0.010254\n",
      "[34]\ttrain-mlogloss:1.46776\ttrain-merror:0.010767\tvalid-mlogloss:1.46771\tvalid-merror:0.010201\n",
      "[35]\ttrain-mlogloss:1.44826\ttrain-merror:0.010756\tvalid-mlogloss:1.44823\tvalid-merror:0.010201\n",
      "[36]\ttrain-mlogloss:1.42927\ttrain-merror:0.010719\tvalid-mlogloss:1.42924\tvalid-merror:0.010201\n",
      "[37]\ttrain-mlogloss:1.41123\ttrain-merror:0.010746\tvalid-mlogloss:1.41121\tvalid-merror:0.010254\n",
      "[38]\ttrain-mlogloss:1.39277\ttrain-merror:0.010687\tvalid-mlogloss:1.39274\tvalid-merror:0.010094\n",
      "[39]\ttrain-mlogloss:1.37507\ttrain-merror:0.010644\tvalid-mlogloss:1.37506\tvalid-merror:0.010147\n",
      "[40]\ttrain-mlogloss:1.35763\ttrain-merror:0.010644\tvalid-mlogloss:1.3576\tvalid-merror:0.010201\n",
      "[41]\ttrain-mlogloss:1.3404\ttrain-merror:0.010634\tvalid-mlogloss:1.34039\tvalid-merror:0.010094\n",
      "[42]\ttrain-mlogloss:1.32383\ttrain-merror:0.01057\tvalid-mlogloss:1.3238\tvalid-merror:0.010094\n",
      "[43]\ttrain-mlogloss:1.30727\ttrain-merror:0.010591\tvalid-mlogloss:1.30724\tvalid-merror:0.010147\n",
      "[44]\ttrain-mlogloss:1.29114\ttrain-merror:0.010543\tvalid-mlogloss:1.29112\tvalid-merror:0.010094\n",
      "[45]\ttrain-mlogloss:1.27539\ttrain-merror:0.010495\tvalid-mlogloss:1.27539\tvalid-merror:0.010094\n",
      "[46]\ttrain-mlogloss:1.25971\ttrain-merror:0.010452\tvalid-mlogloss:1.25972\tvalid-merror:0.009987\n",
      "[47]\ttrain-mlogloss:1.24436\ttrain-merror:0.010404\tvalid-mlogloss:1.24437\tvalid-merror:0.009934\n",
      "[48]\ttrain-mlogloss:1.22949\ttrain-merror:0.010441\tvalid-mlogloss:1.22945\tvalid-merror:0.00988\n",
      "[49]\ttrain-mlogloss:1.21461\ttrain-merror:0.010415\tvalid-mlogloss:1.21458\tvalid-merror:0.009934\n",
      "[50]\ttrain-mlogloss:1.2\ttrain-merror:0.010383\tvalid-mlogloss:1.19997\tvalid-merror:0.009934\n",
      "[51]\ttrain-mlogloss:1.18602\ttrain-merror:0.010377\tvalid-mlogloss:1.18597\tvalid-merror:0.009934\n",
      "[52]\ttrain-mlogloss:1.17194\ttrain-merror:0.01034\tvalid-mlogloss:1.17187\tvalid-merror:0.009827\n",
      "[53]\ttrain-mlogloss:1.15802\ttrain-merror:0.010308\tvalid-mlogloss:1.15793\tvalid-merror:0.009827\n",
      "[54]\ttrain-mlogloss:1.14453\ttrain-merror:0.010308\tvalid-mlogloss:1.14443\tvalid-merror:0.009827\n",
      "[55]\ttrain-mlogloss:1.13146\ttrain-merror:0.010308\tvalid-mlogloss:1.13134\tvalid-merror:0.00988\n",
      "[56]\ttrain-mlogloss:1.11855\ttrain-merror:0.010238\tvalid-mlogloss:1.11843\tvalid-merror:0.009774\n",
      "[57]\ttrain-mlogloss:1.10566\ttrain-merror:0.010196\tvalid-mlogloss:1.10554\tvalid-merror:0.00956\n",
      "[58]\ttrain-mlogloss:1.093\ttrain-merror:0.010158\tvalid-mlogloss:1.09287\tvalid-merror:0.009507\n",
      "[59]\ttrain-mlogloss:1.08053\ttrain-merror:0.010148\tvalid-mlogloss:1.08042\tvalid-merror:0.009507\n",
      "[60]\ttrain-mlogloss:1.06838\ttrain-merror:0.010148\tvalid-mlogloss:1.06827\tvalid-merror:0.009507\n",
      "[61]\ttrain-mlogloss:1.05649\ttrain-merror:0.010174\tvalid-mlogloss:1.05639\tvalid-merror:0.009613\n",
      "[62]\ttrain-mlogloss:1.04472\ttrain-merror:0.010212\tvalid-mlogloss:1.04462\tvalid-merror:0.00956\n",
      "[63]\ttrain-mlogloss:1.03295\ttrain-merror:0.010153\tvalid-mlogloss:1.03285\tvalid-merror:0.009507\n",
      "[64]\ttrain-mlogloss:1.02159\ttrain-merror:0.010148\tvalid-mlogloss:1.02148\tvalid-merror:0.009453\n",
      "[65]\ttrain-mlogloss:1.01018\ttrain-merror:0.010148\tvalid-mlogloss:1.01006\tvalid-merror:0.009453\n",
      "[66]\ttrain-mlogloss:0.998999\ttrain-merror:0.010105\tvalid-mlogloss:0.998882\tvalid-merror:0.0094\n",
      "[67]\ttrain-mlogloss:0.987988\ttrain-merror:0.010051\tvalid-mlogloss:0.987883\tvalid-merror:0.009186\n",
      "[68]\ttrain-mlogloss:0.977267\ttrain-merror:0.010051\tvalid-mlogloss:0.977161\tvalid-merror:0.009239\n",
      "[69]\ttrain-mlogloss:0.966608\ttrain-merror:0.010019\tvalid-mlogloss:0.966488\tvalid-merror:0.009133\n",
      "[70]\ttrain-mlogloss:0.956228\ttrain-merror:0.01003\tvalid-mlogloss:0.956114\tvalid-merror:0.009186\n",
      "[71]\ttrain-mlogloss:0.945853\ttrain-merror:0.01003\tvalid-mlogloss:0.945725\tvalid-merror:0.009133\n",
      "[72]\ttrain-mlogloss:0.935632\ttrain-merror:0.010003\tvalid-mlogloss:0.935487\tvalid-merror:0.009133\n",
      "[73]\ttrain-mlogloss:0.925531\ttrain-merror:0.009993\tvalid-mlogloss:0.925381\tvalid-merror:0.009133\n",
      "[74]\ttrain-mlogloss:0.915596\ttrain-merror:0.009993\tvalid-mlogloss:0.91543\tvalid-merror:0.009079\n",
      "[75]\ttrain-mlogloss:0.905791\ttrain-merror:0.009961\tvalid-mlogloss:0.905615\tvalid-merror:0.009026\n",
      "[76]\ttrain-mlogloss:0.896196\ttrain-merror:0.009955\tvalid-mlogloss:0.896008\tvalid-merror:0.009026\n",
      "[77]\ttrain-mlogloss:0.88675\ttrain-merror:0.009945\tvalid-mlogloss:0.886554\tvalid-merror:0.009026\n",
      "[78]\ttrain-mlogloss:0.877182\ttrain-merror:0.009955\tvalid-mlogloss:0.876977\tvalid-merror:0.009026\n",
      "[79]\ttrain-mlogloss:0.86777\ttrain-merror:0.009939\tvalid-mlogloss:0.867556\tvalid-merror:0.008866\n",
      "[80]\ttrain-mlogloss:0.858741\ttrain-merror:0.009955\tvalid-mlogloss:0.858521\tvalid-merror:0.008866\n",
      "[81]\ttrain-mlogloss:0.849676\ttrain-merror:0.009934\tvalid-mlogloss:0.849439\tvalid-merror:0.008866\n",
      "[82]\ttrain-mlogloss:0.840798\ttrain-merror:0.009934\tvalid-mlogloss:0.840538\tvalid-merror:0.008866\n",
      "[83]\ttrain-mlogloss:0.832098\ttrain-merror:0.009913\tvalid-mlogloss:0.83185\tvalid-merror:0.008866\n",
      "[84]\ttrain-mlogloss:0.823406\ttrain-merror:0.009918\tvalid-mlogloss:0.823161\tvalid-merror:0.008866\n"
     ]
    },
    {
     "name": "stdout",
     "output_type": "stream",
     "text": [
      "[85]\ttrain-mlogloss:0.814828\ttrain-merror:0.009907\tvalid-mlogloss:0.814577\tvalid-merror:0.008812\n",
      "[86]\ttrain-mlogloss:0.806355\ttrain-merror:0.009886\tvalid-mlogloss:0.806086\tvalid-merror:0.008812\n",
      "[87]\ttrain-mlogloss:0.798059\ttrain-merror:0.009886\tvalid-mlogloss:0.797786\tvalid-merror:0.008812\n",
      "[88]\ttrain-mlogloss:0.789882\ttrain-merror:0.009897\tvalid-mlogloss:0.789607\tvalid-merror:0.008919\n",
      "[89]\ttrain-mlogloss:0.781631\ttrain-merror:0.009891\tvalid-mlogloss:0.781351\tvalid-merror:0.008866\n",
      "[90]\ttrain-mlogloss:0.773625\ttrain-merror:0.009875\tvalid-mlogloss:0.77334\tvalid-merror:0.008866\n",
      "[91]\ttrain-mlogloss:0.765711\ttrain-merror:0.009859\tvalid-mlogloss:0.765419\tvalid-merror:0.008866\n",
      "[92]\ttrain-mlogloss:0.757846\ttrain-merror:0.009854\tvalid-mlogloss:0.757547\tvalid-merror:0.008812\n",
      "[93]\ttrain-mlogloss:0.750035\ttrain-merror:0.009854\tvalid-mlogloss:0.749728\tvalid-merror:0.008812\n",
      "[94]\ttrain-mlogloss:0.742424\ttrain-merror:0.009816\tvalid-mlogloss:0.742121\tvalid-merror:0.008759\n",
      "[95]\ttrain-mlogloss:0.734909\ttrain-merror:0.009731\tvalid-mlogloss:0.734594\tvalid-merror:0.008759\n",
      "[96]\ttrain-mlogloss:0.727476\ttrain-merror:0.009742\tvalid-mlogloss:0.727134\tvalid-merror:0.008759\n",
      "[97]\ttrain-mlogloss:0.720093\ttrain-merror:0.009731\tvalid-mlogloss:0.719745\tvalid-merror:0.008759\n",
      "[98]\ttrain-mlogloss:0.713024\ttrain-merror:0.009736\tvalid-mlogloss:0.712683\tvalid-merror:0.008812\n",
      "[99]\ttrain-mlogloss:0.705783\ttrain-merror:0.009731\tvalid-mlogloss:0.705445\tvalid-merror:0.008705\n",
      "[100]\ttrain-mlogloss:0.698717\ttrain-merror:0.009731\tvalid-mlogloss:0.698372\tvalid-merror:0.008759\n",
      "[101]\ttrain-mlogloss:0.691679\ttrain-merror:0.009704\tvalid-mlogloss:0.691325\tvalid-merror:0.008705\n",
      "[102]\ttrain-mlogloss:0.684821\ttrain-merror:0.009683\tvalid-mlogloss:0.684468\tvalid-merror:0.008705\n",
      "[103]\ttrain-mlogloss:0.677983\ttrain-merror:0.009678\tvalid-mlogloss:0.677624\tvalid-merror:0.008705\n",
      "[104]\ttrain-mlogloss:0.671426\ttrain-merror:0.009672\tvalid-mlogloss:0.67106\tvalid-merror:0.008705\n",
      "[105]\ttrain-mlogloss:0.664731\ttrain-merror:0.009683\tvalid-mlogloss:0.664362\tvalid-merror:0.008759\n",
      "[106]\ttrain-mlogloss:0.658075\ttrain-merror:0.009683\tvalid-mlogloss:0.657702\tvalid-merror:0.008759\n",
      "[107]\ttrain-mlogloss:0.651497\ttrain-merror:0.009704\tvalid-mlogloss:0.65112\tvalid-merror:0.008759\n",
      "[108]\ttrain-mlogloss:0.64512\ttrain-merror:0.009704\tvalid-mlogloss:0.644736\tvalid-merror:0.008759\n",
      "[109]\ttrain-mlogloss:0.638857\ttrain-merror:0.009688\tvalid-mlogloss:0.638467\tvalid-merror:0.008705\n",
      "[110]\ttrain-mlogloss:0.632571\ttrain-merror:0.009678\tvalid-mlogloss:0.632176\tvalid-merror:0.008652\n",
      "[111]\ttrain-mlogloss:0.626536\ttrain-merror:0.009624\tvalid-mlogloss:0.626148\tvalid-merror:0.008599\n",
      "[112]\ttrain-mlogloss:0.620416\ttrain-merror:0.009651\tvalid-mlogloss:0.620023\tvalid-merror:0.008652\n",
      "[113]\ttrain-mlogloss:0.614325\ttrain-merror:0.009678\tvalid-mlogloss:0.613921\tvalid-merror:0.008705\n",
      "[114]\ttrain-mlogloss:0.608372\ttrain-merror:0.009672\tvalid-mlogloss:0.607966\tvalid-merror:0.008652\n",
      "[115]\ttrain-mlogloss:0.602443\ttrain-merror:0.009646\tvalid-mlogloss:0.602026\tvalid-merror:0.008599\n",
      "[116]\ttrain-mlogloss:0.59649\ttrain-merror:0.009608\tvalid-mlogloss:0.596071\tvalid-merror:0.008599\n",
      "[117]\ttrain-mlogloss:0.590704\ttrain-merror:0.009592\tvalid-mlogloss:0.590276\tvalid-merror:0.008652\n",
      "[118]\ttrain-mlogloss:0.585042\ttrain-merror:0.009608\tvalid-mlogloss:0.584599\tvalid-merror:0.008652\n",
      "[119]\ttrain-mlogloss:0.579325\ttrain-merror:0.009576\tvalid-mlogloss:0.578869\tvalid-merror:0.008652\n",
      "[120]\ttrain-mlogloss:0.573915\ttrain-merror:0.009603\tvalid-mlogloss:0.57346\tvalid-merror:0.008652\n",
      "[121]\ttrain-mlogloss:0.568311\ttrain-merror:0.009581\tvalid-mlogloss:0.567855\tvalid-merror:0.008599\n",
      "[122]\ttrain-mlogloss:0.562878\ttrain-merror:0.009565\tvalid-mlogloss:0.562417\tvalid-merror:0.008492\n"
     ]
    }
   ],
   "source": [
    "gbm = xgb.train(params, dtrain, num_rounds, evals=watchlist, early_stopping_rounds=stop)"
   ]
  },
  {
   "cell_type": "code",
   "execution_count": 53,
   "metadata": {},
   "outputs": [
    {
     "data": {
      "text/plain": [
       "9569.819195999999"
      ]
     },
     "execution_count": 53,
     "metadata": {},
     "output_type": "execute_result"
    }
   ],
   "source": [
    "(dtrain.num_row() + dvalid.num_row()) * 0.051111"
   ]
  },
  {
   "cell_type": "code",
   "execution_count": 64,
   "metadata": {},
   "outputs": [
    {
     "data": {
      "text/plain": [
       "6247"
      ]
     },
     "execution_count": 64,
     "metadata": {},
     "output_type": "execute_result"
    }
   ],
   "source": [
    "gc.collect()"
   ]
  },
  {
   "cell_type": "markdown",
   "metadata": {},
   "source": [
    "#### Predict and validate "
   ]
  },
  {
   "cell_type": "code",
   "execution_count": 57,
   "metadata": {},
   "outputs": [
    {
     "name": "stderr",
     "output_type": "stream",
     "text": [
      "D:\\Projects\\OCDBot\\thirdParty\\winpython\\python-3.5.4.amd64\\Lib\\site-packages\\sklearn\\utils\\validation.py:429: DataConversionWarning: Data with input dtype int32 was converted to float64 by StandardScaler.\n",
      "  warnings.warn(msg, _DataConversionWarning)\n"
     ]
    }
   ],
   "source": [
    "test_data = scaler.transform(gen_features)\n",
    "test_labels = enc.transform(train['class'].values)"
   ]
  },
  {
   "cell_type": "code",
   "execution_count": 58,
   "metadata": {},
   "outputs": [],
   "source": [
    "dtest = xgb.DMatrix(test_data, label=test_labels)"
   ]
  },
  {
   "cell_type": "code",
   "execution_count": 59,
   "metadata": {},
   "outputs": [],
   "source": [
    "predictions = gbm.predict(dtest)"
   ]
  },
  {
   "cell_type": "code",
   "execution_count": 60,
   "metadata": {},
   "outputs": [
    {
     "data": {
      "text/plain": [
       "0.99012823394692573"
      ]
     },
     "execution_count": 60,
     "metadata": {},
     "output_type": "execute_result"
    }
   ],
   "source": [
    "from sklearn.metrics import accuracy_score\n",
    "\n",
    "accuracy_score(predictions, test_labels)"
   ]
  },
  {
   "cell_type": "code",
   "execution_count": 61,
   "metadata": {},
   "outputs": [
    {
     "data": {
      "text/plain": [
       "104389"
      ]
     },
     "execution_count": 61,
     "metadata": {},
     "output_type": "execute_result"
    }
   ],
   "source": [
    "np.sum(predictions != test_labels)"
   ]
  },
  {
   "cell_type": "code",
   "execution_count": 62,
   "metadata": {},
   "outputs": [],
   "source": [
    "train['predicted_class'] = np.apply_along_axis((lambda x: enc.classes_[x]), 0, predictions.astype(np.uint8))"
   ]
  },
  {
   "cell_type": "code",
   "execution_count": 63,
   "metadata": {},
   "outputs": [],
   "source": [
    "prediction_errors = train[train['class'] != train['predicted_class']]['class'].value_counts()"
   ]
  },
  {
   "cell_type": "code",
   "execution_count": 64,
   "metadata": {},
   "outputs": [
    {
     "name": "stdout",
     "output_type": "stream",
     "text": [
      "           PLAIN        0.70%\n",
      "         LETTERS       11.19%\n",
      "         ORDINAL       41.32%\n",
      "        CARDINAL        4.10%\n",
      "            DATE        0.32%\n",
      "         MEASURE        1.13%\n",
      "       TELEPHONE        0.97%\n",
      "           PUNCT        0.00%\n",
      "           MONEY        1.15%\n",
      "      ELECTRONIC        0.26%\n",
      "         DECIMAL        0.21%\n",
      "            TIME        0.62%\n",
      "        VERBATIM        0.00%\n"
     ]
    }
   ],
   "source": [
    "for i in range(len(prediction_errors)):\n",
    "    print (\"{:>16}{:>12.2f}%\".format(prediction_errors.index[i], prediction_errors[i] * 100 / len(train[train['class'] == prediction_errors.index[i]])))"
   ]
  },
  {
   "cell_type": "code",
   "execution_count": 65,
   "metadata": {},
   "outputs": [
    {
     "data": {
      "text/plain": [
       "PLAIN         51379\n",
       "LETTERS       21211\n",
       "ORDINAL       19313\n",
       "CARDINAL      11175\n",
       "DATE            586\n",
       "MEASURE         458\n",
       "TELEPHONE        98\n",
       "PUNCT            91\n",
       "MONEY            31\n",
       "ELECTRONIC       15\n",
       "DECIMAL          15\n",
       "TIME             12\n",
       "VERBATIM          5\n",
       "Name: class, dtype: int64"
      ]
     },
     "execution_count": 65,
     "metadata": {},
     "output_type": "execute_result"
    }
   ],
   "source": [
    "prediction_errors"
   ]
  },
  {
   "cell_type": "code",
   "execution_count": 66,
   "metadata": {
    "scrolled": false
   },
   "outputs": [
    {
     "name": "stdout",
     "output_type": "stream",
     "text": [
      "Errors for class PLAIN:\n",
      "LETTERS       25168\n",
      "ORDINAL       13232\n",
      "PUNCT          6965\n",
      "VERBATIM       5935\n",
      "ELECTRONIC       79\n",
      "Name: predicted_class, dtype: int64\n",
      "\n",
      "\n",
      "\n",
      "Errors for class DATE:\n",
      "MEASURE       388\n",
      "TELEPHONE     124\n",
      "ORDINAL        43\n",
      "FRACTION       28\n",
      "ELECTRONIC      3\n",
      "Name: predicted_class, dtype: int64\n",
      "\n",
      "\n",
      "\n",
      "Errors for class PUNCT:\n",
      "TELEPHONE    91\n",
      "Name: predicted_class, dtype: int64\n",
      "\n",
      "\n",
      "\n",
      "Errors for class ORDINAL:\n",
      "CARDINAL    12242\n",
      "LETTERS      7058\n",
      "MEASURE         8\n",
      "PLAIN           5\n",
      "Name: predicted_class, dtype: int64\n",
      "\n",
      "\n",
      "\n",
      "Errors for class VERBATIM:\n",
      "PLAIN    5\n",
      "Name: predicted_class, dtype: int64\n",
      "\n",
      "\n",
      "\n",
      "Errors for class LETTERS:\n",
      "PLAIN         21199\n",
      "ELECTRONIC       12\n",
      "Name: predicted_class, dtype: int64\n",
      "\n",
      "\n",
      "\n",
      "Errors for class CARDINAL:\n",
      "LETTERS      7608\n",
      "ORDINAL      2977\n",
      "DECIMAL       259\n",
      "TELEPHONE     246\n",
      "PLAIN          80\n",
      "DIGIT           5\n",
      "Name: predicted_class, dtype: int64\n",
      "\n",
      "\n",
      "\n",
      "Errors for class MEASURE:\n",
      "DATE          231\n",
      "MONEY          81\n",
      "DECIMAL        80\n",
      "ORDINAL        53\n",
      "LETTERS         7\n",
      "FRACTION        5\n",
      "ELECTRONIC      1\n",
      "Name: predicted_class, dtype: int64\n",
      "\n",
      "\n",
      "\n",
      "Errors for class TELEPHONE:\n",
      "CARDINAL    54\n",
      "ORDINAL     15\n",
      "DATE        12\n",
      "MEASURE      9\n",
      "DECIMAL      6\n",
      "MONEY        2\n",
      "Name: predicted_class, dtype: int64\n",
      "\n",
      "\n",
      "\n",
      "Errors for class ELECTRONIC:\n",
      "PLAIN    10\n",
      "DATE      4\n",
      "TIME      1\n",
      "Name: predicted_class, dtype: int64\n",
      "\n",
      "\n",
      "\n",
      "Errors for class DECIMAL:\n",
      "MEASURE    13\n",
      "MONEY       2\n",
      "Name: predicted_class, dtype: int64\n",
      "\n",
      "\n",
      "\n",
      "Errors for class DIGIT:\n",
      "Series([], Name: predicted_class, dtype: int64)\n",
      "\n",
      "\n",
      "\n",
      "Errors for class FRACTION:\n",
      "Series([], Name: predicted_class, dtype: int64)\n",
      "\n",
      "\n",
      "\n",
      "Errors for class MONEY:\n",
      "MEASURE       18\n",
      "LETTERS        7\n",
      "DECIMAL        3\n",
      "ELECTRONIC     2\n",
      "TELEPHONE      1\n",
      "Name: predicted_class, dtype: int64\n",
      "\n",
      "\n",
      "\n",
      "Errors for class TIME:\n",
      "LETTERS       9\n",
      "ELECTRONIC    2\n",
      "MEASURE       1\n",
      "Name: predicted_class, dtype: int64\n",
      "\n",
      "\n",
      "\n"
     ]
    }
   ],
   "source": [
    "for c in train['class'].unique():\n",
    "    print (\"Errors for class {}:\".format(c))\n",
    "    print (train[(train['class'] == c) & (train['class'] != train['predicted_class'])]['predicted_class'].value_counts())\n",
    "    print (\"\\n\" * 2)"
   ]
  },
  {
   "cell_type": "code",
   "execution_count": null,
   "metadata": {},
   "outputs": [],
   "source": []
  }
 ],
 "metadata": {
  "kernelspec": {
   "display_name": "Python 3",
   "language": "python",
   "name": "python3"
  },
  "language_info": {
   "codemirror_mode": {
    "name": "ipython",
    "version": 3
   },
   "file_extension": ".py",
   "mimetype": "text/x-python",
   "name": "python",
   "nbconvert_exporter": "python",
   "pygments_lexer": "ipython3",
   "version": "3.5.4"
  }
 },
 "nbformat": 4,
 "nbformat_minor": 2
}
