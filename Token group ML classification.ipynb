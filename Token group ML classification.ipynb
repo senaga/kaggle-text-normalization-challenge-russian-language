{
 "cells": [
  {
   "cell_type": "code",
   "execution_count": 1,
   "metadata": {},
   "outputs": [],
   "source": [
    "import numpy as np\n",
    "import pandas as pd\n",
    "\n",
    "import string\n",
    "import re\n",
    "import gc"
   ]
  },
  {
   "cell_type": "code",
   "execution_count": 2,
   "metadata": {},
   "outputs": [
    {
     "name": "stderr",
     "output_type": "stream",
     "text": [
      "D:\\Projects\\OCDBot\\thirdParty\\winpython\\python-3.5.4.amd64\\Lib\\site-packages\\sklearn\\cross_validation.py:44: DeprecationWarning: This module was deprecated in version 0.18 in favor of the model_selection module into which all the refactored classes and functions are moved. Also note that the interface of the new CV iterators are different from that of this module. This module will be removed in 0.20.\n",
      "  \"This module will be removed in 0.20.\", DeprecationWarning)\n"
     ]
    }
   ],
   "source": [
    "import xgboost as xgb\n",
    "from sklearn.model_selection import train_test_split"
   ]
  },
  {
   "cell_type": "code",
   "execution_count": 3,
   "metadata": {},
   "outputs": [],
   "source": [
    "train = pd.read_csv('data/train.csv', encoding='utf-8')\n",
    "train.dropna(inplace=True)\n",
    "train = train[train.sentence_id != 492799]"
   ]
  },
  {
   "cell_type": "code",
   "execution_count": 4,
   "metadata": {},
   "outputs": [
    {
     "data": {
      "text/plain": [
       "array(['PLAIN', 'DATE', 'PUNCT', 'ORDINAL', 'VERBATIM', 'LETTERS',\n",
       "       'CARDINAL', 'MEASURE', 'TELEPHONE', 'ELECTRONIC', 'DECIMAL',\n",
       "       'DIGIT', 'FRACTION', 'MONEY', 'TIME'], dtype=object)"
      ]
     },
     "execution_count": 4,
     "metadata": {},
     "output_type": "execute_result"
    }
   ],
   "source": [
    "train['class'].unique()"
   ]
  },
  {
   "cell_type": "code",
   "execution_count": 5,
   "metadata": {},
   "outputs": [],
   "source": [
    "punctuations = [s[0] for s in train[train['class'] == 'PUNCT']['before'].unique().tolist()]\n",
    "verbatims = train[train['class'] == 'VERBATIM'].query('after != before').before.unique().tolist()\n",
    "currencies = [u'¥', u'$', u'€', u'£']\n",
    "power_signs = [u'²', u'³']\n",
    "fraction_signs = [u'¼', u'½', u'¾', u'⅔', u'⅓']\n",
    "specials = list(set(string.punctuation) - set(punctuations) - set(currencies))\n",
    "date_signs = [u'январ', u'феврал', u'март', u'апрел', u'мая', u'май', u'июн', \\\n",
    "        u'июл', u'август', u'сентябр', u'октябр', u'ноябр', u'декабр', u'год']\n",
    "quantitatives = [u'тыс', u'млн', u'миллион', u'миллиард', u'млрд']\n",
    "measure_names = [u'см', u'км', u'%', u'с.', u'метров', u'мин', u'st', u'мм', \n",
    "                 u'кило', u'кг', u'м.', u'л.', u'т.', u'ярд', u' м']\n",
    "currency_names = [u'евро', u'руб', u'долл', u'гривен', u'гривн', u'usd', u'eur', u'юан', u'йен', u'cyp', u'php', u'bsd']"
   ]
  },
  {
   "cell_type": "code",
   "execution_count": 43,
   "metadata": {},
   "outputs": [],
   "source": [
    "def is_latin_letter(letter):\n",
    "    ord_letter = ord(letter)\n",
    "    return ord_letter >= 97 and ord_letter <= 122\n",
    "\n",
    "def is_rus_letter(letter):\n",
    "    ord_letter = ord(letter)\n",
    "    return ord_letter >= 1072 and ord_letter <= 1105\n",
    "\n",
    "def is_digit(letter):\n",
    "    ord_letter = ord(letter)\n",
    "    return ord_letter >= 48 and ord_letter <= 57\n",
    "\n",
    "def is_greek(letter):\n",
    "    ord_letter = ord(letter)\n",
    "    return ord_letter >= 945 and ord_letter <= 969\n",
    "\n",
    "def is_dash(letter):\n",
    "    return letter == u'—'\n",
    "\n",
    "def is_dot(letter):\n",
    "    return letter == u'.'\n",
    "\n",
    "def is_comma(letter):\n",
    "    return letter == u','\n",
    "\n",
    "def is_slash(letter):\n",
    "    return letter == u'/'\n",
    "\n",
    "def is_colon(letter):\n",
    "    return letter == u':'\n",
    "\n",
    "def is_hyphen(letter):\n",
    "    return letter == u'-'\n",
    "\n",
    "def is_date_in_word(word):\n",
    "    for d in date_signs:\n",
    "        if d in word:\n",
    "            return True\n",
    "    return False\n",
    "\n",
    "def is_measure_in_word(word):\n",
    "    for m in measure_names:\n",
    "        if m in word:\n",
    "            return True\n",
    "    return False\n",
    "\n",
    "def is_domain_in_word(word):\n",
    "    url_pattern = \"(([a-zA-Z0-9]+(-[a-zA-Z0-9]+)*\\.)+[a-z]{2,10})\"\n",
    "    return len(re.findall(url_pattern, word)) > 0\n",
    "\n",
    "def is_quantitative_in_word(word):\n",
    "    for d in quantitatives:\n",
    "        if d in word:\n",
    "            return True\n",
    "    return False\n",
    "\n",
    "def is_currency_name_in_word(word):\n",
    "    for c in currency_names:\n",
    "        if c in word:\n",
    "            return True\n",
    "    return False\n",
    "\n",
    "def generate_features(value):\n",
    "    \n",
    "    value = value.strip()\n",
    "    num_letters = len(value)\n",
    "    num_words = len(value.split(\" \"))\n",
    "    \n",
    "    rus_letters_num = 0\n",
    "    en_letters_num = 0\n",
    "    digits_num = 0\n",
    "    punctuations_num = 0\n",
    "    greek_letters_num = 0\n",
    "    other_letters_num = 0\n",
    "    special_letters_num = 0\n",
    "    whitespaces_num = 0\n",
    "    uppercase_num = 0\n",
    "    \n",
    "    has_dash = 0\n",
    "    has_currency_sign = 0\n",
    "    has_power_sign = 0\n",
    "    has_fraction_sign = 0\n",
    "    has_dot = 0\n",
    "    has_comma = 0\n",
    "    has_slash = 0\n",
    "    has_colon = 0\n",
    "    num_hyphens = 0\n",
    "\n",
    "    for l in value:\n",
    "        if l.isupper():\n",
    "            uppercase_num += 1\n",
    "        \n",
    "        l = l.lower()\n",
    "\n",
    "        if is_rus_letter(l):\n",
    "            rus_letters_num += 1\n",
    "        elif is_latin_letter(l):\n",
    "            en_letters_num += 1\n",
    "        elif is_digit(l):\n",
    "            digits_num += 1\n",
    "        elif is_greek(l):\n",
    "            greek_letters_num += 1\n",
    "        elif is_hyphen(l):\n",
    "            num_hyphens += 1\n",
    "        elif l in punctuations:\n",
    "            punctuations_num += 1\n",
    "        elif l in specials:\n",
    "            special_letters_num += 1\n",
    "        elif l.isspace():\n",
    "            whitespaces_num += 1\n",
    "        else:\n",
    "            other_letters_num += 1\n",
    "            \n",
    "        if is_dash(l):\n",
    "            has_dash = 1\n",
    "        elif is_dot(l):\n",
    "            has_dot = 1\n",
    "        elif is_comma(l):\n",
    "            has_comma = 1\n",
    "        elif is_slash(l):\n",
    "            has_slash = 1\n",
    "        elif is_colon(l):\n",
    "            has_colon = 1\n",
    "        elif l in currencies:\n",
    "            has_currency_sign = 1\n",
    "        elif l in power_signs:\n",
    "            has_power_sign = 1\n",
    "        elif l in fraction_signs:\n",
    "            has_fraction_sign = 1\n",
    "\n",
    "    value = value.lower()\n",
    "        \n",
    "    is_uppercase = 1 if num_letters == uppercase_num else 0\n",
    "    is_single_char = 1 if num_letters == 1 else 0\n",
    "    is_russian_only = 1 if num_letters == rus_letters_num else 0\n",
    "    is_english_only = 1 if num_letters == en_letters_num else 0\n",
    "    is_digits_only = 1 if num_letters == digits_num else 0\n",
    "    is_punctuation_only = 1 if num_letters == punctuations_num else 0\n",
    "    is_one_word = 1 if num_words == 1 else 0\n",
    "    \n",
    "    has_date = is_date_in_word(value)\n",
    "    has_measure = is_measure_in_word(value)\n",
    "    has_domain = is_domain_in_word(value)\n",
    "    has_quantitative = is_quantitative_in_word(value)\n",
    "    is_zero_leading = len(value) > 0 and value[0] == u'0'\n",
    "    has_currency_name = is_currency_name_in_word(value)\n",
    "    \n",
    "    return [num_letters, num_words, rus_letters_num, en_letters_num, digits_num, greek_letters_num, \\\n",
    "            other_letters_num, punctuations_num, uppercase_num, special_letters_num, num_hyphens, \\\n",
    "            is_russian_only, is_english_only, is_digits_only, is_punctuation_only, is_one_word, \\\n",
    "            is_uppercase, is_single_char, is_zero_leading, has_dash, has_currency_sign, has_power_sign, \\\n",
    "            has_fraction_sign, has_date, has_dot, has_comma, has_domain, has_quantitative, has_slash, \\\n",
    "            has_currency_name, has_colon, has_measure]"
   ]
  },
  {
   "cell_type": "code",
   "execution_count": 7,
   "metadata": {},
   "outputs": [],
   "source": [
    "sample_sizes = {\n",
    "    \"PUNCT\" : 25000,\n",
    "    \"PLAIN\" : 30000,\n",
    "    \"CARDINAL\" : 20000,\n",
    "    \"LETTERS\" : 20000,\n",
    "    \"DATE\" : 20000,\n",
    "    \"ORDINAL\" : 15000,\n",
    "    \"MEASURE\" : 15000\n",
    "}"
   ]
  },
  {
   "cell_type": "code",
   "execution_count": 44,
   "metadata": {},
   "outputs": [
    {
     "name": "stdout",
     "output_type": "stream",
     "text": [
      "Wall time: 20.9 s\n"
     ]
    }
   ],
   "source": [
    "%%time\n",
    "train_data = pd.DataFrame(columns=train.columns)\n",
    "sample_max_size = 10000\n",
    "\n",
    "for c in train['class'].unique():\n",
    "    class_sample = train[train['class'] == c]\n",
    "    sample_size = sample_sizes[c] if c in sample_sizes else sample_max_size\n",
    "    if len(class_sample) > sample_max_size:\n",
    "        train_data = train_data.append(class_sample.sample(sample_size))\n",
    "    else:\n",
    "        train_data = train_data.append(class_sample)"
   ]
  },
  {
   "cell_type": "code",
   "execution_count": 45,
   "metadata": {},
   "outputs": [
    {
     "name": "stdout",
     "output_type": "stream",
     "text": [
      "Wall time: 7.95 s\n"
     ]
    }
   ],
   "source": [
    "%%time\n",
    "labels = train_data['class']\n",
    "train_data = train_data.before.apply(generate_features)\n",
    "train_data = np.vstack(train_data.values)"
   ]
  },
  {
   "cell_type": "code",
   "execution_count": 46,
   "metadata": {},
   "outputs": [
    {
     "data": {
      "text/plain": [
       "(187236, 32)"
      ]
     },
     "execution_count": 46,
     "metadata": {},
     "output_type": "execute_result"
    }
   ],
   "source": [
    "train_data.shape"
   ]
  },
  {
   "cell_type": "code",
   "execution_count": 47,
   "metadata": {},
   "outputs": [
    {
     "name": "stderr",
     "output_type": "stream",
     "text": [
      "D:\\Projects\\OCDBot\\thirdParty\\winpython\\python-3.5.4.amd64\\Lib\\site-packages\\sklearn\\utils\\validation.py:429: DataConversionWarning: Data with input dtype int32 was converted to float64 by StandardScaler.\n",
      "  warnings.warn(msg, _DataConversionWarning)\n"
     ]
    }
   ],
   "source": [
    "from sklearn.preprocessing import StandardScaler\n",
    "\n",
    "scaler = StandardScaler()\n",
    "train_data = scaler.fit_transform(train_data)"
   ]
  },
  {
   "cell_type": "code",
   "execution_count": 48,
   "metadata": {},
   "outputs": [],
   "source": [
    "from sklearn.preprocessing import LabelEncoder\n",
    "\n",
    "enc = LabelEncoder()\n",
    "labels = enc.fit_transform(labels)"
   ]
  },
  {
   "cell_type": "markdown",
   "metadata": {},
   "source": [
    "#### Save XGBoost data "
   ]
  },
  {
   "cell_type": "code",
   "execution_count": 49,
   "metadata": {},
   "outputs": [],
   "source": [
    "xtr, xcv, ytr, ycv = train_test_split(train_data, labels, test_size = 0.1,  random_state = 42)"
   ]
  },
  {
   "cell_type": "code",
   "execution_count": 50,
   "metadata": {},
   "outputs": [],
   "source": [
    "dtrain = xgb.DMatrix(xtr, label=ytr)\n",
    "dvalid = xgb.DMatrix(xcv, label=ycv)"
   ]
  },
  {
   "cell_type": "code",
   "execution_count": 12,
   "metadata": {},
   "outputs": [],
   "source": [
    "dtrain.save_binary('dtrain.buffer')\n",
    "dvalid.save_binary('dvalid.buffer')"
   ]
  },
  {
   "cell_type": "markdown",
   "metadata": {},
   "source": [
    "#### Load XGBoost data "
   ]
  },
  {
   "cell_type": "code",
   "execution_count": 3,
   "metadata": {},
   "outputs": [],
   "source": [
    "dtrain = xgb.DMatrix('dtrain.buffer')\n",
    "dvalid = xgb.DMatrix('dvalid.buffer')"
   ]
  },
  {
   "cell_type": "code",
   "execution_count": 15,
   "metadata": {},
   "outputs": [],
   "source": [
    "params = [(\"objective\", \"multi:softmax\"),\n",
    "          (\"num_class\", 15),\n",
    "          (\"booster\", \"gbtree\"),\n",
    "          (\"nthread\", 3),\n",
    "          (\"eta\", 0.01),\n",
    "          (\"max_depth\", 6),\n",
    "          (\"subsample\", 0.9),\n",
    "          (\"min_child_weight\", 1),\n",
    "          (\"colsample_bytree\", 0.7),\n",
    "          (\"eval_metric\", 'mlogloss'),\n",
    "          (\"eval_metric\", 'merror')\n",
    "         ]\n",
    "num_rounds = 2000\n",
    "stop = 20"
   ]
  },
  {
   "cell_type": "code",
   "execution_count": 51,
   "metadata": {},
   "outputs": [],
   "source": [
    "watchlist = [(dtrain, 'train'), (dvalid, 'valid')]"
   ]
  },
  {
   "cell_type": "code",
   "execution_count": 52,
   "metadata": {},
   "outputs": [
    {
     "name": "stdout",
     "output_type": "stream",
     "text": [
      "[0]\ttrain-mlogloss:2.64238\ttrain-merror:0.060649\tvalid-mlogloss:2.64232\tvalid-merror:0.061312\n",
      "Multiple eval metrics have been passed: 'valid-merror' will be used for early stopping.\n",
      "\n",
      "Will train until valid-merror hasn't improved in 20 rounds.\n",
      "[1]\ttrain-mlogloss:2.58269\ttrain-merror:0.065366\tvalid-mlogloss:2.58243\tvalid-merror:0.065744\n",
      "[2]\ttrain-mlogloss:2.52449\ttrain-merror:0.057373\tvalid-mlogloss:2.52422\tvalid-merror:0.057146\n",
      "[3]\ttrain-mlogloss:2.47067\ttrain-merror:0.057836\tvalid-mlogloss:2.47039\tvalid-merror:0.057894\n",
      "[4]\ttrain-mlogloss:2.4195\ttrain-merror:0.057693\tvalid-mlogloss:2.41925\tvalid-merror:0.05736\n",
      "[5]\ttrain-mlogloss:2.37121\ttrain-merror:0.055503\tvalid-mlogloss:2.37098\tvalid-merror:0.054743\n",
      "[6]\ttrain-mlogloss:2.32412\ttrain-merror:0.05529\tvalid-mlogloss:2.32382\tvalid-merror:0.054529\n",
      "[7]\ttrain-mlogloss:2.28234\ttrain-merror:0.054204\tvalid-mlogloss:2.28193\tvalid-merror:0.053514\n",
      "[8]\ttrain-mlogloss:2.23983\ttrain-merror:0.054067\tvalid-mlogloss:2.2394\tvalid-merror:0.053034\n",
      "[9]\ttrain-mlogloss:2.19929\ttrain-merror:0.053527\tvalid-mlogloss:2.19879\tvalid-merror:0.052072\n",
      "[10]\ttrain-mlogloss:2.16041\ttrain-merror:0.053314\tvalid-mlogloss:2.1599\tvalid-merror:0.051912\n",
      "[11]\ttrain-mlogloss:2.1239\ttrain-merror:0.053213\tvalid-mlogloss:2.12341\tvalid-merror:0.052286\n",
      "[12]\ttrain-mlogloss:2.08813\ttrain-merror:0.05307\tvalid-mlogloss:2.08758\tvalid-merror:0.051752\n",
      "[13]\ttrain-mlogloss:2.05445\ttrain-merror:0.053041\tvalid-mlogloss:2.05395\tvalid-merror:0.052019\n",
      "[14]\ttrain-mlogloss:2.02145\ttrain-merror:0.053053\tvalid-mlogloss:2.0209\tvalid-merror:0.051805\n",
      "[15]\ttrain-mlogloss:1.98867\ttrain-merror:0.053041\tvalid-mlogloss:1.9881\tvalid-merror:0.051805\n",
      "[16]\ttrain-mlogloss:1.95878\ttrain-merror:0.053005\tvalid-mlogloss:1.95824\tvalid-merror:0.051645\n",
      "[17]\ttrain-mlogloss:1.92921\ttrain-merror:0.052952\tvalid-mlogloss:1.92865\tvalid-merror:0.051698\n",
      "[18]\ttrain-mlogloss:1.8996\ttrain-merror:0.052928\tvalid-mlogloss:1.89904\tvalid-merror:0.051645\n",
      "[19]\ttrain-mlogloss:1.87206\ttrain-merror:0.052875\tvalid-mlogloss:1.87142\tvalid-merror:0.051538\n",
      "[20]\ttrain-mlogloss:1.84486\ttrain-merror:0.052809\tvalid-mlogloss:1.84419\tvalid-merror:0.051485\n",
      "[21]\ttrain-mlogloss:1.81842\ttrain-merror:0.052762\tvalid-mlogloss:1.81769\tvalid-merror:0.051431\n",
      "[22]\ttrain-mlogloss:1.79261\ttrain-merror:0.052619\tvalid-mlogloss:1.79184\tvalid-merror:0.051485\n",
      "[23]\ttrain-mlogloss:1.76719\ttrain-merror:0.052815\tvalid-mlogloss:1.7664\tvalid-merror:0.051965\n",
      "[24]\ttrain-mlogloss:1.74256\ttrain-merror:0.052708\tvalid-mlogloss:1.74174\tvalid-merror:0.051698\n",
      "[25]\ttrain-mlogloss:1.71912\ttrain-merror:0.052744\tvalid-mlogloss:1.7183\tvalid-merror:0.051645\n",
      "[26]\ttrain-mlogloss:1.69619\ttrain-merror:0.052613\tvalid-mlogloss:1.69535\tvalid-merror:0.051271\n",
      "[27]\ttrain-mlogloss:1.67437\ttrain-merror:0.052584\tvalid-mlogloss:1.67355\tvalid-merror:0.051271\n",
      "[28]\ttrain-mlogloss:1.65229\ttrain-merror:0.052667\tvalid-mlogloss:1.65144\tvalid-merror:0.051325\n",
      "[29]\ttrain-mlogloss:1.63071\ttrain-merror:0.052548\tvalid-mlogloss:1.62988\tvalid-merror:0.051325\n",
      "[30]\ttrain-mlogloss:1.61047\ttrain-merror:0.052667\tvalid-mlogloss:1.60962\tvalid-merror:0.051805\n",
      "[31]\ttrain-mlogloss:1.59009\ttrain-merror:0.052625\tvalid-mlogloss:1.58923\tvalid-merror:0.051592\n",
      "[32]\ttrain-mlogloss:1.57003\ttrain-merror:0.052649\tvalid-mlogloss:1.56917\tvalid-merror:0.051645\n",
      "[33]\ttrain-mlogloss:1.55074\ttrain-merror:0.05237\tvalid-mlogloss:1.54993\tvalid-merror:0.051271\n",
      "[34]\ttrain-mlogloss:1.53146\ttrain-merror:0.052394\tvalid-mlogloss:1.53062\tvalid-merror:0.051271\n",
      "[35]\ttrain-mlogloss:1.51287\ttrain-merror:0.052281\tvalid-mlogloss:1.51202\tvalid-merror:0.051271\n",
      "[36]\ttrain-mlogloss:1.49519\ttrain-merror:0.052281\tvalid-mlogloss:1.49436\tvalid-merror:0.051218\n",
      "[37]\ttrain-mlogloss:1.47752\ttrain-merror:0.052257\tvalid-mlogloss:1.47666\tvalid-merror:0.051218\n",
      "[38]\ttrain-mlogloss:1.46049\ttrain-merror:0.052251\tvalid-mlogloss:1.45961\tvalid-merror:0.051111\n",
      "[39]\ttrain-mlogloss:1.44383\ttrain-merror:0.05221\tvalid-mlogloss:1.44294\tvalid-merror:0.051111\n",
      "[40]\ttrain-mlogloss:1.42691\ttrain-merror:0.052192\tvalid-mlogloss:1.42601\tvalid-merror:0.051111\n",
      "[41]\ttrain-mlogloss:1.41047\ttrain-merror:0.052186\tvalid-mlogloss:1.40954\tvalid-merror:0.051164\n",
      "[42]\ttrain-mlogloss:1.39414\ttrain-merror:0.052216\tvalid-mlogloss:1.39319\tvalid-merror:0.051164\n",
      "[43]\ttrain-mlogloss:1.37804\ttrain-merror:0.052168\tvalid-mlogloss:1.3771\tvalid-merror:0.051111\n",
      "[44]\ttrain-mlogloss:1.3625\ttrain-merror:0.052151\tvalid-mlogloss:1.36154\tvalid-merror:0.051111\n",
      "[45]\ttrain-mlogloss:1.34728\ttrain-merror:0.052139\tvalid-mlogloss:1.3463\tvalid-merror:0.051111\n",
      "[46]\ttrain-mlogloss:1.33252\ttrain-merror:0.052157\tvalid-mlogloss:1.33154\tvalid-merror:0.051111\n",
      "[47]\ttrain-mlogloss:1.31772\ttrain-merror:0.052139\tvalid-mlogloss:1.31674\tvalid-merror:0.051111\n",
      "[48]\ttrain-mlogloss:1.30326\ttrain-merror:0.052121\tvalid-mlogloss:1.30225\tvalid-merror:0.051111\n",
      "[49]\ttrain-mlogloss:1.28894\ttrain-merror:0.052127\tvalid-mlogloss:1.28791\tvalid-merror:0.051218\n",
      "[50]\ttrain-mlogloss:1.27504\ttrain-merror:0.052121\tvalid-mlogloss:1.27402\tvalid-merror:0.051218\n",
      "[51]\ttrain-mlogloss:1.26119\ttrain-merror:0.052097\tvalid-mlogloss:1.26019\tvalid-merror:0.051111\n",
      "[52]\ttrain-mlogloss:1.24785\ttrain-merror:0.052103\tvalid-mlogloss:1.24684\tvalid-merror:0.051111\n",
      "[53]\ttrain-mlogloss:1.2345\ttrain-merror:0.052097\tvalid-mlogloss:1.23348\tvalid-merror:0.051111\n",
      "[54]\ttrain-mlogloss:1.22134\ttrain-merror:0.052091\tvalid-mlogloss:1.22032\tvalid-merror:0.051111\n",
      "[55]\ttrain-mlogloss:1.20833\ttrain-merror:0.052091\tvalid-mlogloss:1.20731\tvalid-merror:0.051111\n",
      "[56]\ttrain-mlogloss:1.19596\ttrain-merror:0.052091\tvalid-mlogloss:1.19494\tvalid-merror:0.051111\n",
      "[57]\ttrain-mlogloss:1.18365\ttrain-merror:0.052085\tvalid-mlogloss:1.18263\tvalid-merror:0.051111\n",
      "[58]\ttrain-mlogloss:1.17138\ttrain-merror:0.052085\tvalid-mlogloss:1.17037\tvalid-merror:0.051111\n",
      "Stopping. Best iteration:\n",
      "[38]\ttrain-mlogloss:1.46049\ttrain-merror:0.052251\tvalid-mlogloss:1.45961\tvalid-merror:0.051111\n",
      "\n"
     ]
    }
   ],
   "source": [
    "gbm = xgb.train(params, dtrain, num_rounds, evals=watchlist, early_stopping_rounds=stop)"
   ]
  },
  {
   "cell_type": "code",
   "execution_count": 53,
   "metadata": {},
   "outputs": [
    {
     "data": {
      "text/plain": [
       "9569.819195999999"
      ]
     },
     "execution_count": 53,
     "metadata": {},
     "output_type": "execute_result"
    }
   ],
   "source": [
    "(dtrain.num_row() + dvalid.num_row()) * 0.051111"
   ]
  },
  {
   "cell_type": "code",
   "execution_count": 54,
   "metadata": {},
   "outputs": [
    {
     "data": {
      "text/plain": [
       "35"
      ]
     },
     "execution_count": 54,
     "metadata": {},
     "output_type": "execute_result"
    }
   ],
   "source": [
    "gc.collect()"
   ]
  },
  {
   "cell_type": "markdown",
   "metadata": {},
   "source": [
    "#### Predict and validate "
   ]
  },
  {
   "cell_type": "code",
   "execution_count": 55,
   "metadata": {},
   "outputs": [
    {
     "name": "stdout",
     "output_type": "stream",
     "text": [
      "Wall time: 7min 32s\n"
     ]
    }
   ],
   "source": [
    "%%time\n",
    "test_labels = train['class']\n",
    "test_data = train.before.apply(generate_features)\n",
    "test_data = np.vstack(test_data.values)"
   ]
  },
  {
   "cell_type": "code",
   "execution_count": 56,
   "metadata": {},
   "outputs": [
    {
     "data": {
      "text/plain": [
       "(10574501, 32)"
      ]
     },
     "execution_count": 56,
     "metadata": {},
     "output_type": "execute_result"
    }
   ],
   "source": [
    "test_data.shape"
   ]
  },
  {
   "cell_type": "code",
   "execution_count": 57,
   "metadata": {},
   "outputs": [
    {
     "name": "stderr",
     "output_type": "stream",
     "text": [
      "D:\\Projects\\OCDBot\\thirdParty\\winpython\\python-3.5.4.amd64\\Lib\\site-packages\\sklearn\\utils\\validation.py:429: DataConversionWarning: Data with input dtype int32 was converted to float64 by StandardScaler.\n",
      "  warnings.warn(msg, _DataConversionWarning)\n"
     ]
    }
   ],
   "source": [
    "test_data = scaler.transform(test_data)\n",
    "test_labels = enc.transform(test_labels)"
   ]
  },
  {
   "cell_type": "code",
   "execution_count": 58,
   "metadata": {},
   "outputs": [],
   "source": [
    "dtest = xgb.DMatrix(test_data, label=test_labels)"
   ]
  },
  {
   "cell_type": "code",
   "execution_count": 59,
   "metadata": {},
   "outputs": [],
   "source": [
    "predictions = gbm.predict(dtest)"
   ]
  },
  {
   "cell_type": "code",
   "execution_count": 60,
   "metadata": {},
   "outputs": [
    {
     "data": {
      "text/plain": [
       "0.99012823394692573"
      ]
     },
     "execution_count": 60,
     "metadata": {},
     "output_type": "execute_result"
    }
   ],
   "source": [
    "from sklearn.metrics import accuracy_score\n",
    "\n",
    "accuracy_score(predictions, test_labels)"
   ]
  },
  {
   "cell_type": "code",
   "execution_count": 61,
   "metadata": {},
   "outputs": [
    {
     "data": {
      "text/plain": [
       "104389"
      ]
     },
     "execution_count": 61,
     "metadata": {},
     "output_type": "execute_result"
    }
   ],
   "source": [
    "np.sum(predictions != test_labels)"
   ]
  },
  {
   "cell_type": "code",
   "execution_count": 62,
   "metadata": {},
   "outputs": [],
   "source": [
    "train['predicted_class'] = np.apply_along_axis((lambda x: enc.classes_[x]), 0, predictions.astype(np.uint8))"
   ]
  },
  {
   "cell_type": "code",
   "execution_count": 63,
   "metadata": {},
   "outputs": [],
   "source": [
    "prediction_errors = train[train['class'] != train['predicted_class']]['class'].value_counts()"
   ]
  },
  {
   "cell_type": "code",
   "execution_count": 64,
   "metadata": {},
   "outputs": [
    {
     "name": "stdout",
     "output_type": "stream",
     "text": [
      "           PLAIN        0.70%\n",
      "         LETTERS       11.19%\n",
      "         ORDINAL       41.32%\n",
      "        CARDINAL        4.10%\n",
      "            DATE        0.32%\n",
      "         MEASURE        1.13%\n",
      "       TELEPHONE        0.97%\n",
      "           PUNCT        0.00%\n",
      "           MONEY        1.15%\n",
      "      ELECTRONIC        0.26%\n",
      "         DECIMAL        0.21%\n",
      "            TIME        0.62%\n",
      "        VERBATIM        0.00%\n"
     ]
    }
   ],
   "source": [
    "for i in range(len(prediction_errors)):\n",
    "    print (\"{:>16}{:>12.2f}%\".format(prediction_errors.index[i], prediction_errors[i] * 100 / len(train[train['class'] == prediction_errors.index[i]])))"
   ]
  },
  {
   "cell_type": "code",
   "execution_count": 65,
   "metadata": {},
   "outputs": [
    {
     "data": {
      "text/plain": [
       "PLAIN         51379\n",
       "LETTERS       21211\n",
       "ORDINAL       19313\n",
       "CARDINAL      11175\n",
       "DATE            586\n",
       "MEASURE         458\n",
       "TELEPHONE        98\n",
       "PUNCT            91\n",
       "MONEY            31\n",
       "ELECTRONIC       15\n",
       "DECIMAL          15\n",
       "TIME             12\n",
       "VERBATIM          5\n",
       "Name: class, dtype: int64"
      ]
     },
     "execution_count": 65,
     "metadata": {},
     "output_type": "execute_result"
    }
   ],
   "source": [
    "prediction_errors"
   ]
  },
  {
   "cell_type": "code",
   "execution_count": 66,
   "metadata": {
    "scrolled": false
   },
   "outputs": [
    {
     "name": "stdout",
     "output_type": "stream",
     "text": [
      "Errors for class PLAIN:\n",
      "LETTERS       25168\n",
      "ORDINAL       13232\n",
      "PUNCT          6965\n",
      "VERBATIM       5935\n",
      "ELECTRONIC       79\n",
      "Name: predicted_class, dtype: int64\n",
      "\n",
      "\n",
      "\n",
      "Errors for class DATE:\n",
      "MEASURE       388\n",
      "TELEPHONE     124\n",
      "ORDINAL        43\n",
      "FRACTION       28\n",
      "ELECTRONIC      3\n",
      "Name: predicted_class, dtype: int64\n",
      "\n",
      "\n",
      "\n",
      "Errors for class PUNCT:\n",
      "TELEPHONE    91\n",
      "Name: predicted_class, dtype: int64\n",
      "\n",
      "\n",
      "\n",
      "Errors for class ORDINAL:\n",
      "CARDINAL    12242\n",
      "LETTERS      7058\n",
      "MEASURE         8\n",
      "PLAIN           5\n",
      "Name: predicted_class, dtype: int64\n",
      "\n",
      "\n",
      "\n",
      "Errors for class VERBATIM:\n",
      "PLAIN    5\n",
      "Name: predicted_class, dtype: int64\n",
      "\n",
      "\n",
      "\n",
      "Errors for class LETTERS:\n",
      "PLAIN         21199\n",
      "ELECTRONIC       12\n",
      "Name: predicted_class, dtype: int64\n",
      "\n",
      "\n",
      "\n",
      "Errors for class CARDINAL:\n",
      "LETTERS      7608\n",
      "ORDINAL      2977\n",
      "DECIMAL       259\n",
      "TELEPHONE     246\n",
      "PLAIN          80\n",
      "DIGIT           5\n",
      "Name: predicted_class, dtype: int64\n",
      "\n",
      "\n",
      "\n",
      "Errors for class MEASURE:\n",
      "DATE          231\n",
      "MONEY          81\n",
      "DECIMAL        80\n",
      "ORDINAL        53\n",
      "LETTERS         7\n",
      "FRACTION        5\n",
      "ELECTRONIC      1\n",
      "Name: predicted_class, dtype: int64\n",
      "\n",
      "\n",
      "\n",
      "Errors for class TELEPHONE:\n",
      "CARDINAL    54\n",
      "ORDINAL     15\n",
      "DATE        12\n",
      "MEASURE      9\n",
      "DECIMAL      6\n",
      "MONEY        2\n",
      "Name: predicted_class, dtype: int64\n",
      "\n",
      "\n",
      "\n",
      "Errors for class ELECTRONIC:\n",
      "PLAIN    10\n",
      "DATE      4\n",
      "TIME      1\n",
      "Name: predicted_class, dtype: int64\n",
      "\n",
      "\n",
      "\n",
      "Errors for class DECIMAL:\n",
      "MEASURE    13\n",
      "MONEY       2\n",
      "Name: predicted_class, dtype: int64\n",
      "\n",
      "\n",
      "\n",
      "Errors for class DIGIT:\n",
      "Series([], Name: predicted_class, dtype: int64)\n",
      "\n",
      "\n",
      "\n",
      "Errors for class FRACTION:\n",
      "Series([], Name: predicted_class, dtype: int64)\n",
      "\n",
      "\n",
      "\n",
      "Errors for class MONEY:\n",
      "MEASURE       18\n",
      "LETTERS        7\n",
      "DECIMAL        3\n",
      "ELECTRONIC     2\n",
      "TELEPHONE      1\n",
      "Name: predicted_class, dtype: int64\n",
      "\n",
      "\n",
      "\n",
      "Errors for class TIME:\n",
      "LETTERS       9\n",
      "ELECTRONIC    2\n",
      "MEASURE       1\n",
      "Name: predicted_class, dtype: int64\n",
      "\n",
      "\n",
      "\n"
     ]
    }
   ],
   "source": [
    "for c in train['class'].unique():\n",
    "    print (\"Errors for class {}:\".format(c))\n",
    "    print (train[(train['class'] == c) & (train['class'] != train['predicted_class'])]['predicted_class'].value_counts())\n",
    "    print (\"\\n\" * 2)"
   ]
  },
  {
   "cell_type": "code",
   "execution_count": null,
   "metadata": {},
   "outputs": [],
   "source": []
  }
 ],
 "metadata": {
  "kernelspec": {
   "display_name": "Python 3",
   "language": "python",
   "name": "python3"
  },
  "language_info": {
   "codemirror_mode": {
    "name": "ipython",
    "version": 3
   },
   "file_extension": ".py",
   "mimetype": "text/x-python",
   "name": "python",
   "nbconvert_exporter": "python",
   "pygments_lexer": "ipython3",
   "version": "3.5.4"
  }
 },
 "nbformat": 4,
 "nbformat_minor": 2
}
