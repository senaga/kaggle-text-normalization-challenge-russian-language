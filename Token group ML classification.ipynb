{
 "cells": [
  {
   "cell_type": "code",
   "execution_count": 1,
   "metadata": {},
   "outputs": [],
   "source": [
    "import numpy as np\n",
    "import pandas as pd\n",
    "\n",
    "import string\n",
    "import re\n",
    "import gc"
   ]
  },
  {
   "cell_type": "code",
   "execution_count": 2,
   "metadata": {},
   "outputs": [
    {
     "name": "stderr",
     "output_type": "stream",
     "text": [
      "D:\\Projects\\OCDBot\\thirdParty\\winpython\\python-3.5.4.amd64\\Lib\\site-packages\\sklearn\\cross_validation.py:44: DeprecationWarning: This module was deprecated in version 0.18 in favor of the model_selection module into which all the refactored classes and functions are moved. Also note that the interface of the new CV iterators are different from that of this module. This module will be removed in 0.20.\n",
      "  \"This module will be removed in 0.20.\", DeprecationWarning)\n"
     ]
    }
   ],
   "source": [
    "import xgboost as xgb\n",
    "from sklearn.model_selection import train_test_split"
   ]
  },
  {
   "cell_type": "code",
   "execution_count": 3,
   "metadata": {},
   "outputs": [],
   "source": [
    "train = pd.read_csv('data/train.csv', encoding='utf-8')\n",
    "train.dropna(inplace=True)\n",
    "train = train[train.sentence_id != 492799]"
   ]
  },
  {
   "cell_type": "code",
   "execution_count": 4,
   "metadata": {},
   "outputs": [
    {
     "data": {
      "text/plain": [
       "array(['PLAIN', 'DATE', 'PUNCT', 'ORDINAL', 'VERBATIM', 'LETTERS',\n",
       "       'CARDINAL', 'MEASURE', 'TELEPHONE', 'ELECTRONIC', 'DECIMAL',\n",
       "       'DIGIT', 'FRACTION', 'MONEY', 'TIME'], dtype=object)"
      ]
     },
     "execution_count": 4,
     "metadata": {},
     "output_type": "execute_result"
    }
   ],
   "source": [
    "train['class'].unique()"
   ]
  },
  {
   "cell_type": "code",
   "execution_count": 5,
   "metadata": {},
   "outputs": [],
   "source": [
    "punctuations = [s[0] for s in train[train['class'] == 'PUNCT']['before'].unique().tolist()]\n",
    "verbatims = train[train['class'] == 'VERBATIM'].query('after != before').before.unique().tolist()\n",
    "currencies = [u'¥', u'$', u'€', u'£']\n",
    "power_signs = [u'²', u'³']\n",
    "fraction_signs = [u'¼', u'½', u'¾', u'⅔', u'⅓']\n",
    "specials = list(set(string.punctuation) - set(punctuations) - set(currencies))\n",
    "date_signs = [u'январ', u'феврал', u'март', u'апрел', u'мая', u'май', u'июн', \\\n",
    "        u'июл', u'август', u'сентябр', u'октябр', u'ноябр', u'декабр', u'год']\n",
    "quantitatives = [u'тыс', u'млн', u'миллион', u'миллиард', u'млрд']\n",
    "measure_names = [u'см', u'км', u'%', u'с.', u'метров', u'мин', u'st', u'мм', \n",
    "                 u'кило', u'кг', u'м.', u'л.', u'т.', u'ярд', u' м']\n",
    "currency_names = [u'евро', u'руб', u'долл', u'гривен', u'гривн', u'usd', u'eur', u'юан', u'йен', u'cyp', u'php', u'bsd']"
   ]
  },
  {
   "cell_type": "code",
   "execution_count": 6,
   "metadata": {},
   "outputs": [],
   "source": [
    "def is_latin_letter(letter):\n",
    "    ord_letter = ord(letter)\n",
    "    return ord_letter >= 97 and ord_letter <= 122\n",
    "\n",
    "def is_rus_letter(letter):\n",
    "    ord_letter = ord(letter)\n",
    "    return ord_letter >= 1072 and ord_letter <= 1105\n",
    "\n",
    "def is_digit(letter):\n",
    "    ord_letter = ord(letter)\n",
    "    return ord_letter >= 48 and ord_letter <= 57\n",
    "\n",
    "def is_greek(letter):\n",
    "    ord_letter = ord(letter)\n",
    "    return ord_letter >= 945 and ord_letter <= 969\n",
    "\n",
    "def is_dash(letter):\n",
    "    return letter == u'—'\n",
    "\n",
    "def is_dot(letter):\n",
    "    return letter == u'.'\n",
    "\n",
    "def is_comma(letter):\n",
    "    return letter == u','\n",
    "\n",
    "def is_slash(letter):\n",
    "    return letter == u'/'\n",
    "\n",
    "def is_colon(letter):\n",
    "    return letter == u':'\n",
    "\n",
    "def is_date_in_word(word):\n",
    "    for d in date_signs:\n",
    "        if d in word:\n",
    "            return True\n",
    "    return False\n",
    "\n",
    "def is_measure_in_word(word):\n",
    "    for m in measure_names:\n",
    "        if m in word:\n",
    "            return True\n",
    "    return False\n",
    "\n",
    "def is_domain_in_word(word):\n",
    "    url_pattern = \"(([a-zA-Z0-9]+(-[a-zA-Z0-9]+)*\\.)+[a-z]{2,10})\"\n",
    "    return len(re.findall(url_pattern, word)) > 0\n",
    "\n",
    "def is_quantitative_in_word(word):\n",
    "    for d in quantitatives:\n",
    "        if d in word:\n",
    "            return True\n",
    "    return False\n",
    "\n",
    "def is_currency_name_in_word(word):\n",
    "    for c in currency_names:\n",
    "        if c in word:\n",
    "            return True\n",
    "    return False\n",
    "\n",
    "def generate_features(value):\n",
    "    \n",
    "    value = value.strip()\n",
    "    num_letters = len(value)\n",
    "    num_words = len(value.split(\" \"))\n",
    "    \n",
    "    rus_letters_num = 0\n",
    "    en_letters_num = 0\n",
    "    digits_num = 0\n",
    "    punctuations_num = 0\n",
    "    greek_letters_num = 0\n",
    "    other_letters_num = 0\n",
    "    special_letters_num = 0\n",
    "    whitespaces_num = 0\n",
    "    uppercase_num = 0\n",
    "    \n",
    "    has_dash = 0\n",
    "    has_currency_sign = 0\n",
    "    has_power_sign = 0\n",
    "    has_fraction_sign = 0\n",
    "    has_dot = 0\n",
    "    has_comma = 0\n",
    "    has_slash = 0\n",
    "    has_colon = 0\n",
    "\n",
    "    for l in value:\n",
    "        if l.isupper():\n",
    "            uppercase_num += 1\n",
    "        \n",
    "        l = l.lower()\n",
    "\n",
    "        if is_rus_letter(l):\n",
    "            rus_letters_num += 1\n",
    "        elif is_latin_letter(l):\n",
    "            en_letters_num += 1\n",
    "        elif is_digit(l):\n",
    "            digits_num += 1\n",
    "        elif is_greek(l):\n",
    "            greek_letters_num += 1\n",
    "        elif l in punctuations:\n",
    "            punctuations_num += 1\n",
    "        elif l in specials:\n",
    "            special_letters_num += 1\n",
    "        elif l.isspace():\n",
    "            whitespaces_num += 1\n",
    "        else:\n",
    "            other_letters_num += 1\n",
    "            \n",
    "        if is_dash(l):\n",
    "            has_dash = 1\n",
    "        elif is_dot(l):\n",
    "            has_dot = 1\n",
    "        elif is_comma(l):\n",
    "            has_comma = 1\n",
    "        elif is_slash(l):\n",
    "            has_slash = 1\n",
    "        elif is_colon(l):\n",
    "            has_colon = 1\n",
    "        elif l in currencies:\n",
    "            has_currency_sign = 1\n",
    "        elif l in power_signs:\n",
    "            has_power_sign = 1\n",
    "        elif l in fraction_signs:\n",
    "            has_fraction_sign = 1\n",
    "\n",
    "    value = value.lower()\n",
    "        \n",
    "    is_uppercase = 1 if num_letters == uppercase_num else 0\n",
    "    is_single_char = 1 if num_letters == 1 else 0\n",
    "    is_russian_only = 1 if num_letters == rus_letters_num else 0\n",
    "    is_english_only = 1 if num_letters == en_letters_num else 0\n",
    "    is_digits_only = 1 if num_letters == digits_num else 0\n",
    "    is_punctuation_only = 1 if num_letters == punctuations_num else 0\n",
    "    is_one_word = 1 if num_words == 1 else 0\n",
    "    \n",
    "    has_date = is_date_in_word(value)\n",
    "    has_measure = is_measure_in_word(value)\n",
    "    has_domain = is_domain_in_word(value)\n",
    "    has_quantitative = is_quantitative_in_word(value)\n",
    "    is_zero_leading = len(value) > 0 and value[0] == u'0'\n",
    "    has_currency_name = is_currency_name_in_word(value)\n",
    "    \n",
    "    return [num_letters, num_words, rus_letters_num, en_letters_num, digits_num, greek_letters_num, \\\n",
    "            other_letters_num, punctuations_num, uppercase_num, special_letters_num, \\\n",
    "            is_russian_only, is_english_only, is_digits_only, is_punctuation_only, is_one_word, \\\n",
    "            is_uppercase, is_single_char, is_zero_leading, has_dash, has_currency_sign, has_power_sign, \\\n",
    "            has_fraction_sign, has_date, has_dot, has_comma, has_domain, has_quantitative, has_slash, \\\n",
    "            has_currency_name, has_colon, has_measure]"
   ]
  },
  {
   "cell_type": "code",
   "execution_count": 7,
   "metadata": {},
   "outputs": [],
   "source": [
    "sample_sizes = {\n",
    "    \"PUNCT\" : 25000,\n",
    "    \"PLAIN\" : 30000,\n",
    "    \"CARDINAL\" : 20000,\n",
    "    \"LETTERS\" : 20000,\n",
    "    \"DATE\" : 20000,\n",
    "    \"ORDINAL\" : 15000,\n",
    "    \"MEASURE\" : 15000\n",
    "}"
   ]
  },
  {
   "cell_type": "code",
   "execution_count": 8,
   "metadata": {},
   "outputs": [
    {
     "name": "stdout",
     "output_type": "stream",
     "text": [
      "Wall time: 20.5 s\n"
     ]
    }
   ],
   "source": [
    "%%time\n",
    "train_data = pd.DataFrame(columns=train.columns)\n",
    "sample_max_size = 10000\n",
    "\n",
    "for c in train['class'].unique():\n",
    "    class_sample = train[train['class'] == c]\n",
    "    sample_size = sample_sizes[c] if c in sample_sizes else sample_max_size\n",
    "    if len(class_sample) > sample_max_size:\n",
    "        train_data = train_data.append(class_sample.sample(sample_size))\n",
    "    else:\n",
    "        train_data = train_data.append(class_sample)"
   ]
  },
  {
   "cell_type": "code",
   "execution_count": 9,
   "metadata": {},
   "outputs": [
    {
     "name": "stdout",
     "output_type": "stream",
     "text": [
      "Wall time: 7.85 s\n"
     ]
    }
   ],
   "source": [
    "%%time\n",
    "labels = train_data['class']\n",
    "train_data = train_data.before.apply(generate_features)\n",
    "train_data = np.vstack(train_data.values)"
   ]
  },
  {
   "cell_type": "code",
   "execution_count": 10,
   "metadata": {},
   "outputs": [
    {
     "data": {
      "text/plain": [
       "(187236, 31)"
      ]
     },
     "execution_count": 10,
     "metadata": {},
     "output_type": "execute_result"
    }
   ],
   "source": [
    "train_data.shape"
   ]
  },
  {
   "cell_type": "code",
   "execution_count": 11,
   "metadata": {},
   "outputs": [
    {
     "name": "stderr",
     "output_type": "stream",
     "text": [
      "D:\\Projects\\OCDBot\\thirdParty\\winpython\\python-3.5.4.amd64\\Lib\\site-packages\\sklearn\\utils\\validation.py:429: DataConversionWarning: Data with input dtype int32 was converted to float64 by StandardScaler.\n",
      "  warnings.warn(msg, _DataConversionWarning)\n"
     ]
    }
   ],
   "source": [
    "from sklearn.preprocessing import StandardScaler\n",
    "\n",
    "scaler = StandardScaler()\n",
    "train_data = scaler.fit_transform(train_data)"
   ]
  },
  {
   "cell_type": "code",
   "execution_count": 12,
   "metadata": {},
   "outputs": [],
   "source": [
    "from sklearn.preprocessing import LabelEncoder\n",
    "\n",
    "enc = LabelEncoder()\n",
    "labels = enc.fit_transform(labels)"
   ]
  },
  {
   "cell_type": "markdown",
   "metadata": {},
   "source": [
    "#### Save XGBoost data "
   ]
  },
  {
   "cell_type": "code",
   "execution_count": 13,
   "metadata": {},
   "outputs": [],
   "source": [
    "xtr, xcv, ytr, ycv = train_test_split(train_data, labels, test_size = 0.1,  random_state = 42)"
   ]
  },
  {
   "cell_type": "code",
   "execution_count": 14,
   "metadata": {},
   "outputs": [],
   "source": [
    "dtrain = xgb.DMatrix(xtr, label=ytr)\n",
    "dvalid = xgb.DMatrix(xcv, label=ycv)"
   ]
  },
  {
   "cell_type": "code",
   "execution_count": 12,
   "metadata": {},
   "outputs": [],
   "source": [
    "dtrain.save_binary('dtrain.buffer')\n",
    "dvalid.save_binary('dvalid.buffer')"
   ]
  },
  {
   "cell_type": "markdown",
   "metadata": {},
   "source": [
    "#### Load XGBoost data "
   ]
  },
  {
   "cell_type": "code",
   "execution_count": 3,
   "metadata": {},
   "outputs": [],
   "source": [
    "dtrain = xgb.DMatrix('dtrain.buffer')\n",
    "dvalid = xgb.DMatrix('dvalid.buffer')"
   ]
  },
  {
   "cell_type": "code",
   "execution_count": 15,
   "metadata": {},
   "outputs": [],
   "source": [
    "params = [(\"objective\", \"multi:softmax\"),\n",
    "          (\"num_class\", 15),\n",
    "          (\"booster\", \"gbtree\"),\n",
    "          (\"nthread\", 3),\n",
    "          (\"eta\", 0.01),\n",
    "          (\"max_depth\", 6),\n",
    "          (\"subsample\", 0.9),\n",
    "          (\"min_child_weight\", 1),\n",
    "          (\"colsample_bytree\", 0.7),\n",
    "          (\"eval_metric\", 'mlogloss'),\n",
    "          (\"eval_metric\", 'merror')\n",
    "         ]\n",
    "num_rounds = 2000\n",
    "stop = 20"
   ]
  },
  {
   "cell_type": "code",
   "execution_count": 16,
   "metadata": {},
   "outputs": [],
   "source": [
    "watchlist = [(dtrain, 'train'), (dvalid, 'valid')]"
   ]
  },
  {
   "cell_type": "code",
   "execution_count": 17,
   "metadata": {},
   "outputs": [
    {
     "name": "stdout",
     "output_type": "stream",
     "text": [
      "[0]\ttrain-mlogloss:2.64877\ttrain-merror:0.112146\tvalid-mlogloss:2.64882\tvalid-merror:0.113277\n",
      "Multiple eval metrics have been passed: 'valid-merror' will be used for early stopping.\n",
      "\n",
      "Will train until valid-merror hasn't improved in 20 rounds.\n",
      "[1]\ttrain-mlogloss:2.59323\ttrain-merror:0.103803\tvalid-mlogloss:2.59332\tvalid-merror:0.104518\n",
      "[2]\ttrain-mlogloss:2.53922\ttrain-merror:0.099595\tvalid-mlogloss:2.53939\tvalid-merror:0.100406\n",
      "[3]\ttrain-mlogloss:2.49066\ttrain-merror:0.099815\tvalid-mlogloss:2.49086\tvalid-merror:0.10094\n",
      "[4]\ttrain-mlogloss:2.44284\ttrain-merror:0.099939\tvalid-mlogloss:2.44321\tvalid-merror:0.101047\n",
      "[5]\ttrain-mlogloss:2.39694\ttrain-merror:0.099477\tvalid-mlogloss:2.39744\tvalid-merror:0.099979\n",
      "[6]\ttrain-mlogloss:2.35323\ttrain-merror:0.096456\tvalid-mlogloss:2.35378\tvalid-merror:0.097522\n",
      "[7]\ttrain-mlogloss:2.31079\ttrain-merror:0.096937\tvalid-mlogloss:2.31144\tvalid-merror:0.09827\n",
      "[8]\ttrain-mlogloss:2.27323\ttrain-merror:0.09661\tvalid-mlogloss:2.27373\tvalid-merror:0.097736\n",
      "[9]\ttrain-mlogloss:2.23494\ttrain-merror:0.096432\tvalid-mlogloss:2.23549\tvalid-merror:0.097522\n",
      "[10]\ttrain-mlogloss:2.19819\ttrain-merror:0.096569\tvalid-mlogloss:2.1988\tvalid-merror:0.097789\n",
      "[11]\ttrain-mlogloss:2.1637\ttrain-merror:0.096468\tvalid-mlogloss:2.16432\tvalid-merror:0.097736\n",
      "[12]\ttrain-mlogloss:2.1296\ttrain-merror:0.096355\tvalid-mlogloss:2.13028\tvalid-merror:0.097789\n",
      "[13]\ttrain-mlogloss:2.09731\ttrain-merror:0.096409\tvalid-mlogloss:2.09799\tvalid-merror:0.097789\n",
      "[14]\ttrain-mlogloss:2.06584\ttrain-merror:0.096325\tvalid-mlogloss:2.0666\tvalid-merror:0.097682\n",
      "[15]\ttrain-mlogloss:2.03568\ttrain-merror:0.095352\tvalid-mlogloss:2.03639\tvalid-merror:0.096667\n",
      "[16]\ttrain-mlogloss:2.00567\ttrain-merror:0.094705\tvalid-mlogloss:2.00642\tvalid-merror:0.096133\n",
      "[17]\ttrain-mlogloss:1.97694\ttrain-merror:0.094723\tvalid-mlogloss:1.97776\tvalid-merror:0.096133\n",
      "[18]\ttrain-mlogloss:1.94885\ttrain-merror:0.094777\tvalid-mlogloss:1.94969\tvalid-merror:0.09608\n",
      "[19]\ttrain-mlogloss:1.92226\ttrain-merror:0.094735\tvalid-mlogloss:1.92311\tvalid-merror:0.096133\n",
      "[20]\ttrain-mlogloss:1.89782\ttrain-merror:0.094878\tvalid-mlogloss:1.89866\tvalid-merror:0.09624\n",
      "[21]\ttrain-mlogloss:1.87285\ttrain-merror:0.094705\tvalid-mlogloss:1.87373\tvalid-merror:0.096026\n",
      "[22]\ttrain-mlogloss:1.84787\ttrain-merror:0.09467\tvalid-mlogloss:1.84878\tvalid-merror:0.09592\n",
      "[23]\ttrain-mlogloss:1.82387\ttrain-merror:0.09461\tvalid-mlogloss:1.82474\tvalid-merror:0.096026\n",
      "[24]\ttrain-mlogloss:1.80027\ttrain-merror:0.094652\tvalid-mlogloss:1.80118\tvalid-merror:0.096026\n",
      "[25]\ttrain-mlogloss:1.77712\ttrain-merror:0.094587\tvalid-mlogloss:1.77803\tvalid-merror:0.095866\n",
      "[26]\ttrain-mlogloss:1.75429\ttrain-merror:0.094587\tvalid-mlogloss:1.75524\tvalid-merror:0.096026\n",
      "[27]\ttrain-mlogloss:1.73253\ttrain-merror:0.094599\tvalid-mlogloss:1.73352\tvalid-merror:0.09592\n",
      "[28]\ttrain-mlogloss:1.71077\ttrain-merror:0.094539\tvalid-mlogloss:1.71177\tvalid-merror:0.095759\n",
      "[29]\ttrain-mlogloss:1.68972\ttrain-merror:0.094557\tvalid-mlogloss:1.69077\tvalid-merror:0.095706\n",
      "[30]\ttrain-mlogloss:1.67056\ttrain-merror:0.094575\tvalid-mlogloss:1.67157\tvalid-merror:0.096026\n",
      "[31]\ttrain-mlogloss:1.65105\ttrain-merror:0.094551\tvalid-mlogloss:1.65207\tvalid-merror:0.096026\n",
      "[32]\ttrain-mlogloss:1.63188\ttrain-merror:0.094533\tvalid-mlogloss:1.63295\tvalid-merror:0.096026\n",
      "[33]\ttrain-mlogloss:1.61283\ttrain-merror:0.094486\tvalid-mlogloss:1.61389\tvalid-merror:0.095706\n",
      "[34]\ttrain-mlogloss:1.5947\ttrain-merror:0.094504\tvalid-mlogloss:1.59576\tvalid-merror:0.095706\n",
      "[35]\ttrain-mlogloss:1.57653\ttrain-merror:0.094474\tvalid-mlogloss:1.57764\tvalid-merror:0.095653\n",
      "[36]\ttrain-mlogloss:1.55905\ttrain-merror:0.09448\tvalid-mlogloss:1.56014\tvalid-merror:0.095653\n",
      "[37]\ttrain-mlogloss:1.54209\ttrain-merror:0.09448\tvalid-mlogloss:1.54318\tvalid-merror:0.095653\n",
      "[38]\ttrain-mlogloss:1.52513\ttrain-merror:0.094468\tvalid-mlogloss:1.5262\tvalid-merror:0.095653\n",
      "[39]\ttrain-mlogloss:1.50849\ttrain-merror:0.094456\tvalid-mlogloss:1.50956\tvalid-merror:0.095653\n",
      "[40]\ttrain-mlogloss:1.49161\ttrain-merror:0.094456\tvalid-mlogloss:1.49268\tvalid-merror:0.095653\n",
      "[41]\ttrain-mlogloss:1.47528\ttrain-merror:0.094427\tvalid-mlogloss:1.4764\tvalid-merror:0.095653\n",
      "[42]\ttrain-mlogloss:1.45923\ttrain-merror:0.094409\tvalid-mlogloss:1.46038\tvalid-merror:0.095653\n",
      "[43]\ttrain-mlogloss:1.44373\ttrain-merror:0.094432\tvalid-mlogloss:1.44489\tvalid-merror:0.095653\n",
      "[44]\ttrain-mlogloss:1.42822\ttrain-merror:0.094462\tvalid-mlogloss:1.42938\tvalid-merror:0.095653\n",
      "[45]\ttrain-mlogloss:1.41344\ttrain-merror:0.094379\tvalid-mlogloss:1.41457\tvalid-merror:0.095653\n",
      "[46]\ttrain-mlogloss:1.39844\ttrain-merror:0.094403\tvalid-mlogloss:1.39961\tvalid-merror:0.095653\n",
      "[47]\ttrain-mlogloss:1.38447\ttrain-merror:0.094403\tvalid-mlogloss:1.38568\tvalid-merror:0.095653\n",
      "[48]\ttrain-mlogloss:1.37072\ttrain-merror:0.09445\tvalid-mlogloss:1.37194\tvalid-merror:0.095706\n",
      "[49]\ttrain-mlogloss:1.35675\ttrain-merror:0.094409\tvalid-mlogloss:1.35798\tvalid-merror:0.095653\n",
      "[50]\ttrain-mlogloss:1.34311\ttrain-merror:0.094415\tvalid-mlogloss:1.34435\tvalid-merror:0.095653\n",
      "[51]\ttrain-mlogloss:1.3294\ttrain-merror:0.094421\tvalid-mlogloss:1.33067\tvalid-merror:0.095653\n",
      "[52]\ttrain-mlogloss:1.31599\ttrain-merror:0.094432\tvalid-mlogloss:1.31727\tvalid-merror:0.095653\n",
      "[53]\ttrain-mlogloss:1.30323\ttrain-merror:0.094403\tvalid-mlogloss:1.30452\tvalid-merror:0.095653\n",
      "[54]\ttrain-mlogloss:1.29009\ttrain-merror:0.094397\tvalid-mlogloss:1.29139\tvalid-merror:0.095653\n",
      "[55]\ttrain-mlogloss:1.27748\ttrain-merror:0.094409\tvalid-mlogloss:1.27878\tvalid-merror:0.095653\n",
      "Stopping. Best iteration:\n",
      "[35]\ttrain-mlogloss:1.57653\ttrain-merror:0.094474\tvalid-mlogloss:1.57764\tvalid-merror:0.095653\n",
      "\n"
     ]
    }
   ],
   "source": [
    "gbm = xgb.train(params, dtrain, num_rounds, evals=watchlist, early_stopping_rounds=stop)"
   ]
  },
  {
   "cell_type": "code",
   "execution_count": 18,
   "metadata": {},
   "outputs": [
    {
     "data": {
      "text/plain": [
       "17909.685108"
      ]
     },
     "execution_count": 18,
     "metadata": {},
     "output_type": "execute_result"
    }
   ],
   "source": [
    "(dtrain.num_row() + dvalid.num_row()) * 0.095653"
   ]
  },
  {
   "cell_type": "code",
   "execution_count": 19,
   "metadata": {},
   "outputs": [
    {
     "data": {
      "text/plain": [
       "35"
      ]
     },
     "execution_count": 19,
     "metadata": {},
     "output_type": "execute_result"
    }
   ],
   "source": [
    "gc.collect()"
   ]
  },
  {
   "cell_type": "markdown",
   "metadata": {},
   "source": [
    "#### Predict and validate "
   ]
  },
  {
   "cell_type": "code",
   "execution_count": 21,
   "metadata": {},
   "outputs": [
    {
     "name": "stdout",
     "output_type": "stream",
     "text": [
      "Wall time: 7min 23s\n"
     ]
    }
   ],
   "source": [
    "%%time\n",
    "test_labels = train['class']\n",
    "test_data = train.before.apply(generate_features)\n",
    "test_data = np.vstack(test_data.values)"
   ]
  },
  {
   "cell_type": "code",
   "execution_count": 22,
   "metadata": {},
   "outputs": [
    {
     "data": {
      "text/plain": [
       "(10574501, 31)"
      ]
     },
     "execution_count": 22,
     "metadata": {},
     "output_type": "execute_result"
    }
   ],
   "source": [
    "test_data.shape"
   ]
  },
  {
   "cell_type": "code",
   "execution_count": 23,
   "metadata": {},
   "outputs": [
    {
     "name": "stderr",
     "output_type": "stream",
     "text": [
      "D:\\Projects\\OCDBot\\thirdParty\\winpython\\python-3.5.4.amd64\\Lib\\site-packages\\sklearn\\utils\\validation.py:429: DataConversionWarning: Data with input dtype int32 was converted to float64 by StandardScaler.\n",
      "  warnings.warn(msg, _DataConversionWarning)\n"
     ]
    }
   ],
   "source": [
    "test_data = scaler.transform(test_data)\n",
    "test_labels = enc.transform(test_labels)"
   ]
  },
  {
   "cell_type": "code",
   "execution_count": 24,
   "metadata": {},
   "outputs": [],
   "source": [
    "dtest = xgb.DMatrix(test_data, label=test_labels)"
   ]
  },
  {
   "cell_type": "code",
   "execution_count": 25,
   "metadata": {},
   "outputs": [],
   "source": [
    "predictions = gbm.predict(dtest)"
   ]
  },
  {
   "cell_type": "code",
   "execution_count": 26,
   "metadata": {},
   "outputs": [
    {
     "data": {
      "text/plain": [
       "0.97876429346406035"
      ]
     },
     "execution_count": 26,
     "metadata": {},
     "output_type": "execute_result"
    }
   ],
   "source": [
    "from sklearn.metrics import accuracy_score\n",
    "\n",
    "accuracy_score(predictions, test_labels)"
   ]
  },
  {
   "cell_type": "code",
   "execution_count": 27,
   "metadata": {},
   "outputs": [
    {
     "data": {
      "text/plain": [
       "224557"
      ]
     },
     "execution_count": 27,
     "metadata": {},
     "output_type": "execute_result"
    }
   ],
   "source": [
    "np.sum(predictions != test_labels)"
   ]
  },
  {
   "cell_type": "code",
   "execution_count": 28,
   "metadata": {},
   "outputs": [],
   "source": [
    "train['predicted_class'] = np.apply_along_axis((lambda x: enc.classes_[x]), 0, predictions.astype(np.uint8))"
   ]
  },
  {
   "cell_type": "code",
   "execution_count": 29,
   "metadata": {},
   "outputs": [],
   "source": [
    "prediction_errors = train[train['class'] != train['predicted_class']]['class'].value_counts()"
   ]
  },
  {
   "cell_type": "code",
   "execution_count": 30,
   "metadata": {},
   "outputs": [
    {
     "name": "stdout",
     "output_type": "stream",
     "text": [
      "        VERBATIM       77.19%\n",
      "           PLAIN        0.66%\n",
      "         LETTERS       11.23%\n",
      "         ORDINAL       41.32%\n",
      "        CARDINAL        4.34%\n",
      "            DATE        0.55%\n",
      "         MEASURE        1.33%\n",
      "           PUNCT        0.00%\n",
      "       TELEPHONE        0.79%\n",
      "           MONEY        1.45%\n",
      "         DECIMAL        0.37%\n",
      "      ELECTRONIC        0.31%\n",
      "            TIME        0.77%\n"
     ]
    }
   ],
   "source": [
    "for i in range(len(prediction_errors)):\n",
    "    print (\"{:>16}{:>12.2f}%\".format(prediction_errors.index[i], prediction_errors[i] * 100 / len(train[train['class'] == prediction_errors.index[i]])))"
   ]
  },
  {
   "cell_type": "code",
   "execution_count": 31,
   "metadata": {},
   "outputs": [
    {
     "data": {
      "text/plain": [
       "VERBATIM      121889\n",
       "PLAIN          48432\n",
       "LETTERS        21276\n",
       "ORDINAL        19310\n",
       "CARDINAL       11817\n",
       "DATE            1022\n",
       "MEASURE          541\n",
       "PUNCT             91\n",
       "TELEPHONE         80\n",
       "MONEY             39\n",
       "DECIMAL           27\n",
       "ELECTRONIC        18\n",
       "TIME              15\n",
       "Name: class, dtype: int64"
      ]
     },
     "execution_count": 31,
     "metadata": {},
     "output_type": "execute_result"
    }
   ],
   "source": [
    "prediction_errors"
   ]
  },
  {
   "cell_type": "code",
   "execution_count": 33,
   "metadata": {
    "scrolled": false
   },
   "outputs": [
    {
     "name": "stdout",
     "output_type": "stream",
     "text": [
      "Errors for class PLAIN:\n",
      "LETTERS       22221\n",
      "ORDINAL       13232\n",
      "PUNCT         12899\n",
      "ELECTRONIC       79\n",
      "VERBATIM          1\n",
      "Name: predicted_class, dtype: int64\n",
      "\n",
      "\n",
      "\n",
      "Errors for class DATE:\n",
      "MEASURE      575\n",
      "ORDINAL      206\n",
      "TELEPHONE    125\n",
      "FRACTION     116\n",
      "Name: predicted_class, dtype: int64\n",
      "\n",
      "\n",
      "\n",
      "Errors for class PUNCT:\n",
      "ELECTRONIC    91\n",
      "Name: predicted_class, dtype: int64\n",
      "\n",
      "\n",
      "\n",
      "Errors for class ORDINAL:\n",
      "CARDINAL    12242\n",
      "LETTERS      7058\n",
      "PLAIN           5\n",
      "MEASURE         3\n",
      "DATE            2\n",
      "Name: predicted_class, dtype: int64\n",
      "\n",
      "\n",
      "\n",
      "Errors for class VERBATIM:\n",
      "PUNCT    121884\n",
      "PLAIN         5\n",
      "Name: predicted_class, dtype: int64\n",
      "\n",
      "\n",
      "\n",
      "Errors for class LETTERS:\n",
      "PLAIN    21276\n",
      "Name: predicted_class, dtype: int64\n",
      "\n",
      "\n",
      "\n",
      "Errors for class CARDINAL:\n",
      "LETTERS      7608\n",
      "ORDINAL      2977\n",
      "TELEPHONE     879\n",
      "DECIMAL       266\n",
      "PLAIN          80\n",
      "DIGIT           5\n",
      "FRACTION        2\n",
      "Name: predicted_class, dtype: int64\n",
      "\n",
      "\n",
      "\n",
      "Errors for class MEASURE:\n",
      "DATE          344\n",
      "DECIMAL       100\n",
      "ORDINAL        80\n",
      "LETTERS         6\n",
      "CARDINAL        4\n",
      "FRACTION        3\n",
      "TELEPHONE       3\n",
      "ELECTRONIC      1\n",
      "Name: predicted_class, dtype: int64\n",
      "\n",
      "\n",
      "\n",
      "Errors for class TELEPHONE:\n",
      "CARDINAL    46\n",
      "MEASURE     14\n",
      "ORDINAL     10\n",
      "TIME         8\n",
      "MONEY        2\n",
      "Name: predicted_class, dtype: int64\n",
      "\n",
      "\n",
      "\n",
      "Errors for class ELECTRONIC:\n",
      "PLAIN    10\n",
      "DATE      7\n",
      "TIME      1\n",
      "Name: predicted_class, dtype: int64\n",
      "\n",
      "\n",
      "\n",
      "Errors for class DECIMAL:\n",
      "MEASURE      26\n",
      "TELEPHONE     1\n",
      "Name: predicted_class, dtype: int64\n",
      "\n",
      "\n",
      "\n",
      "Errors for class DIGIT:\n",
      "Series([], Name: predicted_class, dtype: int64)\n",
      "\n",
      "\n",
      "\n",
      "Errors for class FRACTION:\n",
      "Series([], Name: predicted_class, dtype: int64)\n",
      "\n",
      "\n",
      "\n",
      "Errors for class MONEY:\n",
      "MEASURE       21\n",
      "DECIMAL        5\n",
      "DATE           4\n",
      "ORDINAL        4\n",
      "LETTERS        3\n",
      "ELECTRONIC     2\n",
      "Name: predicted_class, dtype: int64\n",
      "\n",
      "\n",
      "\n",
      "Errors for class TIME:\n",
      "LETTERS       9\n",
      "DATE          4\n",
      "ELECTRONIC    1\n",
      "MEASURE       1\n",
      "Name: predicted_class, dtype: int64\n",
      "\n",
      "\n",
      "\n"
     ]
    }
   ],
   "source": [
    "for c in train['class'].unique():\n",
    "    print (\"Errors for class {}:\".format(c))\n",
    "    print (train[(train['class'] == c) & (train['class'] != train['predicted_class'])]['predicted_class'].value_counts())\n",
    "    print (\"\\n\" * 2)"
   ]
  },
  {
   "cell_type": "code",
   "execution_count": null,
   "metadata": {},
   "outputs": [],
   "source": []
  }
 ],
 "metadata": {
  "kernelspec": {
   "display_name": "Python 3",
   "language": "python",
   "name": "python3"
  },
  "language_info": {
   "codemirror_mode": {
    "name": "ipython",
    "version": 3
   },
   "file_extension": ".py",
   "mimetype": "text/x-python",
   "name": "python",
   "nbconvert_exporter": "python",
   "pygments_lexer": "ipython3",
   "version": "3.5.4"
  }
 },
 "nbformat": 4,
 "nbformat_minor": 2
}
