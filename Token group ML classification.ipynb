{
 "cells": [
  {
   "cell_type": "code",
   "execution_count": 1,
   "metadata": {},
   "outputs": [],
   "source": [
    "import numpy as np\n",
    "import pandas as pd\n",
    "\n",
    "import string\n",
    "import gc"
   ]
  },
  {
   "cell_type": "code",
   "execution_count": 2,
   "metadata": {},
   "outputs": [
    {
     "name": "stderr",
     "output_type": "stream",
     "text": [
      "D:\\Projects\\OCDBot\\thirdParty\\winpython\\python-3.5.4.amd64\\Lib\\site-packages\\sklearn\\cross_validation.py:44: DeprecationWarning: This module was deprecated in version 0.18 in favor of the model_selection module into which all the refactored classes and functions are moved. Also note that the interface of the new CV iterators are different from that of this module. This module will be removed in 0.20.\n",
      "  \"This module will be removed in 0.20.\", DeprecationWarning)\n"
     ]
    }
   ],
   "source": [
    "import xgboost as xgb\n",
    "from sklearn.model_selection import train_test_split"
   ]
  },
  {
   "cell_type": "code",
   "execution_count": 3,
   "metadata": {},
   "outputs": [],
   "source": [
    "train = pd.read_csv('data/train.csv', encoding='utf-8')\n",
    "train.dropna(inplace=True)\n",
    "train = train[train.sentence_id != 492799]"
   ]
  },
  {
   "cell_type": "code",
   "execution_count": 4,
   "metadata": {},
   "outputs": [],
   "source": [
    "punctuations = [s[0] for s in train[train['class'] == 'PUNCT']['before'].unique().tolist()]\n",
    "verbatims = train[train['class'] == 'VERBATIM'].query('after != before').before.unique().tolist()\n",
    "currencies = [u'¥', u'$', u'€', u'£']\n",
    "power_signs = [u'²', u'³']\n",
    "fraction_signs = [u'¼', u'½', u'¾', u'⅔', u'⅓']\n",
    "specials = list(set(string.punctuation) - set(punctuations) - set(currencies))"
   ]
  },
  {
   "cell_type": "code",
   "execution_count": 5,
   "metadata": {},
   "outputs": [],
   "source": [
    "def is_latin_letter(letter):\n",
    "    ord_letter = ord(letter)\n",
    "    return ord_letter >= 97 and ord_letter <= 122\n",
    "\n",
    "def is_rus_letter(letter):\n",
    "    ord_letter = ord(letter)\n",
    "    return ord_letter >= 1072 and ord_letter <= 1105\n",
    "\n",
    "def is_digit(letter):\n",
    "    ord_letter = ord(letter)\n",
    "    return ord_letter >= 48 and ord_letter <= 57\n",
    "\n",
    "def is_greek(letter):\n",
    "    ord_letter = ord(letter)\n",
    "    return ord_letter >= 945 and ord_letter <= 969\n",
    "\n",
    "def is_dash(letter):\n",
    "    return letter == u'—'\n",
    "\n",
    "def generate_features(value):\n",
    "    \n",
    "    value = value.strip()\n",
    "    num_letters = len(value)\n",
    "    num_words = len(value.split(\" \"))\n",
    "    \n",
    "    rus_letters_num = 0\n",
    "    en_letters_num = 0\n",
    "    digits_num = 0\n",
    "    punctuations_num = 0\n",
    "    greek_letters_num = 0\n",
    "    other_letters_num = 0\n",
    "    special_letters_num = 0\n",
    "    whitespaces_num = 0\n",
    "    uppercase_num = 0\n",
    "    \n",
    "    has_dash = 0\n",
    "    has_currency_sign = 0\n",
    "    has_power_sign = 0\n",
    "    has_fraction_sign = 0\n",
    "\n",
    "    for l in value:\n",
    "        if l.isupper():\n",
    "            uppercase_num += 1\n",
    "        \n",
    "        l = l.lower()\n",
    "\n",
    "        if is_rus_letter(l):\n",
    "            rus_letters_num += 1\n",
    "        elif is_latin_letter(l):\n",
    "            en_letters_num += 1\n",
    "        elif is_digit(l):\n",
    "            digits_num += 1\n",
    "        elif is_greek(l):\n",
    "            greek_letters_num += 1\n",
    "        elif l in punctuations:\n",
    "            punctuations_num += 1\n",
    "        elif l in specials:\n",
    "            special_letters_num += 1\n",
    "        elif l.isspace():\n",
    "            whitespaces_num += 1\n",
    "        else:\n",
    "            other_letters_num += 1\n",
    "            \n",
    "        if is_dash(l):\n",
    "            has_dash = 1\n",
    "        elif l in currencies:\n",
    "            has_currency_sign = 1\n",
    "        elif l in power_signs:\n",
    "            has_power_sign = 1\n",
    "        elif l in fraction_signs:\n",
    "            has_fraction_sign = 1\n",
    "        \n",
    "    is_uppercase = 1 if num_letters == uppercase_num else 0\n",
    "    is_lowercase = 1 if uppercase_num == 0 else 0\n",
    "    is_single_char = 1 if num_letters == 1 else 0\n",
    "    is_russian_only = 1 if num_letters == rus_letters_num else 0\n",
    "    is_english_only = 1 if num_letters == en_letters_num else 0\n",
    "    is_digits_only = 1 if num_letters == digits_num else 0\n",
    "    is_punctuation_only = 1 if num_letters == punctuations_num else 0\n",
    "    is_one_word = 1 if num_words == 1 else 0\n",
    "    \n",
    "    \n",
    "    return [num_letters, num_words, rus_letters_num, en_letters_num, digits_num, greek_letters_num, \\\n",
    "            other_letters_num, punctuations_num, uppercase_num, special_letters_num, \\\n",
    "            is_russian_only, is_english_only, is_digits_only, is_punctuation_only, is_one_word, \\\n",
    "            has_dash, has_currency_sign, has_power_sign, has_fraction_sign]"
   ]
  },
  {
   "cell_type": "code",
   "execution_count": 6,
   "metadata": {},
   "outputs": [
    {
     "name": "stdout",
     "output_type": "stream",
     "text": [
      "Wall time: 3min 56s\n"
     ]
    }
   ],
   "source": [
    "%%time\n",
    "train_data = train.before.apply(generate_features)\n",
    "train_data = np.vstack(train_data.values)"
   ]
  },
  {
   "cell_type": "code",
   "execution_count": 7,
   "metadata": {},
   "outputs": [
    {
     "data": {
      "text/plain": [
       "(10574501, 19)"
      ]
     },
     "execution_count": 7,
     "metadata": {},
     "output_type": "execute_result"
    }
   ],
   "source": [
    "train_data.shape"
   ]
  },
  {
   "cell_type": "code",
   "execution_count": 8,
   "metadata": {},
   "outputs": [
    {
     "name": "stderr",
     "output_type": "stream",
     "text": [
      "D:\\Projects\\OCDBot\\thirdParty\\winpython\\python-3.5.4.amd64\\Lib\\site-packages\\sklearn\\utils\\validation.py:429: DataConversionWarning: Data with input dtype int32 was converted to float64 by StandardScaler.\n",
      "  warnings.warn(msg, _DataConversionWarning)\n"
     ]
    }
   ],
   "source": [
    "from sklearn.preprocessing import StandardScaler\n",
    "\n",
    "scaler = StandardScaler()\n",
    "train_data = scaler.fit_transform(train_data)"
   ]
  },
  {
   "cell_type": "code",
   "execution_count": 9,
   "metadata": {},
   "outputs": [],
   "source": [
    "from sklearn.preprocessing import LabelEncoder\n",
    "\n",
    "enc = LabelEncoder()\n",
    "labels = enc.fit_transform(train['class'])"
   ]
  },
  {
   "cell_type": "markdown",
   "metadata": {},
   "source": [
    "#### Save XGBoost data "
   ]
  },
  {
   "cell_type": "code",
   "execution_count": 10,
   "metadata": {},
   "outputs": [],
   "source": [
    "xtr, xcv, ytr, ycv = train_test_split(train_data, labels, test_size = 0.05,  random_state = 42)"
   ]
  },
  {
   "cell_type": "code",
   "execution_count": 11,
   "metadata": {},
   "outputs": [],
   "source": [
    "dtrain = xgb.DMatrix(xtr, label=ytr)\n",
    "dvalid = xgb.DMatrix(xcv, label=ycv)"
   ]
  },
  {
   "cell_type": "code",
   "execution_count": 12,
   "metadata": {},
   "outputs": [],
   "source": [
    "dtrain.save_binary('dtrain.buffer')\n",
    "dvalid.save_binary('dvalid.buffer')"
   ]
  },
  {
   "cell_type": "markdown",
   "metadata": {},
   "source": [
    "#### Load XGBoost data "
   ]
  },
  {
   "cell_type": "code",
   "execution_count": 3,
   "metadata": {},
   "outputs": [],
   "source": [
    "dtrain = xgb.DMatrix('dtrain.buffer')\n",
    "dvalid = xgb.DMatrix('dvalid.buffer')"
   ]
  },
  {
   "cell_type": "code",
   "execution_count": 4,
   "metadata": {},
   "outputs": [],
   "source": [
    "params = [(\"objective\", \"multi:softmax\"),\n",
    "          (\"num_class\", 15),\n",
    "          (\"booster\", \"gbtree\"),\n",
    "          (\"nthread\", 2),\n",
    "          (\"eta\", 0.1),\n",
    "          (\"max_depth\", 4),\n",
    "          (\"subsample\", 0.9),\n",
    "          (\"min_child_weight\", 1),\n",
    "          (\"colsample_bytree\", 0.7),\n",
    "          (\"eval_metric\", 'mlogloss'),\n",
    "          (\"eval_metric\", 'merror')\n",
    "         ]\n",
    "num_rounds = 1000\n",
    "stop = 20"
   ]
  },
  {
   "cell_type": "code",
   "execution_count": 5,
   "metadata": {},
   "outputs": [],
   "source": [
    "watchlist = [(dtrain, 'train'), (dvalid, 'valid')]"
   ]
  },
  {
   "cell_type": "code",
   "execution_count": null,
   "metadata": {},
   "outputs": [
    {
     "name": "stdout",
     "output_type": "stream",
     "text": [
      "[0]\ttrain-mlogloss:2.05513\ttrain-merror:0.025821\tvalid-mlogloss:2.05536\tvalid-merror:0.026106\n",
      "Multiple eval metrics have been passed: 'valid-merror' will be used for early stopping.\n",
      "\n",
      "Will train until valid-merror hasn't improved in 20 rounds.\n",
      "[1]\ttrain-mlogloss:1.70408\ttrain-merror:0.025505\tvalid-mlogloss:1.70443\tvalid-merror:0.025781\n",
      "[2]\ttrain-mlogloss:1.46555\ttrain-merror:0.022404\tvalid-mlogloss:1.46598\tvalid-merror:0.022766\n",
      "[3]\ttrain-mlogloss:1.28203\ttrain-merror:0.022533\tvalid-mlogloss:1.28253\tvalid-merror:0.022885\n",
      "[4]\ttrain-mlogloss:1.13586\ttrain-merror:0.022831\tvalid-mlogloss:1.1364\tvalid-merror:0.023165\n",
      "[5]\ttrain-mlogloss:1.01307\ttrain-merror:0.022797\tvalid-mlogloss:1.01366\tvalid-merror:0.023131\n",
      "[6]\ttrain-mlogloss:0.91079\ttrain-merror:0.022724\tvalid-mlogloss:0.91141\tvalid-merror:0.023031\n",
      "[7]\ttrain-mlogloss:0.820956\ttrain-merror:0.022671\tvalid-mlogloss:0.821625\tvalid-merror:0.022963\n",
      "[8]\ttrain-mlogloss:0.743227\ttrain-merror:0.022631\tvalid-mlogloss:0.743935\tvalid-merror:0.022906\n",
      "[9]\ttrain-mlogloss:0.676567\ttrain-merror:0.022595\tvalid-mlogloss:0.677295\tvalid-merror:0.022897\n",
      "[10]\ttrain-mlogloss:0.616295\ttrain-merror:0.022487\tvalid-mlogloss:0.617058\tvalid-merror:0.02276\n",
      "[11]\ttrain-mlogloss:0.563467\ttrain-merror:0.022458\tvalid-mlogloss:0.564254\tvalid-merror:0.022734\n"
     ]
    }
   ],
   "source": [
    "gbm = xgb.train(params, dtrain, num_rounds, evals=watchlist, early_stopping_rounds=stop)"
   ]
  },
  {
   "cell_type": "code",
   "execution_count": 29,
   "metadata": {},
   "outputs": [
    {
     "data": {
      "text/plain": [
       "0"
      ]
     },
     "execution_count": 29,
     "metadata": {},
     "output_type": "execute_result"
    }
   ],
   "source": [
    "gc.collect()"
   ]
  },
  {
   "cell_type": "code",
   "execution_count": null,
   "metadata": {},
   "outputs": [],
   "source": []
  }
 ],
 "metadata": {
  "kernelspec": {
   "display_name": "Python 3",
   "language": "python",
   "name": "python3"
  },
  "language_info": {
   "codemirror_mode": {
    "name": "ipython",
    "version": 3
   },
   "file_extension": ".py",
   "mimetype": "text/x-python",
   "name": "python",
   "nbconvert_exporter": "python",
   "pygments_lexer": "ipython3",
   "version": "3.5.4"
  }
 },
 "nbformat": 4,
 "nbformat_minor": 2
}
