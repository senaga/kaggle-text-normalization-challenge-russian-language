{
 "cells": [
  {
   "cell_type": "code",
   "execution_count": 1,
   "metadata": {},
   "outputs": [],
   "source": [
    "import numpy as np\n",
    "import pandas as pd\n",
    "\n",
    "import string\n",
    "import re\n",
    "import gc"
   ]
  },
  {
   "cell_type": "code",
   "execution_count": 2,
   "metadata": {},
   "outputs": [
    {
     "name": "stderr",
     "output_type": "stream",
     "text": [
      "D:\\Projects\\OCDBot\\thirdParty\\winpython\\python-3.5.4.amd64\\Lib\\site-packages\\sklearn\\cross_validation.py:44: DeprecationWarning: This module was deprecated in version 0.18 in favor of the model_selection module into which all the refactored classes and functions are moved. Also note that the interface of the new CV iterators are different from that of this module. This module will be removed in 0.20.\n",
      "  \"This module will be removed in 0.20.\", DeprecationWarning)\n"
     ]
    }
   ],
   "source": [
    "import xgboost as xgb\n",
    "from sklearn.model_selection import train_test_split"
   ]
  },
  {
   "cell_type": "code",
   "execution_count": 3,
   "metadata": {},
   "outputs": [],
   "source": [
    "train = pd.read_csv('data/train.csv', encoding='utf-8')\n",
    "train.dropna(inplace=True)\n",
    "train = train[train.sentence_id != 492799]"
   ]
  },
  {
   "cell_type": "code",
   "execution_count": 6,
   "metadata": {},
   "outputs": [
    {
     "data": {
      "text/plain": [
       "array(['PLAIN', 'DATE', 'PUNCT', 'ORDINAL', 'VERBATIM', 'LETTERS',\n",
       "       'CARDINAL', 'MEASURE', 'TELEPHONE', 'ELECTRONIC', 'DECIMAL',\n",
       "       'DIGIT', 'FRACTION', 'MONEY', 'TIME'], dtype=object)"
      ]
     },
     "execution_count": 6,
     "metadata": {},
     "output_type": "execute_result"
    }
   ],
   "source": [
    "train['class'].unique()"
   ]
  },
  {
   "cell_type": "code",
   "execution_count": 181,
   "metadata": {},
   "outputs": [],
   "source": [
    "punctuations = [s[0] for s in train[train['class'] == 'PUNCT']['before'].unique().tolist()]\n",
    "verbatims = train[train['class'] == 'VERBATIM'].query('after != before').before.unique().tolist()\n",
    "currencies = [u'¥', u'$', u'€', u'£']\n",
    "power_signs = [u'²', u'³']\n",
    "fraction_signs = [u'¼', u'½', u'¾', u'⅔', u'⅓']\n",
    "specials = list(set(string.punctuation) - set(punctuations) - set(currencies))\n",
    "date_signs = [u'январ', u'феврал', u'март', u'апрел', u'мая', u'май', u'июн', \\\n",
    "        u'июл', u'август', u'сентябр', u'октябр', u'ноябр', u'декабр', u'год']\n",
    "quantitatives = [u'тыс', u'млн', u'миллион', u'миллиард', u'млрд']\n",
    "currency_names = [u'евро', u'руб', u'долл', u'гривен', u'гривн', u'usd', u'eur', u'юан', u'йен', u'cyp', u'php', u'bsd']"
   ]
  },
  {
   "cell_type": "code",
   "execution_count": 188,
   "metadata": {},
   "outputs": [],
   "source": [
    "def is_latin_letter(letter):\n",
    "    ord_letter = ord(letter)\n",
    "    return ord_letter >= 97 and ord_letter <= 122\n",
    "\n",
    "def is_rus_letter(letter):\n",
    "    ord_letter = ord(letter)\n",
    "    return ord_letter >= 1072 and ord_letter <= 1105\n",
    "\n",
    "def is_digit(letter):\n",
    "    ord_letter = ord(letter)\n",
    "    return ord_letter >= 48 and ord_letter <= 57\n",
    "\n",
    "def is_greek(letter):\n",
    "    ord_letter = ord(letter)\n",
    "    return ord_letter >= 945 and ord_letter <= 969\n",
    "\n",
    "def is_dash(letter):\n",
    "    return letter == u'—'\n",
    "\n",
    "def is_dot(letter):\n",
    "    return letter == u'.'\n",
    "\n",
    "def is_comma(letter):\n",
    "    return letter == u','\n",
    "\n",
    "def is_slash(letter):\n",
    "    return letter == u'/'\n",
    "\n",
    "def is_colon(letter):\n",
    "    return letter == u':'\n",
    "\n",
    "def is_date_in_word(word):\n",
    "    for d in date_signs:\n",
    "        if d in word:\n",
    "            return True\n",
    "    return False\n",
    "\n",
    "def is_domain_in_word(word):\n",
    "    url_pattern = \"(([a-zA-Z0-9]+(-[a-zA-Z0-9]+)*\\.)+[a-z]{2,10})\"\n",
    "    return len(re.findall(url_pattern, word)) > 0\n",
    "\n",
    "def is_quantitative_in_word(word):\n",
    "    for d in quantitatives:\n",
    "        if d in word:\n",
    "            return True\n",
    "    return False\n",
    "\n",
    "def is_currency_name_in_word(word):\n",
    "    for c in currency_names:\n",
    "        if c in word:\n",
    "            return True\n",
    "    return False\n",
    "\n",
    "def generate_features(value):\n",
    "    \n",
    "    value = value.strip()\n",
    "    num_letters = len(value)\n",
    "    num_words = len(value.split(\" \"))\n",
    "    \n",
    "    rus_letters_num = 0\n",
    "    en_letters_num = 0\n",
    "    digits_num = 0\n",
    "    punctuations_num = 0\n",
    "    greek_letters_num = 0\n",
    "    other_letters_num = 0\n",
    "    special_letters_num = 0\n",
    "    whitespaces_num = 0\n",
    "    uppercase_num = 0\n",
    "    \n",
    "    has_dash = 0\n",
    "    has_currency_sign = 0\n",
    "    has_power_sign = 0\n",
    "    has_fraction_sign = 0\n",
    "    has_dot = 0\n",
    "    has_comma = 0\n",
    "    has_slash = 0\n",
    "    has_colon = 0\n",
    "\n",
    "    for l in value:\n",
    "        if l.isupper():\n",
    "            uppercase_num += 1\n",
    "        \n",
    "        l = l.lower()\n",
    "\n",
    "        if is_rus_letter(l):\n",
    "            rus_letters_num += 1\n",
    "        elif is_latin_letter(l):\n",
    "            en_letters_num += 1\n",
    "        elif is_digit(l):\n",
    "            digits_num += 1\n",
    "        elif is_greek(l):\n",
    "            greek_letters_num += 1\n",
    "        elif l in punctuations:\n",
    "            punctuations_num += 1\n",
    "        elif l in specials:\n",
    "            special_letters_num += 1\n",
    "        elif l.isspace():\n",
    "            whitespaces_num += 1\n",
    "        else:\n",
    "            other_letters_num += 1\n",
    "            \n",
    "        if is_dash(l):\n",
    "            has_dash = 1\n",
    "        elif is_dot(l):\n",
    "            has_dot = 1\n",
    "        elif is_comma(l):\n",
    "            has_comma = 1\n",
    "        elif is_slash(l):\n",
    "            has_slash = 1\n",
    "        elif is_colon(l):\n",
    "            has_colon = 1\n",
    "        elif l in currencies:\n",
    "            has_currency_sign = 1\n",
    "        elif l in power_signs:\n",
    "            has_power_sign = 1\n",
    "        elif l in fraction_signs:\n",
    "            has_fraction_sign = 1\n",
    "\n",
    "    value = value.lower()\n",
    "        \n",
    "    is_uppercase = 1 if num_letters == uppercase_num else 0\n",
    "    is_single_char = 1 if num_letters == 1 else 0\n",
    "    is_russian_only = 1 if num_letters == rus_letters_num else 0\n",
    "    is_english_only = 1 if num_letters == en_letters_num else 0\n",
    "    is_digits_only = 1 if num_letters == digits_num else 0\n",
    "    is_punctuation_only = 1 if num_letters == punctuations_num else 0\n",
    "    is_one_word = 1 if num_words == 1 else 0\n",
    "    \n",
    "    has_date = is_date_in_word(value)\n",
    "    has_domain = is_domain_in_word(value)\n",
    "    has_quantitative = is_quantitative_in_word(value)\n",
    "    is_zero_leading = len(value) > 0 and value[0] == u'0'\n",
    "    has_currency_name = is_currency_name_in_word(value)\n",
    "    \n",
    "    return [num_letters, num_words, rus_letters_num, en_letters_num, digits_num, greek_letters_num, \\\n",
    "            other_letters_num, punctuations_num, uppercase_num, special_letters_num, \\\n",
    "            is_russian_only, is_english_only, is_digits_only, is_punctuation_only, is_one_word, \\\n",
    "            is_uppercase, is_single_char, is_zero_leading, has_dash, has_currency_sign, has_power_sign, \\\n",
    "            has_fraction_sign, has_date, has_dot, has_comma, has_domain, has_quantitative, has_slash, \\\n",
    "            has_currency_name, has_colon]"
   ]
  },
  {
   "cell_type": "code",
   "execution_count": 189,
   "metadata": {},
   "outputs": [
    {
     "name": "stdout",
     "output_type": "stream",
     "text": [
      "Wall time: 20 s\n"
     ]
    }
   ],
   "source": [
    "%%time\n",
    "train_data = pd.DataFrame(columns=train.columns)\n",
    "sample_max_size = 10000\n",
    "\n",
    "for c in train['class'].unique():\n",
    "    class_sample = train[train['class'] == c]\n",
    "    if len(class_sample) > sample_max_size:\n",
    "        train_data = train_data.append(class_sample.sample(sample_max_size))\n",
    "    else:\n",
    "        train_data = train_data.append(class_sample)"
   ]
  },
  {
   "cell_type": "code",
   "execution_count": 190,
   "metadata": {},
   "outputs": [
    {
     "name": "stdout",
     "output_type": "stream",
     "text": [
      "Wall time: 4.56 s\n"
     ]
    }
   ],
   "source": [
    "%%time\n",
    "labels = train_data['class']\n",
    "train_data = train_data.before.apply(generate_features)\n",
    "train_data = np.vstack(train_data.values)"
   ]
  },
  {
   "cell_type": "code",
   "execution_count": 191,
   "metadata": {},
   "outputs": [
    {
     "data": {
      "text/plain": [
       "(112236, 30)"
      ]
     },
     "execution_count": 191,
     "metadata": {},
     "output_type": "execute_result"
    }
   ],
   "source": [
    "train_data.shape"
   ]
  },
  {
   "cell_type": "code",
   "execution_count": 192,
   "metadata": {},
   "outputs": [
    {
     "name": "stderr",
     "output_type": "stream",
     "text": [
      "D:\\Projects\\OCDBot\\thirdParty\\winpython\\python-3.5.4.amd64\\Lib\\site-packages\\sklearn\\utils\\validation.py:429: DataConversionWarning: Data with input dtype int32 was converted to float64 by StandardScaler.\n",
      "  warnings.warn(msg, _DataConversionWarning)\n"
     ]
    }
   ],
   "source": [
    "from sklearn.preprocessing import StandardScaler\n",
    "\n",
    "scaler = StandardScaler()\n",
    "train_data = scaler.fit_transform(train_data)"
   ]
  },
  {
   "cell_type": "code",
   "execution_count": 193,
   "metadata": {},
   "outputs": [],
   "source": [
    "from sklearn.preprocessing import LabelEncoder\n",
    "\n",
    "enc = LabelEncoder()\n",
    "labels = enc.fit_transform(labels)"
   ]
  },
  {
   "cell_type": "markdown",
   "metadata": {},
   "source": [
    "#### Save XGBoost data "
   ]
  },
  {
   "cell_type": "code",
   "execution_count": 194,
   "metadata": {},
   "outputs": [],
   "source": [
    "xtr, xcv, ytr, ycv = train_test_split(train_data, labels, test_size = 0.1,  random_state = 42)"
   ]
  },
  {
   "cell_type": "code",
   "execution_count": 195,
   "metadata": {},
   "outputs": [],
   "source": [
    "dtrain = xgb.DMatrix(xtr, label=ytr)\n",
    "dvalid = xgb.DMatrix(xcv, label=ycv)"
   ]
  },
  {
   "cell_type": "code",
   "execution_count": 12,
   "metadata": {},
   "outputs": [],
   "source": [
    "dtrain.save_binary('dtrain.buffer')\n",
    "dvalid.save_binary('dvalid.buffer')"
   ]
  },
  {
   "cell_type": "markdown",
   "metadata": {},
   "source": [
    "#### Load XGBoost data "
   ]
  },
  {
   "cell_type": "code",
   "execution_count": 3,
   "metadata": {},
   "outputs": [],
   "source": [
    "dtrain = xgb.DMatrix('dtrain.buffer')\n",
    "dvalid = xgb.DMatrix('dvalid.buffer')"
   ]
  },
  {
   "cell_type": "code",
   "execution_count": 200,
   "metadata": {},
   "outputs": [],
   "source": [
    "params = [(\"objective\", \"multi:softmax\"),\n",
    "          (\"num_class\", 15),\n",
    "          (\"booster\", \"gbtree\"),\n",
    "          (\"nthread\", 3),\n",
    "          (\"eta\", 0.01),\n",
    "          (\"max_depth\", 6),\n",
    "          (\"subsample\", 0.9),\n",
    "          (\"min_child_weight\", 1),\n",
    "          (\"colsample_bytree\", 0.7),\n",
    "          (\"eval_metric\", 'mlogloss'),\n",
    "          (\"eval_metric\", 'merror')\n",
    "         ]\n",
    "num_rounds = 2000\n",
    "stop = 20"
   ]
  },
  {
   "cell_type": "code",
   "execution_count": 201,
   "metadata": {},
   "outputs": [],
   "source": [
    "watchlist = [(dtrain, 'train'), (dvalid, 'valid')]"
   ]
  },
  {
   "cell_type": "code",
   "execution_count": 204,
   "metadata": {},
   "outputs": [
    {
     "data": {
      "text/plain": [
       "8289.75096"
      ]
     },
     "execution_count": 204,
     "metadata": {},
     "output_type": "execute_result"
    }
   ],
   "source": [
    "(dtrain.num_row() + dvalid.num_row()) * 0.07386"
   ]
  },
  {
   "cell_type": "code",
   "execution_count": 203,
   "metadata": {},
   "outputs": [
    {
     "name": "stdout",
     "output_type": "stream",
     "text": [
      "[0]\ttrain-mlogloss:2.65157\ttrain-merror:0.129628\tvalid-mlogloss:2.65177\tvalid-merror:0.125445\n",
      "Multiple eval metrics have been passed: 'valid-merror' will be used for early stopping.\n",
      "\n",
      "Will train until valid-merror hasn't improved in 20 rounds.\n",
      "[1]\ttrain-mlogloss:2.59283\ttrain-merror:0.089564\tvalid-mlogloss:2.59301\tvalid-merror:0.086511\n",
      "[2]\ttrain-mlogloss:2.53836\ttrain-merror:0.080901\tvalid-mlogloss:2.53863\tvalid-merror:0.078938\n",
      "[3]\ttrain-mlogloss:2.48856\ttrain-merror:0.079951\tvalid-mlogloss:2.48886\tvalid-merror:0.076443\n",
      "[4]\ttrain-mlogloss:2.44215\ttrain-merror:0.079792\tvalid-mlogloss:2.44241\tvalid-merror:0.075552\n",
      "[5]\ttrain-mlogloss:2.39922\ttrain-merror:0.079565\tvalid-mlogloss:2.39964\tvalid-merror:0.075285\n",
      "[6]\ttrain-mlogloss:2.35506\ttrain-merror:0.079149\tvalid-mlogloss:2.35552\tvalid-merror:0.075909\n",
      "[7]\ttrain-mlogloss:2.31698\ttrain-merror:0.08202\tvalid-mlogloss:2.31727\tvalid-merror:0.078136\n",
      "[8]\ttrain-mlogloss:2.27632\ttrain-merror:0.079357\tvalid-mlogloss:2.27665\tvalid-merror:0.076532\n",
      "[9]\ttrain-mlogloss:2.23863\ttrain-merror:0.079535\tvalid-mlogloss:2.23893\tvalid-merror:0.074929\n",
      "[10]\ttrain-mlogloss:2.20294\ttrain-merror:0.079179\tvalid-mlogloss:2.20328\tvalid-merror:0.075998\n",
      "[11]\ttrain-mlogloss:2.16757\ttrain-merror:0.079941\tvalid-mlogloss:2.16784\tvalid-merror:0.075998\n",
      "[12]\ttrain-mlogloss:2.13361\ttrain-merror:0.079248\tvalid-mlogloss:2.13392\tvalid-merror:0.075731\n",
      "[13]\ttrain-mlogloss:2.10079\ttrain-merror:0.078842\tvalid-mlogloss:2.10119\tvalid-merror:0.075552\n",
      "[14]\ttrain-mlogloss:2.06832\ttrain-merror:0.079684\tvalid-mlogloss:2.06868\tvalid-merror:0.075018\n",
      "[15]\ttrain-mlogloss:2.03767\ttrain-merror:0.079248\tvalid-mlogloss:2.03797\tvalid-merror:0.074929\n",
      "[16]\ttrain-mlogloss:2.00786\ttrain-merror:0.078892\tvalid-mlogloss:2.00821\tvalid-merror:0.075196\n",
      "[17]\ttrain-mlogloss:1.97842\ttrain-merror:0.079159\tvalid-mlogloss:1.97873\tvalid-merror:0.075374\n",
      "[18]\ttrain-mlogloss:1.95116\ttrain-merror:0.078654\tvalid-mlogloss:1.95145\tvalid-merror:0.074661\n",
      "[19]\ttrain-mlogloss:1.92429\ttrain-merror:0.079208\tvalid-mlogloss:1.9246\tvalid-merror:0.075196\n",
      "[20]\ttrain-mlogloss:1.89815\ttrain-merror:0.078535\tvalid-mlogloss:1.89849\tvalid-merror:0.07386\n",
      "[21]\ttrain-mlogloss:1.87197\ttrain-merror:0.078803\tvalid-mlogloss:1.87235\tvalid-merror:0.074216\n",
      "[22]\ttrain-mlogloss:1.84725\ttrain-merror:0.078921\tvalid-mlogloss:1.84761\tvalid-merror:0.074216\n",
      "[23]\ttrain-mlogloss:1.82337\ttrain-merror:0.078654\tvalid-mlogloss:1.82374\tvalid-merror:0.073949\n",
      "[24]\ttrain-mlogloss:1.79983\ttrain-merror:0.078743\tvalid-mlogloss:1.80021\tvalid-merror:0.074216\n",
      "[25]\ttrain-mlogloss:1.77656\ttrain-merror:0.079733\tvalid-mlogloss:1.77695\tvalid-merror:0.076443\n",
      "[26]\ttrain-mlogloss:1.75432\ttrain-merror:0.079832\tvalid-mlogloss:1.7547\tvalid-merror:0.076532\n",
      "[27]\ttrain-mlogloss:1.73273\ttrain-merror:0.079654\tvalid-mlogloss:1.73299\tvalid-merror:0.076443\n",
      "[28]\ttrain-mlogloss:1.71198\ttrain-merror:0.079545\tvalid-mlogloss:1.71217\tvalid-merror:0.076087\n",
      "[29]\ttrain-mlogloss:1.69139\ttrain-merror:0.079525\tvalid-mlogloss:1.69152\tvalid-merror:0.076087\n",
      "[30]\ttrain-mlogloss:1.67132\ttrain-merror:0.078773\tvalid-mlogloss:1.6714\tvalid-merror:0.074483\n",
      "[31]\ttrain-mlogloss:1.65159\ttrain-merror:0.078426\tvalid-mlogloss:1.65159\tvalid-merror:0.07386\n",
      "[32]\ttrain-mlogloss:1.63315\ttrain-merror:0.078416\tvalid-mlogloss:1.63308\tvalid-merror:0.07386\n",
      "[33]\ttrain-mlogloss:1.61484\ttrain-merror:0.078446\tvalid-mlogloss:1.61469\tvalid-merror:0.07386\n",
      "[34]\ttrain-mlogloss:1.59674\ttrain-merror:0.078733\tvalid-mlogloss:1.59659\tvalid-merror:0.074127\n",
      "[35]\ttrain-mlogloss:1.57832\ttrain-merror:0.078486\tvalid-mlogloss:1.57811\tvalid-merror:0.07386\n",
      "[36]\ttrain-mlogloss:1.56016\ttrain-merror:0.079525\tvalid-mlogloss:1.55996\tvalid-merror:0.076087\n",
      "[37]\ttrain-mlogloss:1.54285\ttrain-merror:0.078723\tvalid-mlogloss:1.54267\tvalid-merror:0.074127\n",
      "[38]\ttrain-mlogloss:1.52538\ttrain-merror:0.078684\tvalid-mlogloss:1.52523\tvalid-merror:0.074127\n",
      "[39]\ttrain-mlogloss:1.50854\ttrain-merror:0.078664\tvalid-mlogloss:1.50837\tvalid-merror:0.074127\n",
      "[40]\ttrain-mlogloss:1.49229\ttrain-merror:0.078654\tvalid-mlogloss:1.49209\tvalid-merror:0.07386\n",
      "Stopping. Best iteration:\n",
      "[20]\ttrain-mlogloss:1.89815\ttrain-merror:0.078535\tvalid-mlogloss:1.89849\tvalid-merror:0.07386\n",
      "\n"
     ]
    }
   ],
   "source": [
    "gbm = xgb.train(params, dtrain, num_rounds, evals=watchlist, early_stopping_rounds=stop)"
   ]
  },
  {
   "cell_type": "code",
   "execution_count": 214,
   "metadata": {},
   "outputs": [
    {
     "data": {
      "text/plain": [
       "7"
      ]
     },
     "execution_count": 214,
     "metadata": {},
     "output_type": "execute_result"
    }
   ],
   "source": [
    "gc.collect()"
   ]
  },
  {
   "cell_type": "markdown",
   "metadata": {},
   "source": [
    "#### Predict and validate "
   ]
  },
  {
   "cell_type": "code",
   "execution_count": 208,
   "metadata": {},
   "outputs": [
    {
     "name": "stdout",
     "output_type": "stream",
     "text": [
      "Wall time: 6min 39s\n"
     ]
    }
   ],
   "source": [
    "%%time\n",
    "test_labels = train['class']\n",
    "test_data = train.before.apply(generate_features)\n",
    "test_data = np.vstack(test_data.values)"
   ]
  },
  {
   "cell_type": "code",
   "execution_count": 209,
   "metadata": {},
   "outputs": [
    {
     "data": {
      "text/plain": [
       "(10574501, 30)"
      ]
     },
     "execution_count": 209,
     "metadata": {},
     "output_type": "execute_result"
    }
   ],
   "source": [
    "test_data.shape"
   ]
  },
  {
   "cell_type": "code",
   "execution_count": 210,
   "metadata": {},
   "outputs": [
    {
     "name": "stderr",
     "output_type": "stream",
     "text": [
      "D:\\Projects\\OCDBot\\thirdParty\\winpython\\python-3.5.4.amd64\\Lib\\site-packages\\sklearn\\utils\\validation.py:429: DataConversionWarning: Data with input dtype int32 was converted to float64 by StandardScaler.\n",
      "  warnings.warn(msg, _DataConversionWarning)\n"
     ]
    }
   ],
   "source": [
    "test_data = scaler.transform(test_data)\n",
    "test_labels = enc.transform(test_labels)"
   ]
  },
  {
   "cell_type": "code",
   "execution_count": 213,
   "metadata": {},
   "outputs": [],
   "source": [
    "dtest = xgb.DMatrix(test_data, label=test_labels)"
   ]
  },
  {
   "cell_type": "code",
   "execution_count": 215,
   "metadata": {},
   "outputs": [],
   "source": [
    "predictions = gbm.predict(dtest)"
   ]
  },
  {
   "cell_type": "code",
   "execution_count": 218,
   "metadata": {},
   "outputs": [
    {
     "data": {
      "text/plain": [
       "0.93097139997433453"
      ]
     },
     "execution_count": 218,
     "metadata": {},
     "output_type": "execute_result"
    }
   ],
   "source": [
    "from sklearn.metrics import accuracy_score\n",
    "\n",
    "accuracy_score(predictions, test_labels)"
   ]
  },
  {
   "cell_type": "code",
   "execution_count": 219,
   "metadata": {},
   "outputs": [
    {
     "data": {
      "text/plain": [
       "729943"
      ]
     },
     "execution_count": 219,
     "metadata": {},
     "output_type": "execute_result"
    }
   ],
   "source": [
    "np.sum(predictions != test_labels)"
   ]
  },
  {
   "cell_type": "code",
   "execution_count": 236,
   "metadata": {},
   "outputs": [],
   "source": [
    "train['predicted_class'] = np.apply_along_axis((lambda x: enc.classes_[x]), 0, predictions.astype(np.uint8))"
   ]
  },
  {
   "cell_type": "code",
   "execution_count": 245,
   "metadata": {},
   "outputs": [],
   "source": [
    "prediction_errors = train[train['class'] != train['predicted_class']]['class'].value_counts()"
   ]
  },
  {
   "cell_type": "code",
   "execution_count": 267,
   "metadata": {},
   "outputs": [
    {
     "name": "stdout",
     "output_type": "stream",
     "text": [
      "           PUNCT       24.35%\n",
      "           PLAIN        1.47%\n",
      "         LETTERS       16.69%\n",
      "         ORDINAL       35.11%\n",
      "        CARDINAL        4.77%\n",
      "            DATE        1.17%\n",
      "         MEASURE        2.01%\n",
      "       TELEPHONE        0.79%\n",
      "           MONEY        1.34%\n",
      "        FRACTION        1.26%\n",
      "         DECIMAL        0.41%\n",
      "      ELECTRONIC        0.31%\n",
      "            TIME        0.57%\n",
      "        VERBATIM        0.00%\n"
     ]
    }
   ],
   "source": [
    "for i in range(len(prediction_errors)):\n",
    "    print (\"{:>16}{:>12.2f}%\".format(prediction_errors.index[i], prediction_errors[i] * 100 / len(train[train['class'] == prediction_errors.index[i]])))"
   ]
  },
  {
   "cell_type": "code",
   "execution_count": null,
   "metadata": {},
   "outputs": [],
   "source": []
  }
 ],
 "metadata": {
  "kernelspec": {
   "display_name": "Python 3",
   "language": "python",
   "name": "python3"
  },
  "language_info": {
   "codemirror_mode": {
    "name": "ipython",
    "version": 3
   },
   "file_extension": ".py",
   "mimetype": "text/x-python",
   "name": "python",
   "nbconvert_exporter": "python",
   "pygments_lexer": "ipython3",
   "version": "3.5.4"
  }
 },
 "nbformat": 4,
 "nbformat_minor": 2
}
