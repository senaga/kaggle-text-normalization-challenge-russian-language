{
 "cells": [
  {
   "cell_type": "code",
   "execution_count": 1,
   "metadata": {},
   "outputs": [],
   "source": [
    "import numpy as np\n",
    "import pandas as pd"
   ]
  },
  {
   "cell_type": "code",
   "execution_count": 2,
   "metadata": {},
   "outputs": [],
   "source": [
    "train = pd.read_csv('data/train.csv')\n",
    "submit = pd.read_csv('data/sample_submission.csv')"
   ]
  },
  {
   "cell_type": "code",
   "execution_count": 7,
   "metadata": {},
   "outputs": [],
   "source": [
    "test = pd.read_csv('data/test.csv')"
   ]
  },
  {
   "cell_type": "code",
   "execution_count": 8,
   "metadata": {},
   "outputs": [
    {
     "name": "stdout",
     "output_type": "stream",
     "text": [
      "10574516\n",
      "1074563\n"
     ]
    }
   ],
   "source": [
    "print (len(train))\n",
    "print (len(test))"
   ]
  },
  {
   "cell_type": "code",
   "execution_count": 10,
   "metadata": {},
   "outputs": [
    {
     "data": {
      "text/html": [
       "<div>\n",
       "<style>\n",
       "    .dataframe thead tr:only-child th {\n",
       "        text-align: right;\n",
       "    }\n",
       "\n",
       "    .dataframe thead th {\n",
       "        text-align: left;\n",
       "    }\n",
       "\n",
       "    .dataframe tbody tr th {\n",
       "        vertical-align: top;\n",
       "    }\n",
       "</style>\n",
       "<table border=\"1\" class=\"dataframe\">\n",
       "  <thead>\n",
       "    <tr style=\"text-align: right;\">\n",
       "      <th></th>\n",
       "      <th>sentence_id</th>\n",
       "      <th>token_id</th>\n",
       "      <th>class</th>\n",
       "      <th>before</th>\n",
       "      <th>after</th>\n",
       "    </tr>\n",
       "  </thead>\n",
       "  <tbody>\n",
       "    <tr>\n",
       "      <th>0</th>\n",
       "      <td>0</td>\n",
       "      <td>0</td>\n",
       "      <td>PLAIN</td>\n",
       "      <td>По</td>\n",
       "      <td>По</td>\n",
       "    </tr>\n",
       "    <tr>\n",
       "      <th>1</th>\n",
       "      <td>0</td>\n",
       "      <td>1</td>\n",
       "      <td>PLAIN</td>\n",
       "      <td>состоянию</td>\n",
       "      <td>состоянию</td>\n",
       "    </tr>\n",
       "    <tr>\n",
       "      <th>2</th>\n",
       "      <td>0</td>\n",
       "      <td>2</td>\n",
       "      <td>PLAIN</td>\n",
       "      <td>на</td>\n",
       "      <td>на</td>\n",
       "    </tr>\n",
       "    <tr>\n",
       "      <th>3</th>\n",
       "      <td>0</td>\n",
       "      <td>3</td>\n",
       "      <td>DATE</td>\n",
       "      <td>1862 год</td>\n",
       "      <td>тысяча восемьсот шестьдесят второй год</td>\n",
       "    </tr>\n",
       "    <tr>\n",
       "      <th>4</th>\n",
       "      <td>0</td>\n",
       "      <td>4</td>\n",
       "      <td>PUNCT</td>\n",
       "      <td>.</td>\n",
       "      <td>.</td>\n",
       "    </tr>\n",
       "  </tbody>\n",
       "</table>\n",
       "</div>"
      ],
      "text/plain": [
       "   sentence_id  token_id  class     before  \\\n",
       "0            0         0  PLAIN         По   \n",
       "1            0         1  PLAIN  состоянию   \n",
       "2            0         2  PLAIN         на   \n",
       "3            0         3   DATE   1862 год   \n",
       "4            0         4  PUNCT          .   \n",
       "\n",
       "                                    after  \n",
       "0                                      По  \n",
       "1                               состоянию  \n",
       "2                                      на  \n",
       "3  тысяча восемьсот шестьдесят второй год  \n",
       "4                                       .  "
      ]
     },
     "execution_count": 10,
     "metadata": {},
     "output_type": "execute_result"
    }
   ],
   "source": [
    "train.head()"
   ]
  },
  {
   "cell_type": "code",
   "execution_count": 68,
   "metadata": {},
   "outputs": [],
   "source": [
    "train_errors = train.query('after != before')"
   ]
  },
  {
   "cell_type": "code",
   "execution_count": 69,
   "metadata": {},
   "outputs": [
    {
     "name": "stdout",
     "output_type": "stream",
     "text": [
      "Percentage of total errors in train dataset: 12.51%\n"
     ]
    }
   ],
   "source": [
    "print (\"Percentage of total errors in train dataset: {0:.2f}%\".format(len(train_errors) / len(train) * 100))"
   ]
  },
  {
   "cell_type": "code",
   "execution_count": 16,
   "metadata": {},
   "outputs": [
    {
     "data": {
      "text/plain": [
       "array(['PLAIN', 'DATE', 'PUNCT', 'ORDINAL', 'VERBATIM', 'LETTERS',\n",
       "       'CARDINAL', 'MEASURE', 'TELEPHONE', 'ELECTRONIC', 'DECIMAL',\n",
       "       'DIGIT', 'FRACTION', 'MONEY', 'TIME'], dtype=object)"
      ]
     },
     "execution_count": 16,
     "metadata": {},
     "output_type": "execute_result"
    }
   ],
   "source": [
    "text_class = train[\"class\"].unique()\n",
    "text_class"
   ]
  },
  {
   "cell_type": "code",
   "execution_count": 113,
   "metadata": {},
   "outputs": [],
   "source": [
    "errors = {}"
   ]
  },
  {
   "cell_type": "markdown",
   "metadata": {},
   "source": [
    "### Compare [PLAIN] class "
   ]
  },
  {
   "cell_type": "code",
   "execution_count": 61,
   "metadata": {},
   "outputs": [],
   "source": [
    "train_plain = train[train['class'] == \"PLAIN\"]"
   ]
  },
  {
   "cell_type": "code",
   "execution_count": 63,
   "metadata": {
    "scrolled": true
   },
   "outputs": [
    {
     "data": {
      "text/html": [
       "<div>\n",
       "<style>\n",
       "    .dataframe thead tr:only-child th {\n",
       "        text-align: right;\n",
       "    }\n",
       "\n",
       "    .dataframe thead th {\n",
       "        text-align: left;\n",
       "    }\n",
       "\n",
       "    .dataframe tbody tr th {\n",
       "        vertical-align: top;\n",
       "    }\n",
       "</style>\n",
       "<table border=\"1\" class=\"dataframe\">\n",
       "  <thead>\n",
       "    <tr style=\"text-align: right;\">\n",
       "      <th></th>\n",
       "      <th>sentence_id</th>\n",
       "      <th>token_id</th>\n",
       "      <th>class</th>\n",
       "      <th>before</th>\n",
       "      <th>after</th>\n",
       "    </tr>\n",
       "  </thead>\n",
       "  <tbody>\n",
       "    <tr>\n",
       "      <th>0</th>\n",
       "      <td>0</td>\n",
       "      <td>0</td>\n",
       "      <td>PLAIN</td>\n",
       "      <td>По</td>\n",
       "      <td>По</td>\n",
       "    </tr>\n",
       "    <tr>\n",
       "      <th>1</th>\n",
       "      <td>0</td>\n",
       "      <td>1</td>\n",
       "      <td>PLAIN</td>\n",
       "      <td>состоянию</td>\n",
       "      <td>состоянию</td>\n",
       "    </tr>\n",
       "    <tr>\n",
       "      <th>2</th>\n",
       "      <td>0</td>\n",
       "      <td>2</td>\n",
       "      <td>PLAIN</td>\n",
       "      <td>на</td>\n",
       "      <td>на</td>\n",
       "    </tr>\n",
       "    <tr>\n",
       "      <th>5</th>\n",
       "      <td>1</td>\n",
       "      <td>0</td>\n",
       "      <td>PLAIN</td>\n",
       "      <td>Оснащались</td>\n",
       "      <td>Оснащались</td>\n",
       "    </tr>\n",
       "    <tr>\n",
       "      <th>6</th>\n",
       "      <td>1</td>\n",
       "      <td>1</td>\n",
       "      <td>PLAIN</td>\n",
       "      <td>латными</td>\n",
       "      <td>латными</td>\n",
       "    </tr>\n",
       "  </tbody>\n",
       "</table>\n",
       "</div>"
      ],
      "text/plain": [
       "   sentence_id  token_id  class      before       after\n",
       "0            0         0  PLAIN          По          По\n",
       "1            0         1  PLAIN   состоянию   состоянию\n",
       "2            0         2  PLAIN          на          на\n",
       "5            1         0  PLAIN  Оснащались  Оснащались\n",
       "6            1         1  PLAIN     латными     латными"
      ]
     },
     "execution_count": 63,
     "metadata": {},
     "output_type": "execute_result"
    }
   ],
   "source": [
    "train_plain.head()"
   ]
  },
  {
   "cell_type": "code",
   "execution_count": 55,
   "metadata": {},
   "outputs": [],
   "source": [
    "train_plain_errors = train_plain.query('after != before')"
   ]
  },
  {
   "cell_type": "code",
   "execution_count": 97,
   "metadata": {},
   "outputs": [
    {
     "data": {
      "text/html": [
       "<div>\n",
       "<style>\n",
       "    .dataframe thead tr:only-child th {\n",
       "        text-align: right;\n",
       "    }\n",
       "\n",
       "    .dataframe thead th {\n",
       "        text-align: left;\n",
       "    }\n",
       "\n",
       "    .dataframe tbody tr th {\n",
       "        vertical-align: top;\n",
       "    }\n",
       "</style>\n",
       "<table border=\"1\" class=\"dataframe\">\n",
       "  <thead>\n",
       "    <tr style=\"text-align: right;\">\n",
       "      <th></th>\n",
       "      <th>sentence_id</th>\n",
       "      <th>token_id</th>\n",
       "      <th>class</th>\n",
       "      <th>before</th>\n",
       "      <th>after</th>\n",
       "    </tr>\n",
       "  </thead>\n",
       "  <tbody>\n",
       "    <tr>\n",
       "      <th>43</th>\n",
       "      <td>3</td>\n",
       "      <td>7</td>\n",
       "      <td>PLAIN</td>\n",
       "      <td>Tiberius</td>\n",
       "      <td>т_trans и_trans б_trans е_trans р_trans и_tran...</td>\n",
       "    </tr>\n",
       "    <tr>\n",
       "      <th>44</th>\n",
       "      <td>3</td>\n",
       "      <td>8</td>\n",
       "      <td>PLAIN</td>\n",
       "      <td>Julius</td>\n",
       "      <td>д_trans ж_trans у_trans л_trans и_trans у_tran...</td>\n",
       "    </tr>\n",
       "    <tr>\n",
       "      <th>45</th>\n",
       "      <td>3</td>\n",
       "      <td>9</td>\n",
       "      <td>PLAIN</td>\n",
       "      <td>Pollienus</td>\n",
       "      <td>п_trans о_trans л_trans л_trans и_trans е_tran...</td>\n",
       "    </tr>\n",
       "    <tr>\n",
       "      <th>46</th>\n",
       "      <td>3</td>\n",
       "      <td>10</td>\n",
       "      <td>PLAIN</td>\n",
       "      <td>Auspex</td>\n",
       "      <td>о_trans с_trans п_trans е_trans к_trans с_trans</td>\n",
       "    </tr>\n",
       "    <tr>\n",
       "      <th>153</th>\n",
       "      <td>10</td>\n",
       "      <td>4</td>\n",
       "      <td>PLAIN</td>\n",
       "      <td>Half</td>\n",
       "      <td>х_trans а_trans л_trans ф_trans</td>\n",
       "    </tr>\n",
       "  </tbody>\n",
       "</table>\n",
       "</div>"
      ],
      "text/plain": [
       "     sentence_id  token_id  class     before  \\\n",
       "43             3         7  PLAIN   Tiberius   \n",
       "44             3         8  PLAIN     Julius   \n",
       "45             3         9  PLAIN  Pollienus   \n",
       "46             3        10  PLAIN     Auspex   \n",
       "153           10         4  PLAIN       Half   \n",
       "\n",
       "                                                 after  \n",
       "43   т_trans и_trans б_trans е_trans р_trans и_tran...  \n",
       "44   д_trans ж_trans у_trans л_trans и_trans у_tran...  \n",
       "45   п_trans о_trans л_trans л_trans и_trans е_tran...  \n",
       "46     о_trans с_trans п_trans е_trans к_trans с_trans  \n",
       "153                    х_trans а_trans л_trans ф_trans  "
      ]
     },
     "execution_count": 97,
     "metadata": {},
     "output_type": "execute_result"
    }
   ],
   "source": [
    "train_plain_errors.head()"
   ]
  },
  {
   "cell_type": "code",
   "execution_count": 114,
   "metadata": {},
   "outputs": [],
   "source": [
    "train_plain_error_1 = len(train_plain_errors) / len(train_plain)\n",
    "train_plain_error_2 = len(train_plain_errors) / len(train_errors)\n",
    "errors[\"PLAIN\"] = (train_plain_error_1, train_plain_error_2)"
   ]
  },
  {
   "cell_type": "code",
   "execution_count": 115,
   "metadata": {},
   "outputs": [
    {
     "name": "stdout",
     "output_type": "stream",
     "text": [
      "Percentage of errors in PLAIN class: 7.39%\n",
      "Percentage of errors in train dataset: 41.14%\n"
     ]
    }
   ],
   "source": [
    "print (\"Percentage of errors in PLAIN class: {0:.2f}%\".format(train_plain_error_1 * 100))\n",
    "print (\"Percentage of errors in train dataset: {0:.2f}%\".format(train_plain_error_2 * 100))"
   ]
  },
  {
   "cell_type": "markdown",
   "metadata": {},
   "source": [
    "### Compare [DATE] class "
   ]
  },
  {
   "cell_type": "code",
   "execution_count": 72,
   "metadata": {},
   "outputs": [],
   "source": [
    "train_date = train[train['class'] == \"DATE\"]"
   ]
  },
  {
   "cell_type": "code",
   "execution_count": 73,
   "metadata": {},
   "outputs": [
    {
     "data": {
      "text/html": [
       "<div>\n",
       "<style>\n",
       "    .dataframe thead tr:only-child th {\n",
       "        text-align: right;\n",
       "    }\n",
       "\n",
       "    .dataframe thead th {\n",
       "        text-align: left;\n",
       "    }\n",
       "\n",
       "    .dataframe tbody tr th {\n",
       "        vertical-align: top;\n",
       "    }\n",
       "</style>\n",
       "<table border=\"1\" class=\"dataframe\">\n",
       "  <thead>\n",
       "    <tr style=\"text-align: right;\">\n",
       "      <th></th>\n",
       "      <th>sentence_id</th>\n",
       "      <th>token_id</th>\n",
       "      <th>class</th>\n",
       "      <th>before</th>\n",
       "      <th>after</th>\n",
       "    </tr>\n",
       "  </thead>\n",
       "  <tbody>\n",
       "    <tr>\n",
       "      <th>3</th>\n",
       "      <td>0</td>\n",
       "      <td>3</td>\n",
       "      <td>DATE</td>\n",
       "      <td>1862 год</td>\n",
       "      <td>тысяча восемьсот шестьдесят второй год</td>\n",
       "    </tr>\n",
       "    <tr>\n",
       "      <th>17</th>\n",
       "      <td>2</td>\n",
       "      <td>2</td>\n",
       "      <td>DATE</td>\n",
       "      <td>1811 года</td>\n",
       "      <td>тысяча восемьсот одиннадцатого года</td>\n",
       "    </tr>\n",
       "    <tr>\n",
       "      <th>85</th>\n",
       "      <td>6</td>\n",
       "      <td>1</td>\n",
       "      <td>DATE</td>\n",
       "      <td>12 февраля 2013</td>\n",
       "      <td>двенадцатого февраля две тысячи тринадцатого года</td>\n",
       "    </tr>\n",
       "    <tr>\n",
       "      <th>90</th>\n",
       "      <td>6</td>\n",
       "      <td>6</td>\n",
       "      <td>DATE</td>\n",
       "      <td>15 февраля 2013</td>\n",
       "      <td>пятнадцатого февраля две тысячи тринадцатого года</td>\n",
       "    </tr>\n",
       "    <tr>\n",
       "      <th>189</th>\n",
       "      <td>13</td>\n",
       "      <td>1</td>\n",
       "      <td>DATE</td>\n",
       "      <td>1905 года</td>\n",
       "      <td>тысяча девятьсот пятого года</td>\n",
       "    </tr>\n",
       "  </tbody>\n",
       "</table>\n",
       "</div>"
      ],
      "text/plain": [
       "     sentence_id  token_id class           before  \\\n",
       "3              0         3  DATE         1862 год   \n",
       "17             2         2  DATE        1811 года   \n",
       "85             6         1  DATE  12 февраля 2013   \n",
       "90             6         6  DATE  15 февраля 2013   \n",
       "189           13         1  DATE        1905 года   \n",
       "\n",
       "                                                 after  \n",
       "3               тысяча восемьсот шестьдесят второй год  \n",
       "17                 тысяча восемьсот одиннадцатого года  \n",
       "85   двенадцатого февраля две тысячи тринадцатого года  \n",
       "90   пятнадцатого февраля две тысячи тринадцатого года  \n",
       "189                       тысяча девятьсот пятого года  "
      ]
     },
     "execution_count": 73,
     "metadata": {},
     "output_type": "execute_result"
    }
   ],
   "source": [
    "train_date.head()"
   ]
  },
  {
   "cell_type": "code",
   "execution_count": 74,
   "metadata": {},
   "outputs": [],
   "source": [
    "train_date_errors = train_date.query('after != before')"
   ]
  },
  {
   "cell_type": "code",
   "execution_count": 116,
   "metadata": {},
   "outputs": [],
   "source": [
    "train_date_error_1 = len(train_date_errors) / len(train_date)\n",
    "train_date_error_2 = len(train_date_errors) / len(train_errors)\n",
    "errors[\"DATE\"] = (train_date_error_1, train_date_error_2)"
   ]
  },
  {
   "cell_type": "code",
   "execution_count": 117,
   "metadata": {},
   "outputs": [
    {
     "name": "stdout",
     "output_type": "stream",
     "text": [
      "Percentage of errors in DATE class: 99.95%\n",
      "Percentage of errors in train dataset: 14.05%\n"
     ]
    }
   ],
   "source": [
    "print (\"Percentage of errors in DATE class: {0:.2f}%\".format(train_date_error_1 * 100))\n",
    "print (\"Percentage of errors in train dataset: {0:.2f}%\".format(train_date_error_2 * 100))"
   ]
  },
  {
   "cell_type": "markdown",
   "metadata": {},
   "source": [
    "### Compare [PUNCT] class "
   ]
  },
  {
   "cell_type": "code",
   "execution_count": 76,
   "metadata": {},
   "outputs": [],
   "source": [
    "train_punct = train[train['class'] == \"PUNCT\"]"
   ]
  },
  {
   "cell_type": "code",
   "execution_count": 77,
   "metadata": {
    "scrolled": true
   },
   "outputs": [
    {
     "data": {
      "text/html": [
       "<div>\n",
       "<style>\n",
       "    .dataframe thead tr:only-child th {\n",
       "        text-align: right;\n",
       "    }\n",
       "\n",
       "    .dataframe thead th {\n",
       "        text-align: left;\n",
       "    }\n",
       "\n",
       "    .dataframe tbody tr th {\n",
       "        vertical-align: top;\n",
       "    }\n",
       "</style>\n",
       "<table border=\"1\" class=\"dataframe\">\n",
       "  <thead>\n",
       "    <tr style=\"text-align: right;\">\n",
       "      <th></th>\n",
       "      <th>sentence_id</th>\n",
       "      <th>token_id</th>\n",
       "      <th>class</th>\n",
       "      <th>before</th>\n",
       "      <th>after</th>\n",
       "    </tr>\n",
       "  </thead>\n",
       "  <tbody>\n",
       "    <tr>\n",
       "      <th>4</th>\n",
       "      <td>0</td>\n",
       "      <td>4</td>\n",
       "      <td>PUNCT</td>\n",
       "      <td>.</td>\n",
       "      <td>.</td>\n",
       "    </tr>\n",
       "    <tr>\n",
       "      <th>14</th>\n",
       "      <td>1</td>\n",
       "      <td>9</td>\n",
       "      <td>PUNCT</td>\n",
       "      <td>.</td>\n",
       "      <td>.</td>\n",
       "    </tr>\n",
       "    <tr>\n",
       "      <th>18</th>\n",
       "      <td>2</td>\n",
       "      <td>3</td>\n",
       "      <td>PUNCT</td>\n",
       "      <td>,</td>\n",
       "      <td>,</td>\n",
       "    </tr>\n",
       "    <tr>\n",
       "      <th>24</th>\n",
       "      <td>2</td>\n",
       "      <td>9</td>\n",
       "      <td>PUNCT</td>\n",
       "      <td>(</td>\n",
       "      <td>(</td>\n",
       "    </tr>\n",
       "    <tr>\n",
       "      <th>27</th>\n",
       "      <td>2</td>\n",
       "      <td>12</td>\n",
       "      <td>PUNCT</td>\n",
       "      <td>)</td>\n",
       "      <td>)</td>\n",
       "    </tr>\n",
       "  </tbody>\n",
       "</table>\n",
       "</div>"
      ],
      "text/plain": [
       "    sentence_id  token_id  class before after\n",
       "4             0         4  PUNCT      .     .\n",
       "14            1         9  PUNCT      .     .\n",
       "18            2         3  PUNCT      ,     ,\n",
       "24            2         9  PUNCT      (     (\n",
       "27            2        12  PUNCT      )     )"
      ]
     },
     "execution_count": 77,
     "metadata": {},
     "output_type": "execute_result"
    }
   ],
   "source": [
    "train_punct.head()"
   ]
  },
  {
   "cell_type": "code",
   "execution_count": 79,
   "metadata": {},
   "outputs": [],
   "source": [
    "train_punct_errors = train_punct.query('after != before')"
   ]
  },
  {
   "cell_type": "code",
   "execution_count": 118,
   "metadata": {},
   "outputs": [],
   "source": [
    "train_punct_error_1 = len(train_punct_errors) / len(train_punct)\n",
    "train_punct_error_2 = len(train_punct_errors) / len(train_errors)\n",
    "errors[\"PUNCT\"] = (train_punct_error_1, train_punct_error_2)"
   ]
  },
  {
   "cell_type": "code",
   "execution_count": 119,
   "metadata": {
    "scrolled": false
   },
   "outputs": [
    {
     "name": "stdout",
     "output_type": "stream",
     "text": [
      "Percentage of errors in PUNCT class: 0.00%\n",
      "Percentage of errors in train dataset: 0.00%\n"
     ]
    }
   ],
   "source": [
    "print (\"Percentage of errors in PUNCT class: {0:.2f}%\".format(train_punct_error_1 * 100))\n",
    "print (\"Percentage of errors in train dataset: {0:.2f}%\".format(train_punct_error_2 * 100))"
   ]
  },
  {
   "cell_type": "markdown",
   "metadata": {},
   "source": [
    "### Compare [ORDINAL] class "
   ]
  },
  {
   "cell_type": "code",
   "execution_count": 81,
   "metadata": {},
   "outputs": [],
   "source": [
    "train_ordinal = train[train['class'] == \"ORDINAL\"]"
   ]
  },
  {
   "cell_type": "code",
   "execution_count": 82,
   "metadata": {
    "scrolled": true
   },
   "outputs": [
    {
     "data": {
      "text/html": [
       "<div>\n",
       "<style>\n",
       "    .dataframe thead tr:only-child th {\n",
       "        text-align: right;\n",
       "    }\n",
       "\n",
       "    .dataframe thead th {\n",
       "        text-align: left;\n",
       "    }\n",
       "\n",
       "    .dataframe tbody tr th {\n",
       "        vertical-align: top;\n",
       "    }\n",
       "</style>\n",
       "<table border=\"1\" class=\"dataframe\">\n",
       "  <thead>\n",
       "    <tr style=\"text-align: right;\">\n",
       "      <th></th>\n",
       "      <th>sentence_id</th>\n",
       "      <th>token_id</th>\n",
       "      <th>class</th>\n",
       "      <th>before</th>\n",
       "      <th>after</th>\n",
       "    </tr>\n",
       "  </thead>\n",
       "  <tbody>\n",
       "    <tr>\n",
       "      <th>53</th>\n",
       "      <td>3</td>\n",
       "      <td>17</td>\n",
       "      <td>ORDINAL</td>\n",
       "      <td>III</td>\n",
       "      <td>третьего</td>\n",
       "    </tr>\n",
       "    <tr>\n",
       "      <th>163</th>\n",
       "      <td>11</td>\n",
       "      <td>1</td>\n",
       "      <td>ORDINAL</td>\n",
       "      <td>1895</td>\n",
       "      <td>тысяча восемьсот девяносто пятом</td>\n",
       "    </tr>\n",
       "    <tr>\n",
       "      <th>164</th>\n",
       "      <td>11</td>\n",
       "      <td>2</td>\n",
       "      <td>ORDINAL</td>\n",
       "      <td>—1896</td>\n",
       "      <td>тысяча восемьсот девяносто шестом</td>\n",
       "    </tr>\n",
       "    <tr>\n",
       "      <th>485</th>\n",
       "      <td>35</td>\n",
       "      <td>5</td>\n",
       "      <td>ORDINAL</td>\n",
       "      <td>1796</td>\n",
       "      <td>тысяча семьсот девяносто шестого</td>\n",
       "    </tr>\n",
       "    <tr>\n",
       "      <th>487</th>\n",
       "      <td>35</td>\n",
       "      <td>7</td>\n",
       "      <td>ORDINAL</td>\n",
       "      <td>1802</td>\n",
       "      <td>тысяча восемьсот второй</td>\n",
       "    </tr>\n",
       "  </tbody>\n",
       "</table>\n",
       "</div>"
      ],
      "text/plain": [
       "     sentence_id  token_id    class before                              after\n",
       "53             3        17  ORDINAL    III                           третьего\n",
       "163           11         1  ORDINAL   1895   тысяча восемьсот девяносто пятом\n",
       "164           11         2  ORDINAL  —1896  тысяча восемьсот девяносто шестом\n",
       "485           35         5  ORDINAL   1796   тысяча семьсот девяносто шестого\n",
       "487           35         7  ORDINAL   1802            тысяча восемьсот второй"
      ]
     },
     "execution_count": 82,
     "metadata": {},
     "output_type": "execute_result"
    }
   ],
   "source": [
    "train_ordinal.head()"
   ]
  },
  {
   "cell_type": "code",
   "execution_count": 83,
   "metadata": {},
   "outputs": [],
   "source": [
    "train_ordinal_errors = train_ordinal.query('after != before')"
   ]
  },
  {
   "cell_type": "code",
   "execution_count": 120,
   "metadata": {},
   "outputs": [],
   "source": [
    "train_ordinal_error_1 = len(train_ordinal_errors) / len(train_ordinal)\n",
    "train_ordinal_error_2 = len(train_ordinal_errors) / len(train_errors)\n",
    "errors[\"ORDINAL\"] = (train_ordinal_error_1, train_ordinal_error_2)"
   ]
  },
  {
   "cell_type": "code",
   "execution_count": 121,
   "metadata": {
    "scrolled": true
   },
   "outputs": [
    {
     "name": "stdout",
     "output_type": "stream",
     "text": [
      "Percentage of errors in ORDINAL class: 99.57%\n",
      "Percentage of errors in train dataset: 3.52%\n"
     ]
    }
   ],
   "source": [
    "print (\"Percentage of errors in ORDINAL class: {0:.2f}%\".format(train_ordinal_error_1 * 100))\n",
    "print (\"Percentage of errors in train dataset: {0:.2f}%\".format(train_ordinal_error_2 * 100))"
   ]
  },
  {
   "cell_type": "markdown",
   "metadata": {},
   "source": [
    "### Compare [VERBATIM] class "
   ]
  },
  {
   "cell_type": "code",
   "execution_count": 86,
   "metadata": {},
   "outputs": [],
   "source": [
    "train_verbatim = train[train['class'] == \"VERBATIM\"]"
   ]
  },
  {
   "cell_type": "code",
   "execution_count": 87,
   "metadata": {
    "scrolled": true
   },
   "outputs": [
    {
     "data": {
      "text/html": [
       "<div>\n",
       "<style>\n",
       "    .dataframe thead tr:only-child th {\n",
       "        text-align: right;\n",
       "    }\n",
       "\n",
       "    .dataframe thead th {\n",
       "        text-align: left;\n",
       "    }\n",
       "\n",
       "    .dataframe tbody tr th {\n",
       "        vertical-align: top;\n",
       "    }\n",
       "</style>\n",
       "<table border=\"1\" class=\"dataframe\">\n",
       "  <thead>\n",
       "    <tr style=\"text-align: right;\">\n",
       "      <th></th>\n",
       "      <th>sentence_id</th>\n",
       "      <th>token_id</th>\n",
       "      <th>class</th>\n",
       "      <th>before</th>\n",
       "      <th>after</th>\n",
       "    </tr>\n",
       "  </thead>\n",
       "  <tbody>\n",
       "    <tr>\n",
       "      <th>60</th>\n",
       "      <td>4</td>\n",
       "      <td>4</td>\n",
       "      <td>VERBATIM</td>\n",
       "      <td>-</td>\n",
       "      <td>-</td>\n",
       "    </tr>\n",
       "    <tr>\n",
       "      <th>109</th>\n",
       "      <td>7</td>\n",
       "      <td>10</td>\n",
       "      <td>VERBATIM</td>\n",
       "      <td>兄</td>\n",
       "      <td>兄</td>\n",
       "    </tr>\n",
       "    <tr>\n",
       "      <th>110</th>\n",
       "      <td>7</td>\n",
       "      <td>11</td>\n",
       "      <td>VERBATIM</td>\n",
       "      <td>貴</td>\n",
       "      <td>貴</td>\n",
       "    </tr>\n",
       "    <tr>\n",
       "      <th>125</th>\n",
       "      <td>8</td>\n",
       "      <td>9</td>\n",
       "      <td>VERBATIM</td>\n",
       "      <td>-</td>\n",
       "      <td>-</td>\n",
       "    </tr>\n",
       "    <tr>\n",
       "      <th>212</th>\n",
       "      <td>16</td>\n",
       "      <td>7</td>\n",
       "      <td>VERBATIM</td>\n",
       "      <td>-</td>\n",
       "      <td>-</td>\n",
       "    </tr>\n",
       "  </tbody>\n",
       "</table>\n",
       "</div>"
      ],
      "text/plain": [
       "     sentence_id  token_id     class before after\n",
       "60             4         4  VERBATIM      -     -\n",
       "109            7        10  VERBATIM      兄     兄\n",
       "110            7        11  VERBATIM      貴     貴\n",
       "125            8         9  VERBATIM      -     -\n",
       "212           16         7  VERBATIM      -     -"
      ]
     },
     "execution_count": 87,
     "metadata": {},
     "output_type": "execute_result"
    }
   ],
   "source": [
    "train_verbatim.head()"
   ]
  },
  {
   "cell_type": "code",
   "execution_count": 89,
   "metadata": {},
   "outputs": [],
   "source": [
    "train_verbatim_errors = train_verbatim.query('after != before')"
   ]
  },
  {
   "cell_type": "code",
   "execution_count": 99,
   "metadata": {},
   "outputs": [
    {
     "data": {
      "text/html": [
       "<div>\n",
       "<style>\n",
       "    .dataframe thead tr:only-child th {\n",
       "        text-align: right;\n",
       "    }\n",
       "\n",
       "    .dataframe thead th {\n",
       "        text-align: left;\n",
       "    }\n",
       "\n",
       "    .dataframe tbody tr th {\n",
       "        vertical-align: top;\n",
       "    }\n",
       "</style>\n",
       "<table border=\"1\" class=\"dataframe\">\n",
       "  <thead>\n",
       "    <tr style=\"text-align: right;\">\n",
       "      <th></th>\n",
       "      <th>sentence_id</th>\n",
       "      <th>token_id</th>\n",
       "      <th>class</th>\n",
       "      <th>before</th>\n",
       "      <th>after</th>\n",
       "    </tr>\n",
       "  </thead>\n",
       "  <tbody>\n",
       "    <tr>\n",
       "      <th>10567593</th>\n",
       "      <td>760932</td>\n",
       "      <td>7</td>\n",
       "      <td>VERBATIM</td>\n",
       "      <td>&amp;</td>\n",
       "      <td>и</td>\n",
       "    </tr>\n",
       "    <tr>\n",
       "      <th>10568216</th>\n",
       "      <td>760981</td>\n",
       "      <td>11</td>\n",
       "      <td>VERBATIM</td>\n",
       "      <td>~</td>\n",
       "      <td>тильда</td>\n",
       "    </tr>\n",
       "    <tr>\n",
       "      <th>10571155</th>\n",
       "      <td>761184</td>\n",
       "      <td>12</td>\n",
       "      <td>VERBATIM</td>\n",
       "      <td>~</td>\n",
       "      <td>тильда</td>\n",
       "    </tr>\n",
       "    <tr>\n",
       "      <th>10572493</th>\n",
       "      <td>761286</td>\n",
       "      <td>20</td>\n",
       "      <td>VERBATIM</td>\n",
       "      <td>$</td>\n",
       "      <td>доллар</td>\n",
       "    </tr>\n",
       "    <tr>\n",
       "      <th>10572494</th>\n",
       "      <td>761286</td>\n",
       "      <td>21</td>\n",
       "      <td>VERBATIM</td>\n",
       "      <td>$</td>\n",
       "      <td>доллар</td>\n",
       "    </tr>\n",
       "  </tbody>\n",
       "</table>\n",
       "</div>"
      ],
      "text/plain": [
       "          sentence_id  token_id     class before   after\n",
       "10567593       760932         7  VERBATIM      &       и\n",
       "10568216       760981        11  VERBATIM      ~  тильда\n",
       "10571155       761184        12  VERBATIM      ~  тильда\n",
       "10572493       761286        20  VERBATIM      $  доллар\n",
       "10572494       761286        21  VERBATIM      $  доллар"
      ]
     },
     "execution_count": 99,
     "metadata": {},
     "output_type": "execute_result"
    }
   ],
   "source": [
    "train_verbatim_errors.tail()"
   ]
  },
  {
   "cell_type": "code",
   "execution_count": 122,
   "metadata": {},
   "outputs": [],
   "source": [
    "train_verbatim_error_1 = len(train_verbatim_errors) / len(train_verbatim)\n",
    "train_verbatim_error_2 = len(train_verbatim_errors) / len(train_errors)\n",
    "errors[\"VERBATIM\"] = (train_verbatim_error_1, train_verbatim_error_2)"
   ]
  },
  {
   "cell_type": "code",
   "execution_count": 123,
   "metadata": {
    "scrolled": false
   },
   "outputs": [
    {
     "name": "stdout",
     "output_type": "stream",
     "text": [
      "Percentage of errors in VERBATIM class: 8.20%\n",
      "Percentage of errors in train dataset: 0.98%\n"
     ]
    }
   ],
   "source": [
    "print (\"Percentage of errors in VERBATIM class: {0:.2f}%\".format(train_verbatim_error_1 * 100))\n",
    "print (\"Percentage of errors in train dataset: {0:.2f}%\".format(train_verbatim_error_2 * 100))"
   ]
  },
  {
   "cell_type": "markdown",
   "metadata": {},
   "source": [
    "### Compare [LETTERS] class "
   ]
  },
  {
   "cell_type": "code",
   "execution_count": 92,
   "metadata": {},
   "outputs": [],
   "source": [
    "train_letters = train[train['class'] == \"LETTERS\"]"
   ]
  },
  {
   "cell_type": "code",
   "execution_count": 93,
   "metadata": {
    "scrolled": true
   },
   "outputs": [
    {
     "data": {
      "text/html": [
       "<div>\n",
       "<style>\n",
       "    .dataframe thead tr:only-child th {\n",
       "        text-align: right;\n",
       "    }\n",
       "\n",
       "    .dataframe thead th {\n",
       "        text-align: left;\n",
       "    }\n",
       "\n",
       "    .dataframe tbody tr th {\n",
       "        vertical-align: top;\n",
       "    }\n",
       "</style>\n",
       "<table border=\"1\" class=\"dataframe\">\n",
       "  <thead>\n",
       "    <tr style=\"text-align: right;\">\n",
       "      <th></th>\n",
       "      <th>sentence_id</th>\n",
       "      <th>token_id</th>\n",
       "      <th>class</th>\n",
       "      <th>before</th>\n",
       "      <th>after</th>\n",
       "    </tr>\n",
       "  </thead>\n",
       "  <tbody>\n",
       "    <tr>\n",
       "      <th>92</th>\n",
       "      <td>6</td>\n",
       "      <td>8</td>\n",
       "      <td>LETTERS</td>\n",
       "      <td>TV</td>\n",
       "      <td>t v</td>\n",
       "    </tr>\n",
       "    <tr>\n",
       "      <th>186</th>\n",
       "      <td>12</td>\n",
       "      <td>9</td>\n",
       "      <td>LETTERS</td>\n",
       "      <td>РСФСР</td>\n",
       "      <td>р с ф с р</td>\n",
       "    </tr>\n",
       "    <tr>\n",
       "      <th>301</th>\n",
       "      <td>24</td>\n",
       "      <td>1</td>\n",
       "      <td>LETTERS</td>\n",
       "      <td>СПб</td>\n",
       "      <td>с п б</td>\n",
       "    </tr>\n",
       "    <tr>\n",
       "      <th>340</th>\n",
       "      <td>26</td>\n",
       "      <td>1</td>\n",
       "      <td>LETTERS</td>\n",
       "      <td>СПб</td>\n",
       "      <td>с п б</td>\n",
       "    </tr>\n",
       "    <tr>\n",
       "      <th>346</th>\n",
       "      <td>26</td>\n",
       "      <td>7</td>\n",
       "      <td>LETTERS</td>\n",
       "      <td>В. А.</td>\n",
       "      <td>в а</td>\n",
       "    </tr>\n",
       "  </tbody>\n",
       "</table>\n",
       "</div>"
      ],
      "text/plain": [
       "     sentence_id  token_id    class before      after\n",
       "92             6         8  LETTERS     TV        t v\n",
       "186           12         9  LETTERS  РСФСР  р с ф с р\n",
       "301           24         1  LETTERS    СПб      с п б\n",
       "340           26         1  LETTERS    СПб      с п б\n",
       "346           26         7  LETTERS  В. А.        в а"
      ]
     },
     "execution_count": 93,
     "metadata": {},
     "output_type": "execute_result"
    }
   ],
   "source": [
    "train_letters.head()"
   ]
  },
  {
   "cell_type": "code",
   "execution_count": 94,
   "metadata": {},
   "outputs": [],
   "source": [
    "train_letters_errors = train_letters.query('after != before')"
   ]
  },
  {
   "cell_type": "code",
   "execution_count": 124,
   "metadata": {},
   "outputs": [],
   "source": [
    "train_letters_error_1 = len(train_letters_errors) / len(train_letters)\n",
    "train_letters_error_2 = len(train_letters_errors) / len(train_errors)\n",
    "errors[\"LETTERS\"] = (train_letters_error_1, train_letters_error_2)"
   ]
  },
  {
   "cell_type": "code",
   "execution_count": 140,
   "metadata": {
    "scrolled": false
   },
   "outputs": [
    {
     "name": "stdout",
     "output_type": "stream",
     "text": [
      "Percentage of errors in LETTERS class: 99.98%\n",
      "Percentage of errors in train dataset: 14.33%\n"
     ]
    }
   ],
   "source": [
    "print (\"Percentage of errors in LETTERS class: {0:.2f}%\".format(train_letters_error_1 * 100))\n",
    "print (\"Percentage of errors in train dataset: {0:.2f}%\".format(train_letters_error_2 * 100))"
   ]
  },
  {
   "cell_type": "code",
   "execution_count": 100,
   "metadata": {},
   "outputs": [
    {
     "data": {
      "text/plain": [
       "array(['PLAIN', 'DATE', 'PUNCT', 'ORDINAL', 'VERBATIM', 'LETTERS',\n",
       "       'CARDINAL', 'MEASURE', 'TELEPHONE', 'ELECTRONIC', 'DECIMAL',\n",
       "       'DIGIT', 'FRACTION', 'MONEY', 'TIME'], dtype=object)"
      ]
     },
     "execution_count": 100,
     "metadata": {},
     "output_type": "execute_result"
    }
   ],
   "source": [
    "text_class"
   ]
  },
  {
   "cell_type": "markdown",
   "metadata": {},
   "source": [
    "### Compare [CARDINAL] class "
   ]
  },
  {
   "cell_type": "code",
   "execution_count": 101,
   "metadata": {},
   "outputs": [],
   "source": [
    "train_cardinal = train[train['class'] == \"CARDINAL\"]"
   ]
  },
  {
   "cell_type": "code",
   "execution_count": 102,
   "metadata": {
    "scrolled": true
   },
   "outputs": [
    {
     "data": {
      "text/html": [
       "<div>\n",
       "<style>\n",
       "    .dataframe thead tr:only-child th {\n",
       "        text-align: right;\n",
       "    }\n",
       "\n",
       "    .dataframe thead th {\n",
       "        text-align: left;\n",
       "    }\n",
       "\n",
       "    .dataframe tbody tr th {\n",
       "        vertical-align: top;\n",
       "    }\n",
       "</style>\n",
       "<table border=\"1\" class=\"dataframe\">\n",
       "  <thead>\n",
       "    <tr style=\"text-align: right;\">\n",
       "      <th></th>\n",
       "      <th>sentence_id</th>\n",
       "      <th>token_id</th>\n",
       "      <th>class</th>\n",
       "      <th>before</th>\n",
       "      <th>after</th>\n",
       "    </tr>\n",
       "  </thead>\n",
       "  <tbody>\n",
       "    <tr>\n",
       "      <th>137</th>\n",
       "      <td>9</td>\n",
       "      <td>9</td>\n",
       "      <td>CARDINAL</td>\n",
       "      <td>254</td>\n",
       "      <td>двести пятьдесят четыре</td>\n",
       "    </tr>\n",
       "    <tr>\n",
       "      <th>272</th>\n",
       "      <td>21</td>\n",
       "      <td>7</td>\n",
       "      <td>CARDINAL</td>\n",
       "      <td>2014</td>\n",
       "      <td>две тысячи четырнадцать</td>\n",
       "    </tr>\n",
       "    <tr>\n",
       "      <th>275</th>\n",
       "      <td>21</td>\n",
       "      <td>10</td>\n",
       "      <td>CARDINAL</td>\n",
       "      <td>12</td>\n",
       "      <td>двенадцать</td>\n",
       "    </tr>\n",
       "    <tr>\n",
       "      <th>304</th>\n",
       "      <td>24</td>\n",
       "      <td>4</td>\n",
       "      <td>CARDINAL</td>\n",
       "      <td>2014</td>\n",
       "      <td>две тысячи четырнадцать</td>\n",
       "    </tr>\n",
       "    <tr>\n",
       "      <th>343</th>\n",
       "      <td>26</td>\n",
       "      <td>4</td>\n",
       "      <td>CARDINAL</td>\n",
       "      <td>2011</td>\n",
       "      <td>две тысячи одиннадцать</td>\n",
       "    </tr>\n",
       "  </tbody>\n",
       "</table>\n",
       "</div>"
      ],
      "text/plain": [
       "     sentence_id  token_id     class before                    after\n",
       "137            9         9  CARDINAL    254  двести пятьдесят четыре\n",
       "272           21         7  CARDINAL   2014  две тысячи четырнадцать\n",
       "275           21        10  CARDINAL     12               двенадцать\n",
       "304           24         4  CARDINAL   2014  две тысячи четырнадцать\n",
       "343           26         4  CARDINAL   2011   две тысячи одиннадцать"
      ]
     },
     "execution_count": 102,
     "metadata": {},
     "output_type": "execute_result"
    }
   ],
   "source": [
    "train_cardinal.head()"
   ]
  },
  {
   "cell_type": "code",
   "execution_count": 103,
   "metadata": {},
   "outputs": [],
   "source": [
    "train_cardinal_errors = train_cardinal.query('after != before')"
   ]
  },
  {
   "cell_type": "code",
   "execution_count": 126,
   "metadata": {},
   "outputs": [],
   "source": [
    "train_cardinal_error_1 = len(train_cardinal_errors) / len(train_cardinal)\n",
    "train_cardinal_error_2 = len(train_cardinal_errors) / len(train_errors)\n",
    "errors[\"CARDINAL\"] = (train_cardinal_error_1, train_cardinal_error_2)"
   ]
  },
  {
   "cell_type": "code",
   "execution_count": 141,
   "metadata": {
    "scrolled": true
   },
   "outputs": [
    {
     "name": "stdout",
     "output_type": "stream",
     "text": [
      "Percentage of errors in CARDINAL class: 99.81%\n",
      "Percentage of errors in train dataset: 20.56%\n"
     ]
    }
   ],
   "source": [
    "print (\"Percentage of errors in CARDINAL class: {0:.2f}%\".format(train_cardinal_error_1 * 100))\n",
    "print (\"Percentage of errors in train dataset: {0:.2f}%\".format(train_cardinal_error_2 * 100))"
   ]
  },
  {
   "cell_type": "markdown",
   "metadata": {},
   "source": [
    "### Compare [MEASURE] class "
   ]
  },
  {
   "cell_type": "code",
   "execution_count": 105,
   "metadata": {},
   "outputs": [],
   "source": [
    "train_measure = train[train['class'] == \"MEASURE\"]"
   ]
  },
  {
   "cell_type": "code",
   "execution_count": 106,
   "metadata": {
    "scrolled": true
   },
   "outputs": [
    {
     "data": {
      "text/html": [
       "<div>\n",
       "<style>\n",
       "    .dataframe thead tr:only-child th {\n",
       "        text-align: right;\n",
       "    }\n",
       "\n",
       "    .dataframe thead th {\n",
       "        text-align: left;\n",
       "    }\n",
       "\n",
       "    .dataframe tbody tr th {\n",
       "        vertical-align: top;\n",
       "    }\n",
       "</style>\n",
       "<table border=\"1\" class=\"dataframe\">\n",
       "  <thead>\n",
       "    <tr style=\"text-align: right;\">\n",
       "      <th></th>\n",
       "      <th>sentence_id</th>\n",
       "      <th>token_id</th>\n",
       "      <th>class</th>\n",
       "      <th>before</th>\n",
       "      <th>after</th>\n",
       "    </tr>\n",
       "  </thead>\n",
       "  <tbody>\n",
       "    <tr>\n",
       "      <th>365</th>\n",
       "      <td>27</td>\n",
       "      <td>12</td>\n",
       "      <td>MEASURE</td>\n",
       "      <td>61st</td>\n",
       "      <td>шестьдесят один стоун</td>\n",
       "    </tr>\n",
       "    <tr>\n",
       "      <th>412</th>\n",
       "      <td>30</td>\n",
       "      <td>13</td>\n",
       "      <td>MEASURE</td>\n",
       "      <td>31 минуту</td>\n",
       "      <td>тридцати одной минуту</td>\n",
       "    </tr>\n",
       "    <tr>\n",
       "      <th>474</th>\n",
       "      <td>34</td>\n",
       "      <td>12</td>\n",
       "      <td>MEASURE</td>\n",
       "      <td>500 км</td>\n",
       "      <td>пятисот километров</td>\n",
       "    </tr>\n",
       "    <tr>\n",
       "      <th>605</th>\n",
       "      <td>44</td>\n",
       "      <td>6</td>\n",
       "      <td>MEASURE</td>\n",
       "      <td>80 см.</td>\n",
       "      <td>восемьдесят сантиметров</td>\n",
       "    </tr>\n",
       "    <tr>\n",
       "      <th>793</th>\n",
       "      <td>55</td>\n",
       "      <td>18</td>\n",
       "      <td>MEASURE</td>\n",
       "      <td>480 с.</td>\n",
       "      <td>четыреста восемьдесят секунд</td>\n",
       "    </tr>\n",
       "  </tbody>\n",
       "</table>\n",
       "</div>"
      ],
      "text/plain": [
       "     sentence_id  token_id    class     before                         after\n",
       "365           27        12  MEASURE       61st         шестьдесят один стоун\n",
       "412           30        13  MEASURE  31 минуту         тридцати одной минуту\n",
       "474           34        12  MEASURE     500 км            пятисот километров\n",
       "605           44         6  MEASURE     80 см.       восемьдесят сантиметров\n",
       "793           55        18  MEASURE     480 с.  четыреста восемьдесят секунд"
      ]
     },
     "execution_count": 106,
     "metadata": {},
     "output_type": "execute_result"
    }
   ],
   "source": [
    "train_measure.head()"
   ]
  },
  {
   "cell_type": "code",
   "execution_count": 107,
   "metadata": {},
   "outputs": [],
   "source": [
    "train_measure_errors = train_measure.query('after != before')"
   ]
  },
  {
   "cell_type": "code",
   "execution_count": 128,
   "metadata": {},
   "outputs": [],
   "source": [
    "train_measure_error_1 = len(train_measure_errors) / len(train_measure)\n",
    "train_measure_error_2 = len(train_measure_errors) / len(train_errors)\n",
    "errors[\"MEASURE\"] = (train_measure_error_1, train_measure_error_2)"
   ]
  },
  {
   "cell_type": "code",
   "execution_count": 142,
   "metadata": {
    "scrolled": false
   },
   "outputs": [
    {
     "name": "stdout",
     "output_type": "stream",
     "text": [
      "Percentage of errors in MEASURE class: 98.49%\n",
      "Percentage of errors in train dataset: 3.02%\n"
     ]
    }
   ],
   "source": [
    "print (\"Percentage of errors in MEASURE class: {0:.2f}%\".format(train_measure_error_1 * 100))\n",
    "print (\"Percentage of errors in train dataset: {0:.2f}%\".format(train_measure_error_2 * 100))"
   ]
  },
  {
   "cell_type": "markdown",
   "metadata": {},
   "source": [
    "### Compare [TELEPHONE] class "
   ]
  },
  {
   "cell_type": "code",
   "execution_count": 109,
   "metadata": {},
   "outputs": [],
   "source": [
    "train_telephone = train[train['class'] == \"TELEPHONE\"]"
   ]
  },
  {
   "cell_type": "code",
   "execution_count": 111,
   "metadata": {
    "scrolled": true
   },
   "outputs": [
    {
     "data": {
      "text/html": [
       "<div>\n",
       "<style>\n",
       "    .dataframe thead tr:only-child th {\n",
       "        text-align: right;\n",
       "    }\n",
       "\n",
       "    .dataframe thead th {\n",
       "        text-align: left;\n",
       "    }\n",
       "\n",
       "    .dataframe tbody tr th {\n",
       "        vertical-align: top;\n",
       "    }\n",
       "</style>\n",
       "<table border=\"1\" class=\"dataframe\">\n",
       "  <thead>\n",
       "    <tr style=\"text-align: right;\">\n",
       "      <th></th>\n",
       "      <th>sentence_id</th>\n",
       "      <th>token_id</th>\n",
       "      <th>class</th>\n",
       "      <th>before</th>\n",
       "      <th>after</th>\n",
       "    </tr>\n",
       "  </thead>\n",
       "  <tbody>\n",
       "    <tr>\n",
       "      <th>576</th>\n",
       "      <td>41</td>\n",
       "      <td>2</td>\n",
       "      <td>TELEPHONE</td>\n",
       "      <td>978-5-86007-700-3</td>\n",
       "      <td>девятьсот семьдесят восемь sil пять sil восемь...</td>\n",
       "    </tr>\n",
       "    <tr>\n",
       "      <th>4100</th>\n",
       "      <td>302</td>\n",
       "      <td>15</td>\n",
       "      <td>TELEPHONE</td>\n",
       "      <td>973-96857-7-3</td>\n",
       "      <td>девятьсот семьдесят три sil девятьсот шестьдес...</td>\n",
       "    </tr>\n",
       "    <tr>\n",
       "      <th>5530</th>\n",
       "      <td>418</td>\n",
       "      <td>1</td>\n",
       "      <td>TELEPHONE</td>\n",
       "      <td>0-87778-245-8</td>\n",
       "      <td>ноль sil восемьсот семьдесят семь семьдесят во...</td>\n",
       "    </tr>\n",
       "    <tr>\n",
       "      <th>5663</th>\n",
       "      <td>426</td>\n",
       "      <td>9</td>\n",
       "      <td>TELEPHONE</td>\n",
       "      <td>0-446-69334-0</td>\n",
       "      <td>ноль sil четыреста сорок шесть sil шестьсот де...</td>\n",
       "    </tr>\n",
       "    <tr>\n",
       "      <th>5887</th>\n",
       "      <td>443</td>\n",
       "      <td>10</td>\n",
       "      <td>TELEPHONE</td>\n",
       "      <td>5-9 221-0 440-3</td>\n",
       "      <td>пять sil девять sil двести двадцать один sil н...</td>\n",
       "    </tr>\n",
       "  </tbody>\n",
       "</table>\n",
       "</div>"
      ],
      "text/plain": [
       "      sentence_id  token_id      class             before  \\\n",
       "576            41         2  TELEPHONE  978-5-86007-700-3   \n",
       "4100          302        15  TELEPHONE      973-96857-7-3   \n",
       "5530          418         1  TELEPHONE      0-87778-245-8   \n",
       "5663          426         9  TELEPHONE      0-446-69334-0   \n",
       "5887          443        10  TELEPHONE    5-9 221-0 440-3   \n",
       "\n",
       "                                                  after  \n",
       "576   девятьсот семьдесят восемь sil пять sil восемь...  \n",
       "4100  девятьсот семьдесят три sil девятьсот шестьдес...  \n",
       "5530  ноль sil восемьсот семьдесят семь семьдесят во...  \n",
       "5663  ноль sil четыреста сорок шесть sil шестьсот де...  \n",
       "5887  пять sil девять sil двести двадцать один sil н...  "
      ]
     },
     "execution_count": 111,
     "metadata": {},
     "output_type": "execute_result"
    }
   ],
   "source": [
    "train_telephone.head()"
   ]
  },
  {
   "cell_type": "code",
   "execution_count": 110,
   "metadata": {},
   "outputs": [],
   "source": [
    "train_telephone_errors = train_telephone.query('after != before')"
   ]
  },
  {
   "cell_type": "code",
   "execution_count": 130,
   "metadata": {},
   "outputs": [],
   "source": [
    "train_telephone_error_1 = len(train_telephone_errors) / len(train_telephone)\n",
    "train_telephone_error_2 = len(train_telephone_errors) / len(train_errors)\n",
    "errors[\"TELEPHONE\"] = (train_telephone_error_1, train_telephone_error_2)"
   ]
  },
  {
   "cell_type": "code",
   "execution_count": 143,
   "metadata": {
    "scrolled": false
   },
   "outputs": [
    {
     "name": "stdout",
     "output_type": "stream",
     "text": [
      "Percentage of errors in TELEPHONE class: 100.00%\n",
      "Percentage of errors in train dataset: 0.76%\n"
     ]
    }
   ],
   "source": [
    "print (\"Percentage of errors in TELEPHONE class: {0:.2f}%\".format(train_telephone_error_1 * 100))\n",
    "print (\"Percentage of errors in train dataset: {0:.2f}%\".format(train_telephone_error_2 * 100))"
   ]
  },
  {
   "cell_type": "markdown",
   "metadata": {},
   "source": [
    "### Compare [ELECTRONIC] class "
   ]
  },
  {
   "cell_type": "code",
   "execution_count": 132,
   "metadata": {},
   "outputs": [],
   "source": [
    "train_electronic = train[train['class'] == \"ELECTRONIC\"]"
   ]
  },
  {
   "cell_type": "code",
   "execution_count": 133,
   "metadata": {
    "scrolled": true
   },
   "outputs": [
    {
     "data": {
      "text/html": [
       "<div>\n",
       "<style>\n",
       "    .dataframe thead tr:only-child th {\n",
       "        text-align: right;\n",
       "    }\n",
       "\n",
       "    .dataframe thead th {\n",
       "        text-align: left;\n",
       "    }\n",
       "\n",
       "    .dataframe tbody tr th {\n",
       "        vertical-align: top;\n",
       "    }\n",
       "</style>\n",
       "<table border=\"1\" class=\"dataframe\">\n",
       "  <thead>\n",
       "    <tr style=\"text-align: right;\">\n",
       "      <th></th>\n",
       "      <th>sentence_id</th>\n",
       "      <th>token_id</th>\n",
       "      <th>class</th>\n",
       "      <th>before</th>\n",
       "      <th>after</th>\n",
       "    </tr>\n",
       "  </thead>\n",
       "  <tbody>\n",
       "    <tr>\n",
       "      <th>1257</th>\n",
       "      <td>89</td>\n",
       "      <td>7</td>\n",
       "      <td>ELECTRONIC</td>\n",
       "      <td>ElvisPresleyBiography.com</td>\n",
       "      <td>э_trans л_trans в_trans и_trans с_trans п_tran...</td>\n",
       "    </tr>\n",
       "    <tr>\n",
       "      <th>3157</th>\n",
       "      <td>224</td>\n",
       "      <td>23</td>\n",
       "      <td>ELECTRONIC</td>\n",
       "      <td>About.com</td>\n",
       "      <td>э_trans б_trans а_trans у_trans т_trans точка ...</td>\n",
       "    </tr>\n",
       "    <tr>\n",
       "      <th>3883</th>\n",
       "      <td>284</td>\n",
       "      <td>0</td>\n",
       "      <td>ELECTRONIC</td>\n",
       "      <td>Billboard.com</td>\n",
       "      <td>б_trans и_trans л_trans б_trans о_trans р_tran...</td>\n",
       "    </tr>\n",
       "    <tr>\n",
       "      <th>5808</th>\n",
       "      <td>437</td>\n",
       "      <td>0</td>\n",
       "      <td>ELECTRONIC</td>\n",
       "      <td>THG.ru</td>\n",
       "      <td>t h g точка р_trans у_trans</td>\n",
       "    </tr>\n",
       "    <tr>\n",
       "      <th>9400</th>\n",
       "      <td>695</td>\n",
       "      <td>1</td>\n",
       "      <td>ELECTRONIC</td>\n",
       "      <td>2014-09-01.Charts.org.nz</td>\n",
       "      <td>две тысячи четырнадцать дефис ноль девять дефи...</td>\n",
       "    </tr>\n",
       "  </tbody>\n",
       "</table>\n",
       "</div>"
      ],
      "text/plain": [
       "      sentence_id  token_id       class                     before  \\\n",
       "1257           89         7  ELECTRONIC  ElvisPresleyBiography.com   \n",
       "3157          224        23  ELECTRONIC                  About.com   \n",
       "3883          284         0  ELECTRONIC              Billboard.com   \n",
       "5808          437         0  ELECTRONIC                     THG.ru   \n",
       "9400          695         1  ELECTRONIC   2014-09-01.Charts.org.nz   \n",
       "\n",
       "                                                  after  \n",
       "1257  э_trans л_trans в_trans и_trans с_trans п_tran...  \n",
       "3157  э_trans б_trans а_trans у_trans т_trans точка ...  \n",
       "3883  б_trans и_trans л_trans б_trans о_trans р_tran...  \n",
       "5808                        t h g точка р_trans у_trans  \n",
       "9400  две тысячи четырнадцать дефис ноль девять дефи...  "
      ]
     },
     "execution_count": 133,
     "metadata": {},
     "output_type": "execute_result"
    }
   ],
   "source": [
    "train_electronic.head()"
   ]
  },
  {
   "cell_type": "code",
   "execution_count": 138,
   "metadata": {},
   "outputs": [],
   "source": [
    "train_electronic_errors = train_electronic.query('after != before')"
   ]
  },
  {
   "cell_type": "code",
   "execution_count": 139,
   "metadata": {},
   "outputs": [],
   "source": [
    "train_electronic_error_1 = len(train_electronic_errors) / len(train_electronic)\n",
    "train_electronic_error_2 = len(train_electronic_errors) / len(train_errors)\n",
    "errors[\"ELECTRONIC\"] = (train_electronic_error_1, train_electronic_error_2)"
   ]
  },
  {
   "cell_type": "code",
   "execution_count": 145,
   "metadata": {
    "scrolled": false
   },
   "outputs": [
    {
     "name": "stdout",
     "output_type": "stream",
     "text": [
      "Percentage of errors in ELECTRONIC class: 97.34%\n",
      "Percentage of errors in train dataset: 0.43%\n"
     ]
    }
   ],
   "source": [
    "print (\"Percentage of errors in ELECTRONIC class: {0:.2f}%\".format(train_electronic_error_1 * 100))\n",
    "print (\"Percentage of errors in train dataset: {0:.2f}%\".format(train_electronic_error_2 * 100))"
   ]
  },
  {
   "cell_type": "code",
   "execution_count": 146,
   "metadata": {},
   "outputs": [
    {
     "data": {
      "text/plain": [
       "array(['PLAIN', 'DATE', 'PUNCT', 'ORDINAL', 'VERBATIM', 'LETTERS',\n",
       "       'CARDINAL', 'MEASURE', 'TELEPHONE', 'ELECTRONIC', 'DECIMAL',\n",
       "       'DIGIT', 'FRACTION', 'MONEY', 'TIME'], dtype=object)"
      ]
     },
     "execution_count": 146,
     "metadata": {},
     "output_type": "execute_result"
    }
   ],
   "source": [
    "text_class"
   ]
  },
  {
   "cell_type": "markdown",
   "metadata": {},
   "source": [
    "### Compare [DECIMAL] class "
   ]
  },
  {
   "cell_type": "code",
   "execution_count": 147,
   "metadata": {},
   "outputs": [],
   "source": [
    "train_decimal = train[train['class'] == \"DECIMAL\"]"
   ]
  },
  {
   "cell_type": "code",
   "execution_count": 148,
   "metadata": {
    "scrolled": true
   },
   "outputs": [
    {
     "data": {
      "text/html": [
       "<div>\n",
       "<style>\n",
       "    .dataframe thead tr:only-child th {\n",
       "        text-align: right;\n",
       "    }\n",
       "\n",
       "    .dataframe thead th {\n",
       "        text-align: left;\n",
       "    }\n",
       "\n",
       "    .dataframe tbody tr th {\n",
       "        vertical-align: top;\n",
       "    }\n",
       "</style>\n",
       "<table border=\"1\" class=\"dataframe\">\n",
       "  <thead>\n",
       "    <tr style=\"text-align: right;\">\n",
       "      <th></th>\n",
       "      <th>sentence_id</th>\n",
       "      <th>token_id</th>\n",
       "      <th>class</th>\n",
       "      <th>before</th>\n",
       "      <th>after</th>\n",
       "    </tr>\n",
       "  </thead>\n",
       "  <tbody>\n",
       "    <tr>\n",
       "      <th>1292</th>\n",
       "      <td>91</td>\n",
       "      <td>10</td>\n",
       "      <td>DECIMAL</td>\n",
       "      <td>60 тысяч</td>\n",
       "      <td>шестьдесят тысяч</td>\n",
       "    </tr>\n",
       "    <tr>\n",
       "      <th>7237</th>\n",
       "      <td>542</td>\n",
       "      <td>7</td>\n",
       "      <td>DECIMAL</td>\n",
       "      <td>1 млн</td>\n",
       "      <td>одного миллиона</td>\n",
       "    </tr>\n",
       "    <tr>\n",
       "      <th>7685</th>\n",
       "      <td>575</td>\n",
       "      <td>16</td>\n",
       "      <td>DECIMAL</td>\n",
       "      <td>1,2</td>\n",
       "      <td>одна целая и две десятых</td>\n",
       "    </tr>\n",
       "    <tr>\n",
       "      <th>7687</th>\n",
       "      <td>575</td>\n",
       "      <td>18</td>\n",
       "      <td>DECIMAL</td>\n",
       "      <td>3,5</td>\n",
       "      <td>три целых и пять десятых</td>\n",
       "    </tr>\n",
       "    <tr>\n",
       "      <th>8712</th>\n",
       "      <td>640</td>\n",
       "      <td>16</td>\n",
       "      <td>DECIMAL</td>\n",
       "      <td>7203,54</td>\n",
       "      <td>семь тысяч двести три целых и пятьдесят четыре...</td>\n",
       "    </tr>\n",
       "  </tbody>\n",
       "</table>\n",
       "</div>"
      ],
      "text/plain": [
       "      sentence_id  token_id    class    before  \\\n",
       "1292           91        10  DECIMAL  60 тысяч   \n",
       "7237          542         7  DECIMAL     1 млн   \n",
       "7685          575        16  DECIMAL       1,2   \n",
       "7687          575        18  DECIMAL       3,5   \n",
       "8712          640        16  DECIMAL   7203,54   \n",
       "\n",
       "                                                  after  \n",
       "1292                                   шестьдесят тысяч  \n",
       "7237                                    одного миллиона  \n",
       "7685                           одна целая и две десятых  \n",
       "7687                           три целых и пять десятых  \n",
       "8712  семь тысяч двести три целых и пятьдесят четыре...  "
      ]
     },
     "execution_count": 148,
     "metadata": {},
     "output_type": "execute_result"
    }
   ],
   "source": [
    "train_decimal.head()"
   ]
  },
  {
   "cell_type": "code",
   "execution_count": 149,
   "metadata": {},
   "outputs": [],
   "source": [
    "train_decimal_errors = train_decimal.query('after != before')"
   ]
  },
  {
   "cell_type": "code",
   "execution_count": 150,
   "metadata": {},
   "outputs": [],
   "source": [
    "train_decimal_error_1 = len(train_decimal_errors) / len(train_decimal)\n",
    "train_decimal_error_2 = len(train_decimal_errors) / len(train_errors)\n",
    "errors[\"DECIMAL\"] = (train_decimal_error_1, train_decimal_error_2)"
   ]
  },
  {
   "cell_type": "code",
   "execution_count": 151,
   "metadata": {
    "scrolled": false
   },
   "outputs": [
    {
     "name": "stdout",
     "output_type": "stream",
     "text": [
      "Percentage of errors in DECIMAL class: 98.57%\n",
      "Percentage of errors in train dataset: 0.54%\n"
     ]
    }
   ],
   "source": [
    "print (\"Percentage of errors in DECIMAL class: {0:.2f}%\".format(train_decimal_error_1 * 100))\n",
    "print (\"Percentage of errors in train dataset: {0:.2f}%\".format(train_decimal_error_2 * 100))"
   ]
  },
  {
   "cell_type": "markdown",
   "metadata": {},
   "source": [
    "### Compare [DIGIT] class "
   ]
  },
  {
   "cell_type": "code",
   "execution_count": 152,
   "metadata": {},
   "outputs": [],
   "source": [
    "train_digit = train[train['class'] == \"DIGIT\"]"
   ]
  },
  {
   "cell_type": "code",
   "execution_count": 153,
   "metadata": {
    "scrolled": true
   },
   "outputs": [
    {
     "data": {
      "text/html": [
       "<div>\n",
       "<style>\n",
       "    .dataframe thead tr:only-child th {\n",
       "        text-align: right;\n",
       "    }\n",
       "\n",
       "    .dataframe thead th {\n",
       "        text-align: left;\n",
       "    }\n",
       "\n",
       "    .dataframe tbody tr th {\n",
       "        vertical-align: top;\n",
       "    }\n",
       "</style>\n",
       "<table border=\"1\" class=\"dataframe\">\n",
       "  <thead>\n",
       "    <tr style=\"text-align: right;\">\n",
       "      <th></th>\n",
       "      <th>sentence_id</th>\n",
       "      <th>token_id</th>\n",
       "      <th>class</th>\n",
       "      <th>before</th>\n",
       "      <th>after</th>\n",
       "    </tr>\n",
       "  </thead>\n",
       "  <tbody>\n",
       "    <tr>\n",
       "      <th>2524</th>\n",
       "      <td>178</td>\n",
       "      <td>4</td>\n",
       "      <td>DIGIT</td>\n",
       "      <td>06</td>\n",
       "      <td>ноль шесть</td>\n",
       "    </tr>\n",
       "    <tr>\n",
       "      <th>9254</th>\n",
       "      <td>683</td>\n",
       "      <td>7</td>\n",
       "      <td>DIGIT</td>\n",
       "      <td>007</td>\n",
       "      <td>ноль ноль семь</td>\n",
       "    </tr>\n",
       "    <tr>\n",
       "      <th>22460</th>\n",
       "      <td>1667</td>\n",
       "      <td>4</td>\n",
       "      <td>DIGIT</td>\n",
       "      <td>00</td>\n",
       "      <td>ноль ноль</td>\n",
       "    </tr>\n",
       "    <tr>\n",
       "      <th>23209</th>\n",
       "      <td>1722</td>\n",
       "      <td>8</td>\n",
       "      <td>DIGIT</td>\n",
       "      <td>0171</td>\n",
       "      <td>ноль один семь один</td>\n",
       "    </tr>\n",
       "    <tr>\n",
       "      <th>36632</th>\n",
       "      <td>2680</td>\n",
       "      <td>22</td>\n",
       "      <td>DIGIT</td>\n",
       "      <td>09</td>\n",
       "      <td>ноль девять</td>\n",
       "    </tr>\n",
       "  </tbody>\n",
       "</table>\n",
       "</div>"
      ],
      "text/plain": [
       "       sentence_id  token_id  class before                after\n",
       "2524           178         4  DIGIT     06           ноль шесть\n",
       "9254           683         7  DIGIT    007       ноль ноль семь\n",
       "22460         1667         4  DIGIT     00            ноль ноль\n",
       "23209         1722         8  DIGIT   0171  ноль один семь один\n",
       "36632         2680        22  DIGIT     09          ноль девять"
      ]
     },
     "execution_count": 153,
     "metadata": {},
     "output_type": "execute_result"
    }
   ],
   "source": [
    "train_digit.head()"
   ]
  },
  {
   "cell_type": "code",
   "execution_count": 165,
   "metadata": {},
   "outputs": [
    {
     "name": "stdout",
     "output_type": "stream",
     "text": [
      "All values in the [DIGIT] class starts with \"0\" symbol\n",
      "2012\n",
      "2012\n"
     ]
    }
   ],
   "source": [
    "print (\"All values in the [DIGIT] class starts with \\\"0\\\" symbol\")\n",
    "print (len(train_digit_errors))\n",
    "print (train_digit_errors['before'].apply(lambda x: 1 if x.startswith(\"0\") else 0).sum())"
   ]
  },
  {
   "cell_type": "code",
   "execution_count": 154,
   "metadata": {},
   "outputs": [],
   "source": [
    "train_digit_errors = train_digit.query('after != before')"
   ]
  },
  {
   "cell_type": "code",
   "execution_count": 155,
   "metadata": {},
   "outputs": [],
   "source": [
    "train_digit_error_1 = len(train_digit_errors) / len(train_digit)\n",
    "train_digit_error_2 = len(train_digit_errors) / len(train_errors)\n",
    "errors[\"DIGIT\"] = (train_digit_error_1, train_digit_error_2)"
   ]
  },
  {
   "cell_type": "code",
   "execution_count": 156,
   "metadata": {
    "scrolled": false
   },
   "outputs": [
    {
     "name": "stdout",
     "output_type": "stream",
     "text": [
      "Percentage of errors in DIGIT class: 100.00%\n",
      "Percentage of errors in train dataset: 0.15%\n"
     ]
    }
   ],
   "source": [
    "print (\"Percentage of errors in DIGIT class: {0:.2f}%\".format(train_digit_error_1 * 100))\n",
    "print (\"Percentage of errors in train dataset: {0:.2f}%\".format(train_digit_error_2 * 100))"
   ]
  },
  {
   "cell_type": "markdown",
   "metadata": {},
   "source": [
    "### Compare [FRACTION] class "
   ]
  },
  {
   "cell_type": "code",
   "execution_count": 166,
   "metadata": {},
   "outputs": [],
   "source": [
    "train_fraction = train[train['class'] == \"FRACTION\"]"
   ]
  },
  {
   "cell_type": "code",
   "execution_count": 167,
   "metadata": {
    "scrolled": true
   },
   "outputs": [
    {
     "data": {
      "text/html": [
       "<div>\n",
       "<style>\n",
       "    .dataframe thead tr:only-child th {\n",
       "        text-align: right;\n",
       "    }\n",
       "\n",
       "    .dataframe thead th {\n",
       "        text-align: left;\n",
       "    }\n",
       "\n",
       "    .dataframe tbody tr th {\n",
       "        vertical-align: top;\n",
       "    }\n",
       "</style>\n",
       "<table border=\"1\" class=\"dataframe\">\n",
       "  <thead>\n",
       "    <tr style=\"text-align: right;\">\n",
       "      <th></th>\n",
       "      <th>sentence_id</th>\n",
       "      <th>token_id</th>\n",
       "      <th>class</th>\n",
       "      <th>before</th>\n",
       "      <th>after</th>\n",
       "    </tr>\n",
       "  </thead>\n",
       "  <tbody>\n",
       "    <tr>\n",
       "      <th>3578</th>\n",
       "      <td>259</td>\n",
       "      <td>17</td>\n",
       "      <td>FRACTION</td>\n",
       "      <td>1883/1884</td>\n",
       "      <td>тысяча восемьсот восемьдесят три тысяча восемь...</td>\n",
       "    </tr>\n",
       "    <tr>\n",
       "      <th>15218</th>\n",
       "      <td>1121</td>\n",
       "      <td>7</td>\n",
       "      <td>FRACTION</td>\n",
       "      <td>653/26</td>\n",
       "      <td>шестьсот пятьдесят три двадцать шестых</td>\n",
       "    </tr>\n",
       "    <tr>\n",
       "      <th>23441</th>\n",
       "      <td>1735</td>\n",
       "      <td>11</td>\n",
       "      <td>FRACTION</td>\n",
       "      <td>3/16</td>\n",
       "      <td>трех шестнадцатых</td>\n",
       "    </tr>\n",
       "    <tr>\n",
       "      <th>24061</th>\n",
       "      <td>1781</td>\n",
       "      <td>5</td>\n",
       "      <td>FRACTION</td>\n",
       "      <td>2/3</td>\n",
       "      <td>две третьих</td>\n",
       "    </tr>\n",
       "    <tr>\n",
       "      <th>28159</th>\n",
       "      <td>2075</td>\n",
       "      <td>17</td>\n",
       "      <td>FRACTION</td>\n",
       "      <td>2014/15</td>\n",
       "      <td>две тысячи четырнадцать пятнадцатых</td>\n",
       "    </tr>\n",
       "  </tbody>\n",
       "</table>\n",
       "</div>"
      ],
      "text/plain": [
       "       sentence_id  token_id     class     before  \\\n",
       "3578           259        17  FRACTION  1883/1884   \n",
       "15218         1121         7  FRACTION     653/26   \n",
       "23441         1735        11  FRACTION       3/16   \n",
       "24061         1781         5  FRACTION        2/3   \n",
       "28159         2075        17  FRACTION    2014/15   \n",
       "\n",
       "                                                   after  \n",
       "3578   тысяча восемьсот восемьдесят три тысяча восемь...  \n",
       "15218             шестьсот пятьдесят три двадцать шестых  \n",
       "23441                                  трех шестнадцатых  \n",
       "24061                                        две третьих  \n",
       "28159                две тысячи четырнадцать пятнадцатых  "
      ]
     },
     "execution_count": 167,
     "metadata": {},
     "output_type": "execute_result"
    }
   ],
   "source": [
    "train_fraction.head()"
   ]
  },
  {
   "cell_type": "code",
   "execution_count": 168,
   "metadata": {},
   "outputs": [],
   "source": [
    "train_fraction_errors = train_fraction.query('after != before')"
   ]
  },
  {
   "cell_type": "code",
   "execution_count": 169,
   "metadata": {},
   "outputs": [],
   "source": [
    "train_fraction_error_1 = len(train_fraction_errors) / len(train_fraction)\n",
    "train_fraction_error_2 = len(train_fraction_errors) / len(train_errors)\n",
    "errors[\"FRACTION\"] = (train_fraction_error_1, train_fraction_error_2)"
   ]
  },
  {
   "cell_type": "code",
   "execution_count": 170,
   "metadata": {
    "scrolled": false
   },
   "outputs": [
    {
     "name": "stdout",
     "output_type": "stream",
     "text": [
      "Percentage of errors in FRACTION class: 98.98%\n",
      "Percentage of errors in train dataset: 0.18%\n"
     ]
    }
   ],
   "source": [
    "print (\"Percentage of errors in FRACTION class: {0:.2f}%\".format(train_fraction_error_1 * 100))\n",
    "print (\"Percentage of errors in train dataset: {0:.2f}%\".format(train_fraction_error_2 * 100))"
   ]
  },
  {
   "cell_type": "markdown",
   "metadata": {},
   "source": [
    "### Compare [MONEY] class "
   ]
  },
  {
   "cell_type": "code",
   "execution_count": 171,
   "metadata": {},
   "outputs": [],
   "source": [
    "train_money = train[train['class'] == \"MONEY\"]"
   ]
  },
  {
   "cell_type": "code",
   "execution_count": 172,
   "metadata": {
    "scrolled": true
   },
   "outputs": [
    {
     "data": {
      "text/html": [
       "<div>\n",
       "<style>\n",
       "    .dataframe thead tr:only-child th {\n",
       "        text-align: right;\n",
       "    }\n",
       "\n",
       "    .dataframe thead th {\n",
       "        text-align: left;\n",
       "    }\n",
       "\n",
       "    .dataframe tbody tr th {\n",
       "        vertical-align: top;\n",
       "    }\n",
       "</style>\n",
       "<table border=\"1\" class=\"dataframe\">\n",
       "  <thead>\n",
       "    <tr style=\"text-align: right;\">\n",
       "      <th></th>\n",
       "      <th>sentence_id</th>\n",
       "      <th>token_id</th>\n",
       "      <th>class</th>\n",
       "      <th>before</th>\n",
       "      <th>after</th>\n",
       "    </tr>\n",
       "  </thead>\n",
       "  <tbody>\n",
       "    <tr>\n",
       "      <th>12028</th>\n",
       "      <td>883</td>\n",
       "      <td>5</td>\n",
       "      <td>MONEY</td>\n",
       "      <td>194 млн долл.</td>\n",
       "      <td>ста девяноста четырех миллионов долларов</td>\n",
       "    </tr>\n",
       "    <tr>\n",
       "      <th>18226</th>\n",
       "      <td>1345</td>\n",
       "      <td>10</td>\n",
       "      <td>MONEY</td>\n",
       "      <td>2 миллионов долларов</td>\n",
       "      <td>двух миллионов долларов</td>\n",
       "    </tr>\n",
       "    <tr>\n",
       "      <th>20298</th>\n",
       "      <td>1504</td>\n",
       "      <td>9</td>\n",
       "      <td>MONEY</td>\n",
       "      <td>10 000 рублей</td>\n",
       "      <td>десять тысяч рублей</td>\n",
       "    </tr>\n",
       "    <tr>\n",
       "      <th>22832</th>\n",
       "      <td>1696</td>\n",
       "      <td>9</td>\n",
       "      <td>MONEY</td>\n",
       "      <td>200 миллионов рублей</td>\n",
       "      <td>двести миллионов рублей</td>\n",
       "    </tr>\n",
       "    <tr>\n",
       "      <th>24820</th>\n",
       "      <td>1835</td>\n",
       "      <td>4</td>\n",
       "      <td>MONEY</td>\n",
       "      <td>250 рублей</td>\n",
       "      <td>двести пятьдесят рублей</td>\n",
       "    </tr>\n",
       "  </tbody>\n",
       "</table>\n",
       "</div>"
      ],
      "text/plain": [
       "       sentence_id  token_id  class                before  \\\n",
       "12028          883         5  MONEY         194 млн долл.   \n",
       "18226         1345        10  MONEY  2 миллионов долларов   \n",
       "20298         1504         9  MONEY         10 000 рублей   \n",
       "22832         1696         9  MONEY  200 миллионов рублей   \n",
       "24820         1835         4  MONEY            250 рублей   \n",
       "\n",
       "                                          after  \n",
       "12028  ста девяноста четырех миллионов долларов  \n",
       "18226                   двух миллионов долларов  \n",
       "20298                       десять тысяч рублей  \n",
       "22832                   двести миллионов рублей  \n",
       "24820                   двести пятьдесят рублей  "
      ]
     },
     "execution_count": 172,
     "metadata": {},
     "output_type": "execute_result"
    }
   ],
   "source": [
    "train_money.head()"
   ]
  },
  {
   "cell_type": "code",
   "execution_count": 173,
   "metadata": {},
   "outputs": [],
   "source": [
    "train_money_errors = train_money.query('after != before')"
   ]
  },
  {
   "cell_type": "code",
   "execution_count": 174,
   "metadata": {},
   "outputs": [],
   "source": [
    "train_money_error_1 = len(train_money_errors) / len(train_money)\n",
    "train_money_error_2 = len(train_money_errors) / len(train_errors)\n",
    "errors[\"MONEY\"] = (train_money_error_1, train_money_error_2)"
   ]
  },
  {
   "cell_type": "code",
   "execution_count": 176,
   "metadata": {
    "scrolled": true
   },
   "outputs": [
    {
     "name": "stdout",
     "output_type": "stream",
     "text": [
      "Percentage of errors in MONEY class: 97.51%\n",
      "Percentage of errors in train dataset: 0.20%\n"
     ]
    }
   ],
   "source": [
    "print (\"Percentage of errors in MONEY class: {0:.2f}%\".format(train_money_error_1 * 100))\n",
    "print (\"Percentage of errors in train dataset: {0:.2f}%\".format(train_money_error_2 * 100))"
   ]
  },
  {
   "cell_type": "markdown",
   "metadata": {},
   "source": [
    "### Compare [TIME] class "
   ]
  },
  {
   "cell_type": "code",
   "execution_count": 177,
   "metadata": {},
   "outputs": [],
   "source": [
    "train_time = train[train['class'] == \"TIME\"]"
   ]
  },
  {
   "cell_type": "code",
   "execution_count": 178,
   "metadata": {
    "scrolled": true
   },
   "outputs": [
    {
     "data": {
      "text/html": [
       "<div>\n",
       "<style>\n",
       "    .dataframe thead tr:only-child th {\n",
       "        text-align: right;\n",
       "    }\n",
       "\n",
       "    .dataframe thead th {\n",
       "        text-align: left;\n",
       "    }\n",
       "\n",
       "    .dataframe tbody tr th {\n",
       "        vertical-align: top;\n",
       "    }\n",
       "</style>\n",
       "<table border=\"1\" class=\"dataframe\">\n",
       "  <thead>\n",
       "    <tr style=\"text-align: right;\">\n",
       "      <th></th>\n",
       "      <th>sentence_id</th>\n",
       "      <th>token_id</th>\n",
       "      <th>class</th>\n",
       "      <th>before</th>\n",
       "      <th>after</th>\n",
       "    </tr>\n",
       "  </thead>\n",
       "  <tbody>\n",
       "    <tr>\n",
       "      <th>14366</th>\n",
       "      <td>1059</td>\n",
       "      <td>1</td>\n",
       "      <td>TIME</td>\n",
       "      <td>11:19:52</td>\n",
       "      <td>11:19:52</td>\n",
       "    </tr>\n",
       "    <tr>\n",
       "      <th>14615</th>\n",
       "      <td>1076</td>\n",
       "      <td>1</td>\n",
       "      <td>TIME</td>\n",
       "      <td>11:20:41</td>\n",
       "      <td>11:20:41</td>\n",
       "    </tr>\n",
       "    <tr>\n",
       "      <th>36235</th>\n",
       "      <td>2652</td>\n",
       "      <td>2</td>\n",
       "      <td>TIME</td>\n",
       "      <td>06:06</td>\n",
       "      <td>шесть часов шесть минут</td>\n",
       "    </tr>\n",
       "    <tr>\n",
       "      <th>45775</th>\n",
       "      <td>3347</td>\n",
       "      <td>2</td>\n",
       "      <td>TIME</td>\n",
       "      <td>15:03:28</td>\n",
       "      <td>15:03:28</td>\n",
       "    </tr>\n",
       "    <tr>\n",
       "      <th>57147</th>\n",
       "      <td>4195</td>\n",
       "      <td>10</td>\n",
       "      <td>TIME</td>\n",
       "      <td>02:33</td>\n",
       "      <td>два часа тридцать три минуты</td>\n",
       "    </tr>\n",
       "  </tbody>\n",
       "</table>\n",
       "</div>"
      ],
      "text/plain": [
       "       sentence_id  token_id class    before                         after\n",
       "14366         1059         1  TIME  11:19:52                      11:19:52\n",
       "14615         1076         1  TIME  11:20:41                      11:20:41\n",
       "36235         2652         2  TIME     06:06       шесть часов шесть минут\n",
       "45775         3347         2  TIME  15:03:28                      15:03:28\n",
       "57147         4195        10  TIME     02:33  два часа тридцать три минуты"
      ]
     },
     "execution_count": 178,
     "metadata": {},
     "output_type": "execute_result"
    }
   ],
   "source": [
    "train_time.head()"
   ]
  },
  {
   "cell_type": "code",
   "execution_count": 179,
   "metadata": {},
   "outputs": [],
   "source": [
    "train_time_errors = train_time.query('after != before')"
   ]
  },
  {
   "cell_type": "code",
   "execution_count": 180,
   "metadata": {},
   "outputs": [],
   "source": [
    "train_time_error_1 = len(train_time_errors) / len(train_time)\n",
    "train_time_error_2 = len(train_time_errors) / len(train_errors)\n",
    "errors[\"TIME\"] = (train_time_error_1, train_time_error_2)"
   ]
  },
  {
   "cell_type": "code",
   "execution_count": 181,
   "metadata": {
    "scrolled": true
   },
   "outputs": [
    {
     "name": "stdout",
     "output_type": "stream",
     "text": [
      "Percentage of errors in TIME class: 97.43%\n",
      "Percentage of errors in train dataset: 0.14%\n"
     ]
    }
   ],
   "source": [
    "print (\"Percentage of errors in TIME class: {0:.2f}%\".format(train_time_error_1 * 100))\n",
    "print (\"Percentage of errors in train dataset: {0:.2f}%\".format(train_time_error_2 * 100))"
   ]
  },
  {
   "cell_type": "code",
   "execution_count": null,
   "metadata": {},
   "outputs": [],
   "source": []
  },
  {
   "cell_type": "code",
   "execution_count": null,
   "metadata": {},
   "outputs": [],
   "source": []
  },
  {
   "cell_type": "markdown",
   "metadata": {},
   "source": [
    "## Summary"
   ]
  },
  {
   "cell_type": "code",
   "execution_count": 209,
   "metadata": {},
   "outputs": [
    {
     "name": "stdout",
     "output_type": "stream",
     "text": [
      "Errors for classes\n",
      "\n",
      "Class \t\t\t in-class \t along dataset\n",
      "\n",
      "PLAIN         \t\t 7.39%       \t 41.14%\n",
      "TIME          \t\t 97.43%       \t 0.14%\n",
      "CARDINAL      \t\t 99.81%       \t 20.56%\n",
      "ORDINAL       \t\t 99.57%       \t 3.52%\n",
      "LETTERS       \t\t 99.98%       \t 14.33%\n",
      "VERBATIM      \t\t 8.20%       \t 0.98%\n",
      "DECIMAL       \t\t 98.57%       \t 0.54%\n",
      "MONEY         \t\t 97.51%       \t 0.20%\n",
      "PUNCT         \t\t 0.00%       \t 0.00%\n",
      "MEASURE       \t\t 98.49%       \t 3.02%\n",
      "TELEPHONE     \t\t 100.00%       \t 0.76%\n",
      "DIGIT         \t\t 100.00%       \t 0.15%\n",
      "FRACTION      \t\t 98.98%       \t 0.18%\n",
      "ELECTRONIC    \t\t 97.34%       \t 0.43%\n",
      "DATE          \t\t 99.95%       \t 14.05%\n"
     ]
    }
   ],
   "source": [
    "print (\"Errors for classes\\n\")\n",
    "print (\"Class \\t\\t\\t in-class \\t along dataset\\n\")\n",
    "for k, v in errors.items():\n",
    "    print (\"{:13s} \\t\\t {:.2f}% {:5s} \\t {:.2f}%\".format(k, v[0] * 100, \" \", v[1] * 100))"
   ]
  },
  {
   "cell_type": "code",
   "execution_count": null,
   "metadata": {},
   "outputs": [],
   "source": []
  }
 ],
 "metadata": {
  "kernelspec": {
   "display_name": "Python 3",
   "language": "python",
   "name": "python3"
  },
  "language_info": {
   "codemirror_mode": {
    "name": "ipython",
    "version": 3
   },
   "file_extension": ".py",
   "mimetype": "text/x-python",
   "name": "python",
   "nbconvert_exporter": "python",
   "pygments_lexer": "ipython3",
   "version": "3.5.4"
  }
 },
 "nbformat": 4,
 "nbformat_minor": 2
}
