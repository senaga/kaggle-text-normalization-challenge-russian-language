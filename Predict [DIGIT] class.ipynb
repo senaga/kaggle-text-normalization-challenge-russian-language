{
 "cells": [
  {
   "cell_type": "code",
   "execution_count": 1,
   "metadata": {
    "collapsed": true
   },
   "outputs": [],
   "source": [
    "import numpy as np\n",
    "import pandas as pd"
   ]
  },
  {
   "cell_type": "code",
   "execution_count": 2,
   "metadata": {
    "collapsed": true
   },
   "outputs": [],
   "source": [
    "train = pd.read_csv('data/train.csv', encoding = 'utf8')"
   ]
  },
  {
   "cell_type": "code",
   "execution_count": 49,
   "metadata": {
    "collapsed": true
   },
   "outputs": [],
   "source": [
    "train = train[train['class'] != 'PUNCT'] #we already processed this class"
   ]
  },
  {
   "cell_type": "code",
   "execution_count": 125,
   "metadata": {},
   "outputs": [],
   "source": [
    "train_digit = train[train['class'] == 'DIGIT']"
   ]
  },
  {
   "cell_type": "code",
   "execution_count": 7,
   "metadata": {},
   "outputs": [
    {
     "data": {
      "text/html": [
       "<div>\n",
       "<style>\n",
       "    .dataframe thead tr:only-child th {\n",
       "        text-align: right;\n",
       "    }\n",
       "\n",
       "    .dataframe thead th {\n",
       "        text-align: left;\n",
       "    }\n",
       "\n",
       "    .dataframe tbody tr th {\n",
       "        vertical-align: top;\n",
       "    }\n",
       "</style>\n",
       "<table border=\"1\" class=\"dataframe\">\n",
       "  <thead>\n",
       "    <tr style=\"text-align: right;\">\n",
       "      <th></th>\n",
       "      <th>sentence_id</th>\n",
       "      <th>token_id</th>\n",
       "      <th>class</th>\n",
       "      <th>before</th>\n",
       "      <th>after</th>\n",
       "    </tr>\n",
       "  </thead>\n",
       "  <tbody>\n",
       "    <tr>\n",
       "      <th>137</th>\n",
       "      <td>9</td>\n",
       "      <td>9</td>\n",
       "      <td>CARDINAL</td>\n",
       "      <td>254</td>\n",
       "      <td>двести пятьдесят четыре</td>\n",
       "    </tr>\n",
       "    <tr>\n",
       "      <th>272</th>\n",
       "      <td>21</td>\n",
       "      <td>7</td>\n",
       "      <td>CARDINAL</td>\n",
       "      <td>2014</td>\n",
       "      <td>две тысячи четырнадцать</td>\n",
       "    </tr>\n",
       "    <tr>\n",
       "      <th>275</th>\n",
       "      <td>21</td>\n",
       "      <td>10</td>\n",
       "      <td>CARDINAL</td>\n",
       "      <td>12</td>\n",
       "      <td>двенадцать</td>\n",
       "    </tr>\n",
       "    <tr>\n",
       "      <th>304</th>\n",
       "      <td>24</td>\n",
       "      <td>4</td>\n",
       "      <td>CARDINAL</td>\n",
       "      <td>2014</td>\n",
       "      <td>две тысячи четырнадцать</td>\n",
       "    </tr>\n",
       "    <tr>\n",
       "      <th>343</th>\n",
       "      <td>26</td>\n",
       "      <td>4</td>\n",
       "      <td>CARDINAL</td>\n",
       "      <td>2011</td>\n",
       "      <td>две тысячи одиннадцать</td>\n",
       "    </tr>\n",
       "  </tbody>\n",
       "</table>\n",
       "</div>"
      ],
      "text/plain": [
       "     sentence_id  token_id     class before                    after\n",
       "137            9         9  CARDINAL    254  двести пятьдесят четыре\n",
       "272           21         7  CARDINAL   2014  две тысячи четырнадцать\n",
       "275           21        10  CARDINAL     12               двенадцать\n",
       "304           24         4  CARDINAL   2014  две тысячи четырнадцать\n",
       "343           26         4  CARDINAL   2011   две тысячи одиннадцать"
      ]
     },
     "execution_count": 7,
     "metadata": {},
     "output_type": "execute_result"
    }
   ],
   "source": [
    "train_card.head()"
   ]
  },
  {
   "cell_type": "markdown",
   "metadata": {},
   "source": [
    "### 1. Predict [DIGIT] 'class' value | $20.56$% error rate"
   ]
  },
  {
   "cell_type": "code",
   "execution_count": 40,
   "metadata": {
    "collapsed": true
   },
   "outputs": [],
   "source": [
    "def is_number(value):\n",
    "    try:\n",
    "        int(value)\n",
    "        return True\n",
    "    except ValueError:\n",
    "        return False"
   ]
  },
  {
   "cell_type": "code",
   "execution_count": 45,
   "metadata": {},
   "outputs": [
    {
     "name": "stdout",
     "output_type": "stream",
     "text": [
      "2012\n",
      "2012\n"
     ]
    }
   ],
   "source": [
    "print len(train_digit)\n",
    "print train_digit.before.apply(lambda x: is_number(x) and x.startswith('0')).sum()"
   ]
  },
  {
   "cell_type": "code",
   "execution_count": 53,
   "metadata": {},
   "outputs": [
    {
     "data": {
      "text/plain": [
       "0"
      ]
     },
     "execution_count": 53,
     "metadata": {},
     "output_type": "execute_result"
    }
   ],
   "source": [
    "train_digit.before.apply(lambda x: len(x) <= 1).sum()"
   ]
  },
  {
   "cell_type": "markdown",
   "metadata": {},
   "source": [
    "All elements in DIGITS class start with $0$. Moreover this number must have at least a size of 2."
   ]
  },
  {
   "cell_type": "code",
   "execution_count": 56,
   "metadata": {},
   "outputs": [
    {
     "data": {
      "text/html": [
       "<div>\n",
       "<style>\n",
       "    .dataframe thead tr:only-child th {\n",
       "        text-align: right;\n",
       "    }\n",
       "\n",
       "    .dataframe thead th {\n",
       "        text-align: left;\n",
       "    }\n",
       "\n",
       "    .dataframe tbody tr th {\n",
       "        vertical-align: top;\n",
       "    }\n",
       "</style>\n",
       "<table border=\"1\" class=\"dataframe\">\n",
       "  <thead>\n",
       "    <tr style=\"text-align: right;\">\n",
       "      <th></th>\n",
       "      <th>sentence_id</th>\n",
       "      <th>token_id</th>\n",
       "      <th>class</th>\n",
       "      <th>before</th>\n",
       "      <th>after</th>\n",
       "    </tr>\n",
       "  </thead>\n",
       "  <tbody>\n",
       "    <tr>\n",
       "      <th>47276</th>\n",
       "      <td>3470</td>\n",
       "      <td>23</td>\n",
       "      <td>TELEPHONE</td>\n",
       "      <td>0060202</td>\n",
       "      <td>ноль ноль шесть ноль два ноль два</td>\n",
       "    </tr>\n",
       "    <tr>\n",
       "      <th>88947</th>\n",
       "      <td>6519</td>\n",
       "      <td>18</td>\n",
       "      <td>TELEPHONE</td>\n",
       "      <td>0718830067</td>\n",
       "      <td>ноль семь один восемь восемь три ноль ноль шес...</td>\n",
       "    </tr>\n",
       "    <tr>\n",
       "      <th>104315</th>\n",
       "      <td>7610</td>\n",
       "      <td>12</td>\n",
       "      <td>TELEPHONE</td>\n",
       "      <td>0155996932</td>\n",
       "      <td>ноль сто пятьдесят пять девятьсот девяносто ше...</td>\n",
       "    </tr>\n",
       "    <tr>\n",
       "      <th>134983</th>\n",
       "      <td>9797</td>\n",
       "      <td>8</td>\n",
       "      <td>TELEPHONE</td>\n",
       "      <td>0761317538</td>\n",
       "      <td>ноль семьсот шестьдесят один триста семнадцать...</td>\n",
       "    </tr>\n",
       "    <tr>\n",
       "      <th>137033</th>\n",
       "      <td>9950</td>\n",
       "      <td>12</td>\n",
       "      <td>TELEPHONE</td>\n",
       "      <td>0312048475</td>\n",
       "      <td>ноль три один два ноль четыре восемь четыре се...</td>\n",
       "    </tr>\n",
       "  </tbody>\n",
       "</table>\n",
       "</div>"
      ],
      "text/plain": [
       "        sentence_id  token_id      class      before  \\\n",
       "47276          3470        23  TELEPHONE     0060202   \n",
       "88947          6519        18  TELEPHONE  0718830067   \n",
       "104315         7610        12  TELEPHONE  0155996932   \n",
       "134983         9797         8  TELEPHONE  0761317538   \n",
       "137033         9950        12  TELEPHONE  0312048475   \n",
       "\n",
       "                                                    after  \n",
       "47276                   ноль ноль шесть ноль два ноль два  \n",
       "88947   ноль семь один восемь восемь три ноль ноль шес...  \n",
       "104315  ноль сто пятьдесят пять девятьсот девяносто ше...  \n",
       "134983  ноль семьсот шестьдесят один триста семнадцать...  \n",
       "137033  ноль три один два ноль четыре восемь четыре се...  "
      ]
     },
     "execution_count": 56,
     "metadata": {},
     "output_type": "execute_result"
    }
   ],
   "source": [
    "train_digit_errors = train[(train['class'] != 'DIGIT') & \\\n",
    "                           (train.before.apply(lambda x: str(x).startswith('0') and \\\n",
    "                                                         is_number(x) and \\\n",
    "                                                         len(x) > 1))]\n",
    "train_digit_errors.head()"
   ]
  },
  {
   "cell_type": "code",
   "execution_count": 57,
   "metadata": {},
   "outputs": [
    {
     "name": "stdout",
     "output_type": "stream",
     "text": [
      "598\n"
     ]
    }
   ],
   "source": [
    "print len(train_digit_errors)"
   ]
  },
  {
   "cell_type": "code",
   "execution_count": 59,
   "metadata": {},
   "outputs": [
    {
     "data": {
      "text/plain": [
       "TELEPHONE    593\n",
       "CARDINAL       5\n",
       "Name: class, dtype: int64"
      ]
     },
     "execution_count": 59,
     "metadata": {},
     "output_type": "execute_result"
    }
   ],
   "source": [
    "train_digit_errors['class'].value_counts()"
   ]
  },
  {
   "cell_type": "markdown",
   "metadata": {},
   "source": [
    "This means that if a number starts with $0$, it is more likely to be a 'DIGIT'. But it also could be 'CARDINAL' or 'TELEPHONE'. We will see if it is easy to separate these classes"
   ]
  },
  {
   "cell_type": "code",
   "execution_count": 60,
   "metadata": {},
   "outputs": [
    {
     "data": {
      "text/html": [
       "<div>\n",
       "<style>\n",
       "    .dataframe thead tr:only-child th {\n",
       "        text-align: right;\n",
       "    }\n",
       "\n",
       "    .dataframe thead th {\n",
       "        text-align: left;\n",
       "    }\n",
       "\n",
       "    .dataframe tbody tr th {\n",
       "        vertical-align: top;\n",
       "    }\n",
       "</style>\n",
       "<table border=\"1\" class=\"dataframe\">\n",
       "  <thead>\n",
       "    <tr style=\"text-align: right;\">\n",
       "      <th></th>\n",
       "      <th>sentence_id</th>\n",
       "      <th>token_id</th>\n",
       "      <th>class</th>\n",
       "      <th>before</th>\n",
       "      <th>after</th>\n",
       "    </tr>\n",
       "  </thead>\n",
       "  <tbody>\n",
       "    <tr>\n",
       "      <th>605596</th>\n",
       "      <td>43912</td>\n",
       "      <td>12</td>\n",
       "      <td>CARDINAL</td>\n",
       "      <td>08</td>\n",
       "      <td>восемь</td>\n",
       "    </tr>\n",
       "    <tr>\n",
       "      <th>3927636</th>\n",
       "      <td>284000</td>\n",
       "      <td>14</td>\n",
       "      <td>CARDINAL</td>\n",
       "      <td>09</td>\n",
       "      <td>девять</td>\n",
       "    </tr>\n",
       "    <tr>\n",
       "      <th>9075205</th>\n",
       "      <td>653766</td>\n",
       "      <td>11</td>\n",
       "      <td>CARDINAL</td>\n",
       "      <td>07</td>\n",
       "      <td>семь</td>\n",
       "    </tr>\n",
       "    <tr>\n",
       "      <th>9075209</th>\n",
       "      <td>653766</td>\n",
       "      <td>15</td>\n",
       "      <td>CARDINAL</td>\n",
       "      <td>09</td>\n",
       "      <td>девять</td>\n",
       "    </tr>\n",
       "    <tr>\n",
       "      <th>9880522</th>\n",
       "      <td>711620</td>\n",
       "      <td>18</td>\n",
       "      <td>CARDINAL</td>\n",
       "      <td>00</td>\n",
       "      <td>ноль</td>\n",
       "    </tr>\n",
       "  </tbody>\n",
       "</table>\n",
       "</div>"
      ],
      "text/plain": [
       "         sentence_id  token_id     class before   after\n",
       "605596         43912        12  CARDINAL     08  восемь\n",
       "3927636       284000        14  CARDINAL     09  девять\n",
       "9075205       653766        11  CARDINAL     07    семь\n",
       "9075209       653766        15  CARDINAL     09  девять\n",
       "9880522       711620        18  CARDINAL     00    ноль"
      ]
     },
     "execution_count": 60,
     "metadata": {},
     "output_type": "execute_result"
    }
   ],
   "source": [
    "train_digit_errors[train_digit_errors['class'] == 'CARDINAL']"
   ]
  },
  {
   "cell_type": "markdown",
   "metadata": {},
   "source": [
    "This seems to be just a noise or a mistake. To fix 'CARDINAL' elements, we need to check a token before the element. It must be 'x' letter"
   ]
  },
  {
   "cell_type": "code",
   "execution_count": 86,
   "metadata": {},
   "outputs": [
    {
     "data": {
      "text/html": [
       "<div>\n",
       "<style>\n",
       "    .dataframe thead tr:only-child th {\n",
       "        text-align: right;\n",
       "    }\n",
       "\n",
       "    .dataframe thead th {\n",
       "        text-align: left;\n",
       "    }\n",
       "\n",
       "    .dataframe tbody tr th {\n",
       "        vertical-align: top;\n",
       "    }\n",
       "</style>\n",
       "<table border=\"1\" class=\"dataframe\">\n",
       "  <thead>\n",
       "    <tr style=\"text-align: right;\">\n",
       "      <th></th>\n",
       "      <th>sentence_id</th>\n",
       "      <th>token_id</th>\n",
       "      <th>class</th>\n",
       "      <th>before</th>\n",
       "      <th>after</th>\n",
       "    </tr>\n",
       "  </thead>\n",
       "  <tbody>\n",
       "    <tr>\n",
       "      <th>9075194</th>\n",
       "      <td>653766</td>\n",
       "      <td>0</td>\n",
       "      <td>CARDINAL</td>\n",
       "      <td>4</td>\n",
       "      <td>четыре</td>\n",
       "    </tr>\n",
       "    <tr>\n",
       "      <th>9075196</th>\n",
       "      <td>653766</td>\n",
       "      <td>2</td>\n",
       "      <td>PLAIN</td>\n",
       "      <td>Роуз</td>\n",
       "      <td>Роуз</td>\n",
       "    </tr>\n",
       "    <tr>\n",
       "      <th>9075197</th>\n",
       "      <td>653766</td>\n",
       "      <td>3</td>\n",
       "      <td>PLAIN</td>\n",
       "      <td>Уильямс</td>\n",
       "      <td>Уильямс</td>\n",
       "    </tr>\n",
       "    <tr>\n",
       "      <th>9075198</th>\n",
       "      <td>653766</td>\n",
       "      <td>4</td>\n",
       "      <td>PLAIN</td>\n",
       "      <td>появляется</td>\n",
       "      <td>появляется</td>\n",
       "    </tr>\n",
       "    <tr>\n",
       "      <th>9075199</th>\n",
       "      <td>653766</td>\n",
       "      <td>5</td>\n",
       "      <td>PLAIN</td>\n",
       "      <td>во</td>\n",
       "      <td>во</td>\n",
       "    </tr>\n",
       "    <tr>\n",
       "      <th>9075200</th>\n",
       "      <td>653766</td>\n",
       "      <td>6</td>\n",
       "      <td>PLAIN</td>\n",
       "      <td>второстепенной</td>\n",
       "      <td>второстепенной</td>\n",
       "    </tr>\n",
       "    <tr>\n",
       "      <th>9075201</th>\n",
       "      <td>653766</td>\n",
       "      <td>7</td>\n",
       "      <td>PLAIN</td>\n",
       "      <td>роли</td>\n",
       "      <td>роли</td>\n",
       "    </tr>\n",
       "    <tr>\n",
       "      <th>9075202</th>\n",
       "      <td>653766</td>\n",
       "      <td>8</td>\n",
       "      <td>PLAIN</td>\n",
       "      <td>с</td>\n",
       "      <td>с</td>\n",
       "    </tr>\n",
       "    <tr>\n",
       "      <th>9075203</th>\n",
       "      <td>653766</td>\n",
       "      <td>9</td>\n",
       "      <td>CARDINAL</td>\n",
       "      <td>2</td>\n",
       "      <td>двумя</td>\n",
       "    </tr>\n",
       "    <tr>\n",
       "      <th>9075204</th>\n",
       "      <td>653766</td>\n",
       "      <td>10</td>\n",
       "      <td>PLAIN</td>\n",
       "      <td>x</td>\n",
       "      <td>на</td>\n",
       "    </tr>\n",
       "    <tr>\n",
       "      <th>9075205</th>\n",
       "      <td>653766</td>\n",
       "      <td>11</td>\n",
       "      <td>CARDINAL</td>\n",
       "      <td>07</td>\n",
       "      <td>семь</td>\n",
       "    </tr>\n",
       "    <tr>\n",
       "      <th>9075206</th>\n",
       "      <td>653766</td>\n",
       "      <td>12</td>\n",
       "      <td>PLAIN</td>\n",
       "      <td>по</td>\n",
       "      <td>по</td>\n",
       "    </tr>\n",
       "    <tr>\n",
       "      <th>9075207</th>\n",
       "      <td>653766</td>\n",
       "      <td>13</td>\n",
       "      <td>CARDINAL</td>\n",
       "      <td>2</td>\n",
       "      <td>два</td>\n",
       "    </tr>\n",
       "    <tr>\n",
       "      <th>9075208</th>\n",
       "      <td>653766</td>\n",
       "      <td>14</td>\n",
       "      <td>PLAIN</td>\n",
       "      <td>x</td>\n",
       "      <td>на</td>\n",
       "    </tr>\n",
       "    <tr>\n",
       "      <th>9075209</th>\n",
       "      <td>653766</td>\n",
       "      <td>15</td>\n",
       "      <td>CARDINAL</td>\n",
       "      <td>09</td>\n",
       "      <td>девять</td>\n",
       "    </tr>\n",
       "    <tr>\n",
       "      <th>9075211</th>\n",
       "      <td>653766</td>\n",
       "      <td>17</td>\n",
       "      <td>PLAIN</td>\n",
       "      <td>С</td>\n",
       "      <td>С</td>\n",
       "    </tr>\n",
       "    <tr>\n",
       "      <th>9075212</th>\n",
       "      <td>653766</td>\n",
       "      <td>18</td>\n",
       "      <td>CARDINAL</td>\n",
       "      <td>2</td>\n",
       "      <td>два</td>\n",
       "    </tr>\n",
       "    <tr>\n",
       "      <th>9075213</th>\n",
       "      <td>653766</td>\n",
       "      <td>19</td>\n",
       "      <td>PLAIN</td>\n",
       "      <td>x</td>\n",
       "      <td>на</td>\n",
       "    </tr>\n",
       "    <tr>\n",
       "      <th>9075214</th>\n",
       "      <td>653766</td>\n",
       "      <td>20</td>\n",
       "      <td>CARDINAL</td>\n",
       "      <td>10</td>\n",
       "      <td>ноль</td>\n",
       "    </tr>\n",
       "    <tr>\n",
       "      <th>9075215</th>\n",
       "      <td>653766</td>\n",
       "      <td>21</td>\n",
       "      <td>PLAIN</td>\n",
       "      <td>включена</td>\n",
       "      <td>включена</td>\n",
       "    </tr>\n",
       "    <tr>\n",
       "      <th>9075216</th>\n",
       "      <td>653766</td>\n",
       "      <td>22</td>\n",
       "      <td>PLAIN</td>\n",
       "      <td>в</td>\n",
       "      <td>в</td>\n",
       "    </tr>\n",
       "    <tr>\n",
       "      <th>9075217</th>\n",
       "      <td>653766</td>\n",
       "      <td>23</td>\n",
       "      <td>PLAIN</td>\n",
       "      <td>основной</td>\n",
       "      <td>основной</td>\n",
       "    </tr>\n",
       "    <tr>\n",
       "      <th>9075218</th>\n",
       "      <td>653766</td>\n",
       "      <td>24</td>\n",
       "      <td>PLAIN</td>\n",
       "      <td>состав</td>\n",
       "      <td>состав</td>\n",
       "    </tr>\n",
       "  </tbody>\n",
       "</table>\n",
       "</div>"
      ],
      "text/plain": [
       "         sentence_id  token_id     class          before           after\n",
       "9075194       653766         0  CARDINAL               4          четыре\n",
       "9075196       653766         2     PLAIN            Роуз            Роуз\n",
       "9075197       653766         3     PLAIN         Уильямс         Уильямс\n",
       "9075198       653766         4     PLAIN      появляется      появляется\n",
       "9075199       653766         5     PLAIN              во              во\n",
       "9075200       653766         6     PLAIN  второстепенной  второстепенной\n",
       "9075201       653766         7     PLAIN            роли            роли\n",
       "9075202       653766         8     PLAIN               с               с\n",
       "9075203       653766         9  CARDINAL               2           двумя\n",
       "9075204       653766        10     PLAIN               x              на\n",
       "9075205       653766        11  CARDINAL              07            семь\n",
       "9075206       653766        12     PLAIN              по              по\n",
       "9075207       653766        13  CARDINAL               2             два\n",
       "9075208       653766        14     PLAIN               x              на\n",
       "9075209       653766        15  CARDINAL              09          девять\n",
       "9075211       653766        17     PLAIN               С               С\n",
       "9075212       653766        18  CARDINAL               2             два\n",
       "9075213       653766        19     PLAIN               x              на\n",
       "9075214       653766        20  CARDINAL              10            ноль\n",
       "9075215       653766        21     PLAIN        включена        включена\n",
       "9075216       653766        22     PLAIN               в               в\n",
       "9075217       653766        23     PLAIN        основной        основной\n",
       "9075218       653766        24     PLAIN          состав          состав"
      ]
     },
     "execution_count": 86,
     "metadata": {},
     "output_type": "execute_result"
    }
   ],
   "source": [
    "train[train.sentence_id == 653766]"
   ]
  },
  {
   "cell_type": "code",
   "execution_count": 81,
   "metadata": {},
   "outputs": [
    {
     "data": {
      "text/plain": [
       "4"
      ]
     },
     "execution_count": 81,
     "metadata": {},
     "output_type": "execute_result"
    }
   ],
   "source": [
    "train_digit.before.apply(lambda x: len(x)).max()"
   ]
  },
  {
   "cell_type": "code",
   "execution_count": 84,
   "metadata": {},
   "outputs": [
    {
     "data": {
      "text/plain": [
       "5"
      ]
     },
     "execution_count": 84,
     "metadata": {},
     "output_type": "execute_result"
    }
   ],
   "source": [
    "train_digit_errors[train_digit_errors['class'] == 'TELEPHONE'].before.apply(lambda x: len(x)).min()"
   ]
  },
  {
   "cell_type": "markdown",
   "metadata": {},
   "source": [
    "Now we see that these two classes could be easily separated by value length. 'DIGIT' class maximum length is 4, but the length of digit errors in class 'PHONE' is minimum 5"
   ]
  },
  {
   "cell_type": "markdown",
   "metadata": {},
   "source": [
    "#### Predict 'DIGIT' class label "
   ]
  },
  {
   "cell_type": "code",
   "execution_count": 117,
   "metadata": {
    "collapsed": true
   },
   "outputs": [],
   "source": [
    "def is_number(value):\n",
    "    try:\n",
    "        int(value)\n",
    "        return True\n",
    "    except ValueError:\n",
    "        return False\n",
    "\n",
    "def predict_digit_class(row):\n",
    "    value = row['before']\n",
    "    if str(value).startswith('0') and is_number(value):\n",
    "        if len(value) == 1:\n",
    "            return 'CARDINAL'\n",
    "        if len(value) == 2:\n",
    "            token_id_cur = row['token_id']\n",
    "            sentence_id = row['sentence_id']\n",
    "            token_id_before = token_id_cur - 1\n",
    "            try:\n",
    "                value_before = train.loc[(train.sentence_id == sentence_id) & \\\n",
    "                                         (train.token_id == token_id_before), 'before'].values[0]\n",
    "                if value_before == 'x':\n",
    "                    return 'CARDINAL'\n",
    "            except:\n",
    "                return 'DIGIT'\n",
    "        if len(value) > 4:\n",
    "            return 'TELEPHONE'\n",
    "\n",
    "        return 'DIGIT'\n",
    "    else:\n",
    "        return 'OTHER'"
   ]
  },
  {
   "cell_type": "code",
   "execution_count": null,
   "metadata": {
    "collapsed": true
   },
   "outputs": [],
   "source": [
    "train['class_predicted'] = train.apply(lambda row: predict_digit_class(row))"
   ]
  },
  {
   "cell_type": "code",
   "execution_count": null,
   "metadata": {
    "collapsed": true
   },
   "outputs": [],
   "source": []
  }
 ],
 "metadata": {
  "kernelspec": {
   "display_name": "Python 2",
   "language": "python",
   "name": "python2"
  },
  "language_info": {
   "codemirror_mode": {
    "name": "ipython",
    "version": 2
   },
   "file_extension": ".py",
   "mimetype": "text/x-python",
   "name": "python",
   "nbconvert_exporter": "python",
   "pygments_lexer": "ipython2",
   "version": "2.7.13"
  }
 },
 "nbformat": 4,
 "nbformat_minor": 2
}
