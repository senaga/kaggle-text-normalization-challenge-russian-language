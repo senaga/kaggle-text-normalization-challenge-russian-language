{
 "cells": [
  {
   "cell_type": "code",
   "execution_count": 2,
   "metadata": {
    "collapsed": true
   },
   "outputs": [],
   "source": [
    "import numpy as np\n",
    "import pandas as pd"
   ]
  },
  {
   "cell_type": "code",
   "execution_count": 50,
   "metadata": {
    "collapsed": true
   },
   "outputs": [],
   "source": [
    "train = pd.read_csv('data/train.csv', encoding = 'utf8')\n",
    "submit = pd.read_csv('data/sample_submission.csv')"
   ]
  },
  {
   "cell_type": "code",
   "execution_count": 38,
   "metadata": {
    "collapsed": true
   },
   "outputs": [],
   "source": [
    "test = pd.read_csv('data/test.csv', encoding = 'utf8')"
   ]
  },
  {
   "cell_type": "code",
   "execution_count": 4,
   "metadata": {},
   "outputs": [
    {
     "data": {
      "text/plain": [
       "array(['PLAIN', 'DATE', 'PUNCT', 'ORDINAL', 'VERBATIM', 'LETTERS',\n",
       "       'CARDINAL', 'MEASURE', 'TELEPHONE', 'ELECTRONIC', 'DECIMAL',\n",
       "       'DIGIT', 'FRACTION', 'MONEY', 'TIME'], dtype=object)"
      ]
     },
     "execution_count": 4,
     "metadata": {},
     "output_type": "execute_result"
    }
   ],
   "source": [
    "data = {}\n",
    "classes = train[\"class\"].unique()\n",
    "classes"
   ]
  },
  {
   "cell_type": "code",
   "execution_count": 5,
   "metadata": {
    "collapsed": true
   },
   "outputs": [],
   "source": [
    "for c in classes:\n",
    "    data[c] = train[train['class'] == c]"
   ]
  },
  {
   "cell_type": "markdown",
   "metadata": {},
   "source": [
    "We will be considering all the classes one-by-one starting with the smallest error rate. We will also create a rule for each of them to predict the class for the test data then."
   ]
  },
  {
   "cell_type": "markdown",
   "metadata": {},
   "source": [
    "### 1. Predict [PUNCT] 'class' value | $0.00%$% error rate"
   ]
  },
  {
   "cell_type": "code",
   "execution_count": 6,
   "metadata": {},
   "outputs": [
    {
     "data": {
      "text/html": [
       "<div>\n",
       "<style>\n",
       "    .dataframe thead tr:only-child th {\n",
       "        text-align: right;\n",
       "    }\n",
       "\n",
       "    .dataframe thead th {\n",
       "        text-align: left;\n",
       "    }\n",
       "\n",
       "    .dataframe tbody tr th {\n",
       "        vertical-align: top;\n",
       "    }\n",
       "</style>\n",
       "<table border=\"1\" class=\"dataframe\">\n",
       "  <thead>\n",
       "    <tr style=\"text-align: right;\">\n",
       "      <th></th>\n",
       "      <th>sentence_id</th>\n",
       "      <th>token_id</th>\n",
       "      <th>class</th>\n",
       "      <th>before</th>\n",
       "      <th>after</th>\n",
       "    </tr>\n",
       "  </thead>\n",
       "  <tbody>\n",
       "    <tr>\n",
       "      <th>4</th>\n",
       "      <td>0</td>\n",
       "      <td>4</td>\n",
       "      <td>PUNCT</td>\n",
       "      <td>.</td>\n",
       "      <td>.</td>\n",
       "    </tr>\n",
       "    <tr>\n",
       "      <th>14</th>\n",
       "      <td>1</td>\n",
       "      <td>9</td>\n",
       "      <td>PUNCT</td>\n",
       "      <td>.</td>\n",
       "      <td>.</td>\n",
       "    </tr>\n",
       "    <tr>\n",
       "      <th>18</th>\n",
       "      <td>2</td>\n",
       "      <td>3</td>\n",
       "      <td>PUNCT</td>\n",
       "      <td>,</td>\n",
       "      <td>,</td>\n",
       "    </tr>\n",
       "    <tr>\n",
       "      <th>24</th>\n",
       "      <td>2</td>\n",
       "      <td>9</td>\n",
       "      <td>PUNCT</td>\n",
       "      <td>(</td>\n",
       "      <td>(</td>\n",
       "    </tr>\n",
       "    <tr>\n",
       "      <th>27</th>\n",
       "      <td>2</td>\n",
       "      <td>12</td>\n",
       "      <td>PUNCT</td>\n",
       "      <td>)</td>\n",
       "      <td>)</td>\n",
       "    </tr>\n",
       "  </tbody>\n",
       "</table>\n",
       "</div>"
      ],
      "text/plain": [
       "    sentence_id  token_id  class before after\n",
       "4             0         4  PUNCT      .     .\n",
       "14            1         9  PUNCT      .     .\n",
       "18            2         3  PUNCT      ,     ,\n",
       "24            2         9  PUNCT      (     (\n",
       "27            2        12  PUNCT      )     )"
      ]
     },
     "execution_count": 6,
     "metadata": {},
     "output_type": "execute_result"
    }
   ],
   "source": [
    "data[\"PUNCT\"].head()"
   ]
  },
  {
   "cell_type": "code",
   "execution_count": null,
   "metadata": {
    "collapsed": true
   },
   "outputs": [],
   "source": []
  },
  {
   "cell_type": "code",
   "execution_count": 38,
   "metadata": {
    "collapsed": true
   },
   "outputs": [],
   "source": [
    "punctuations = data['PUNCT']['before'].unique().tolist()"
   ]
  },
  {
   "cell_type": "code",
   "execution_count": 39,
   "metadata": {},
   "outputs": [
    {
     "name": "stdout",
     "output_type": "stream",
     "text": [
      "['/', '---', '-----', '(', '¡', '.', ']', '¿', ',', ':', '[', '?', '«', '—', '»', \"'\", ';', ')', '|', '--', '\"', '!']\n"
     ]
    }
   ],
   "source": [
    "print (punctuations)"
   ]
  },
  {
   "cell_type": "markdown",
   "metadata": {},
   "source": [
    "We want to make sure that the rule that we use is applied to the current class and is not applied to any other element in the dataset (in other words, this rule MUST give unique results for each class)"
   ]
  },
  {
   "cell_type": "code",
   "execution_count": 18,
   "metadata": {},
   "outputs": [
    {
     "name": "stdout",
     "output_type": "stream",
     "text": [
      "2288640\n",
      "2288640\n",
      "2295197\n"
     ]
    }
   ],
   "source": [
    "print (len(data['PUNCT']))\n",
    "print (data['PUNCT']['before'].apply(lambda x: 1 if x in punctuations else 0).sum())\n",
    "print (train['before'].apply(lambda x: 1 if x in punctuations else 0).sum())"
   ]
  },
  {
   "cell_type": "code",
   "execution_count": 44,
   "metadata": {},
   "outputs": [
    {
     "data": {
      "text/plain": [
       "6557"
      ]
     },
     "execution_count": 44,
     "metadata": {},
     "output_type": "execute_result"
    }
   ],
   "source": [
    "2295197 - 2288640"
   ]
  },
  {
   "cell_type": "markdown",
   "metadata": {},
   "source": [
    "###  3.a Fix errors "
   ]
  },
  {
   "cell_type": "markdown",
   "metadata": {},
   "source": [
    "We see a number of dataset rows that have the same value that 'PUNCT' does, but don't belong to this class"
   ]
  },
  {
   "cell_type": "code",
   "execution_count": 46,
   "metadata": {
    "collapsed": true
   },
   "outputs": [],
   "source": [
    "train_not_punct = train[(train['class'] != 'PUNCT')]"
   ]
  },
  {
   "cell_type": "code",
   "execution_count": 47,
   "metadata": {
    "collapsed": true
   },
   "outputs": [],
   "source": [
    "train_punct_errors = train_not_punct[train_not_punct.apply(lambda row: row['before'] in punctuations, axis=1)]"
   ]
  },
  {
   "cell_type": "code",
   "execution_count": 51,
   "metadata": {},
   "outputs": [
    {
     "data": {
      "text/html": [
       "<div>\n",
       "<style>\n",
       "    .dataframe thead tr:only-child th {\n",
       "        text-align: right;\n",
       "    }\n",
       "\n",
       "    .dataframe thead th {\n",
       "        text-align: left;\n",
       "    }\n",
       "\n",
       "    .dataframe tbody tr th {\n",
       "        vertical-align: top;\n",
       "    }\n",
       "</style>\n",
       "<table border=\"1\" class=\"dataframe\">\n",
       "  <thead>\n",
       "    <tr style=\"text-align: right;\">\n",
       "      <th></th>\n",
       "      <th>sentence_id</th>\n",
       "      <th>token_id</th>\n",
       "      <th>class</th>\n",
       "      <th>before</th>\n",
       "      <th>after</th>\n",
       "    </tr>\n",
       "  </thead>\n",
       "  <tbody>\n",
       "    <tr>\n",
       "      <th>604</th>\n",
       "      <td>44</td>\n",
       "      <td>5</td>\n",
       "      <td>PLAIN</td>\n",
       "      <td>—</td>\n",
       "      <td>до</td>\n",
       "    </tr>\n",
       "    <tr>\n",
       "      <th>1347</th>\n",
       "      <td>96</td>\n",
       "      <td>2</td>\n",
       "      <td>PLAIN</td>\n",
       "      <td>—</td>\n",
       "      <td>до</td>\n",
       "    </tr>\n",
       "    <tr>\n",
       "      <th>1371</th>\n",
       "      <td>96</td>\n",
       "      <td>26</td>\n",
       "      <td>PLAIN</td>\n",
       "      <td>—</td>\n",
       "      <td>до</td>\n",
       "    </tr>\n",
       "    <tr>\n",
       "      <th>1795</th>\n",
       "      <td>128</td>\n",
       "      <td>2</td>\n",
       "      <td>PLAIN</td>\n",
       "      <td>—</td>\n",
       "      <td>до</td>\n",
       "    </tr>\n",
       "    <tr>\n",
       "      <th>2434</th>\n",
       "      <td>172</td>\n",
       "      <td>12</td>\n",
       "      <td>PLAIN</td>\n",
       "      <td>—</td>\n",
       "      <td>до</td>\n",
       "    </tr>\n",
       "  </tbody>\n",
       "</table>\n",
       "</div>"
      ],
      "text/plain": [
       "      sentence_id  token_id  class before after\n",
       "604            44         5  PLAIN      —    до\n",
       "1347           96         2  PLAIN      —    до\n",
       "1371           96        26  PLAIN      —    до\n",
       "1795          128         2  PLAIN      —    до\n",
       "2434          172        12  PLAIN      —    до"
      ]
     },
     "execution_count": 51,
     "metadata": {},
     "output_type": "execute_result"
    }
   ],
   "source": [
    "train_punct_errors.head()"
   ]
  },
  {
   "cell_type": "code",
   "execution_count": 54,
   "metadata": {},
   "outputs": [
    {
     "data": {
      "text/plain": [
       "—    6553\n",
       ".       3\n",
       "«       1\n",
       "Name: before, dtype: int64"
      ]
     },
     "execution_count": 54,
     "metadata": {},
     "output_type": "execute_result"
    }
   ],
   "source": [
    "train_punct_errors.before.value_counts()"
   ]
  },
  {
   "cell_type": "markdown",
   "metadata": {},
   "source": [
    "#### Fix ' —' letter"
   ]
  },
  {
   "cell_type": "markdown",
   "metadata": {},
   "source": [
    "We firstly want to make sure, that all '—' punctuations has the same 'after' label"
   ]
  },
  {
   "cell_type": "code",
   "execution_count": 53,
   "metadata": {},
   "outputs": [
    {
     "data": {
      "text/html": [
       "<div>\n",
       "<style>\n",
       "    .dataframe thead tr:only-child th {\n",
       "        text-align: right;\n",
       "    }\n",
       "\n",
       "    .dataframe thead th {\n",
       "        text-align: left;\n",
       "    }\n",
       "\n",
       "    .dataframe tbody tr th {\n",
       "        vertical-align: top;\n",
       "    }\n",
       "</style>\n",
       "<table border=\"1\" class=\"dataframe\">\n",
       "  <thead>\n",
       "    <tr style=\"text-align: right;\">\n",
       "      <th></th>\n",
       "      <th>sentence_id</th>\n",
       "      <th>token_id</th>\n",
       "      <th>class</th>\n",
       "      <th>before</th>\n",
       "      <th>after</th>\n",
       "    </tr>\n",
       "  </thead>\n",
       "  <tbody>\n",
       "    <tr>\n",
       "      <th>6832525</th>\n",
       "      <td>492799</td>\n",
       "      <td>0</td>\n",
       "      <td>VERBATIM</td>\n",
       "      <td>—</td>\n",
       "      <td>—</td>\n",
       "    </tr>\n",
       "  </tbody>\n",
       "</table>\n",
       "</div>"
      ],
      "text/plain": [
       "         sentence_id  token_id     class before after\n",
       "6832525       492799         0  VERBATIM      —     —"
      ]
     },
     "execution_count": 53,
     "metadata": {},
     "output_type": "execute_result"
    }
   ],
   "source": [
    "train_punct_errors[(train_punct_errors.before == '—') & (train_punct_errors.after != 'до')]"
   ]
  },
  {
   "cell_type": "markdown",
   "metadata": {},
   "source": [
    "It's definitely ok with this value, the class will be treated as PUNCT, not VERBATIM. Now we want to see the rest punctuation errors"
   ]
  },
  {
   "cell_type": "code",
   "execution_count": 74,
   "metadata": {
    "collapsed": true
   },
   "outputs": [],
   "source": [
    "train_punct_dash_errors = train_punct_errors.loc[(train_punct_errors.before == '—') & (train_punct_errors.after == 'до')]"
   ]
  },
  {
   "cell_type": "code",
   "execution_count": 76,
   "metadata": {},
   "outputs": [
    {
     "data": {
      "text/plain": [
       "array(['PLAIN'], dtype=object)"
      ]
     },
     "execution_count": 76,
     "metadata": {},
     "output_type": "execute_result"
    }
   ],
   "source": [
    "train_punct_dash_errors['class'].unique()"
   ]
  },
  {
   "cell_type": "markdown",
   "metadata": {},
   "source": [
    "To fix the orher '—' marks, we need to see the sentence context, all this errors come from a \"PLAIN\" class"
   ]
  },
  {
   "cell_type": "code",
   "execution_count": 73,
   "metadata": {},
   "outputs": [
    {
     "data": {
      "text/html": [
       "<div>\n",
       "<style>\n",
       "    .dataframe thead tr:only-child th {\n",
       "        text-align: right;\n",
       "    }\n",
       "\n",
       "    .dataframe thead th {\n",
       "        text-align: left;\n",
       "    }\n",
       "\n",
       "    .dataframe tbody tr th {\n",
       "        vertical-align: top;\n",
       "    }\n",
       "</style>\n",
       "<table border=\"1\" class=\"dataframe\">\n",
       "  <thead>\n",
       "    <tr style=\"text-align: right;\">\n",
       "      <th></th>\n",
       "      <th>sentence_id</th>\n",
       "      <th>token_id</th>\n",
       "      <th>class</th>\n",
       "      <th>before</th>\n",
       "      <th>after</th>\n",
       "    </tr>\n",
       "  </thead>\n",
       "  <tbody>\n",
       "    <tr>\n",
       "      <th>1793</th>\n",
       "      <td>128</td>\n",
       "      <td>0</td>\n",
       "      <td>PLAIN</td>\n",
       "      <td>от</td>\n",
       "      <td>от</td>\n",
       "    </tr>\n",
       "    <tr>\n",
       "      <th>1794</th>\n",
       "      <td>128</td>\n",
       "      <td>1</td>\n",
       "      <td>CARDINAL</td>\n",
       "      <td>54</td>\n",
       "      <td>пятидесяти четырех</td>\n",
       "    </tr>\n",
       "    <tr>\n",
       "      <th>1795</th>\n",
       "      <td>128</td>\n",
       "      <td>2</td>\n",
       "      <td>PLAIN</td>\n",
       "      <td>—</td>\n",
       "      <td>до</td>\n",
       "    </tr>\n",
       "    <tr>\n",
       "      <th>1796</th>\n",
       "      <td>128</td>\n",
       "      <td>3</td>\n",
       "      <td>CARDINAL</td>\n",
       "      <td>64</td>\n",
       "      <td>шестьдесят четыре</td>\n",
       "    </tr>\n",
       "    <tr>\n",
       "      <th>1797</th>\n",
       "      <td>128</td>\n",
       "      <td>4</td>\n",
       "      <td>PLAIN</td>\n",
       "      <td>Treherne</td>\n",
       "      <td>т_trans р_trans е_trans е_trans р_trans н_trans</td>\n",
       "    </tr>\n",
       "    <tr>\n",
       "      <th>1798</th>\n",
       "      <td>128</td>\n",
       "      <td>5</td>\n",
       "      <td>PUNCT</td>\n",
       "      <td>,</td>\n",
       "      <td>,</td>\n",
       "    </tr>\n",
       "    <tr>\n",
       "      <th>1799</th>\n",
       "      <td>128</td>\n",
       "      <td>6</td>\n",
       "      <td>CARDINAL</td>\n",
       "      <td>1989</td>\n",
       "      <td>тысяча девятьсот восемьдесят девять</td>\n",
       "    </tr>\n",
       "    <tr>\n",
       "      <th>1800</th>\n",
       "      <td>128</td>\n",
       "      <td>7</td>\n",
       "      <td>PUNCT</td>\n",
       "      <td>,</td>\n",
       "      <td>,</td>\n",
       "    </tr>\n",
       "    <tr>\n",
       "      <th>1801</th>\n",
       "      <td>128</td>\n",
       "      <td>8</td>\n",
       "      <td>PLAIN</td>\n",
       "      <td>pp</td>\n",
       "      <td>п_trans п_trans</td>\n",
       "    </tr>\n",
       "    <tr>\n",
       "      <th>1802</th>\n",
       "      <td>128</td>\n",
       "      <td>9</td>\n",
       "      <td>PUNCT</td>\n",
       "      <td>.</td>\n",
       "      <td>.</td>\n",
       "    </tr>\n",
       "  </tbody>\n",
       "</table>\n",
       "</div>"
      ],
      "text/plain": [
       "      sentence_id  token_id     class    before  \\\n",
       "1793          128         0     PLAIN        от   \n",
       "1794          128         1  CARDINAL        54   \n",
       "1795          128         2     PLAIN         —   \n",
       "1796          128         3  CARDINAL        64   \n",
       "1797          128         4     PLAIN  Treherne   \n",
       "1798          128         5     PUNCT         ,   \n",
       "1799          128         6  CARDINAL      1989   \n",
       "1800          128         7     PUNCT         ,   \n",
       "1801          128         8     PLAIN        pp   \n",
       "1802          128         9     PUNCT         .   \n",
       "\n",
       "                                                after  \n",
       "1793                                               от  \n",
       "1794                               пятидесяти четырех  \n",
       "1795                                               до  \n",
       "1796                                шестьдесят четыре  \n",
       "1797  т_trans р_trans е_trans е_trans р_trans н_trans  \n",
       "1798                                                ,  \n",
       "1799              тысяча девятьсот восемьдесят девять  \n",
       "1800                                                ,  \n",
       "1801                                  п_trans п_trans  \n",
       "1802                                                .  "
      ]
     },
     "execution_count": 73,
     "metadata": {},
     "output_type": "execute_result"
    }
   ],
   "source": [
    "train[train.sentence_id == 128]"
   ]
  },
  {
   "cell_type": "markdown",
   "metadata": {},
   "source": [
    "It seems that all these '—' errors are transformed to 'до' and are more likely to be followed by 'от' word or 'с' word. Let's check this"
   ]
  },
  {
   "cell_type": "code",
   "execution_count": 93,
   "metadata": {},
   "outputs": [
    {
     "data": {
      "text/plain": [
       "True"
      ]
     },
     "execution_count": 93,
     "metadata": {},
     "output_type": "execute_result"
    }
   ],
   "source": [
    "train.loc[(train.sentence_id == 128) & (train.token_id == 0), 'before'].values[0] == 'от'"
   ]
  },
  {
   "cell_type": "code",
   "execution_count": 97,
   "metadata": {
    "collapsed": true
   },
   "outputs": [],
   "source": [
    "counter = 0\n",
    "for i, row in train_punct_dash_errors.iterrows():\n",
    "    token_id_dash = row['token_id']\n",
    "    sentence_id = row['sentence_id']\n",
    "    token_id_before = token_id_dash - 2\n",
    "    value_before = train.loc[(train.sentence_id == sentence_id) & (train.token_id == token_id_before), 'before'].values[0]\n",
    "    if value_before == 'от' or value_before == 'с':\n",
    "        counter += 1\n",
    "    else:\n",
    "        print (train[train.sentence_id == sentence_id])"
   ]
  },
  {
   "cell_type": "code",
   "execution_count": 98,
   "metadata": {},
   "outputs": [
    {
     "name": "stdout",
     "output_type": "stream",
     "text": [
      "True\n"
     ]
    }
   ],
   "source": [
    "print (len(train_punct_dash_errors) == counter)"
   ]
  },
  {
   "cell_type": "markdown",
   "metadata": {},
   "source": [
    "#### Fix '.' and '«' letters"
   ]
  },
  {
   "cell_type": "code",
   "execution_count": 55,
   "metadata": {},
   "outputs": [
    {
     "data": {
      "text/html": [
       "<div>\n",
       "<style>\n",
       "    .dataframe thead tr:only-child th {\n",
       "        text-align: right;\n",
       "    }\n",
       "\n",
       "    .dataframe thead th {\n",
       "        text-align: left;\n",
       "    }\n",
       "\n",
       "    .dataframe tbody tr th {\n",
       "        vertical-align: top;\n",
       "    }\n",
       "</style>\n",
       "<table border=\"1\" class=\"dataframe\">\n",
       "  <thead>\n",
       "    <tr style=\"text-align: right;\">\n",
       "      <th></th>\n",
       "      <th>sentence_id</th>\n",
       "      <th>token_id</th>\n",
       "      <th>class</th>\n",
       "      <th>before</th>\n",
       "      <th>after</th>\n",
       "    </tr>\n",
       "  </thead>\n",
       "  <tbody>\n",
       "    <tr>\n",
       "      <th>6832527</th>\n",
       "      <td>492799</td>\n",
       "      <td>2</td>\n",
       "      <td>VERBATIM</td>\n",
       "      <td>.</td>\n",
       "      <td>точка</td>\n",
       "    </tr>\n",
       "    <tr>\n",
       "      <th>6832528</th>\n",
       "      <td>492799</td>\n",
       "      <td>3</td>\n",
       "      <td>VERBATIM</td>\n",
       "      <td>.</td>\n",
       "      <td>точка</td>\n",
       "    </tr>\n",
       "    <tr>\n",
       "      <th>6832529</th>\n",
       "      <td>492799</td>\n",
       "      <td>4</td>\n",
       "      <td>VERBATIM</td>\n",
       "      <td>.</td>\n",
       "      <td>точка</td>\n",
       "    </tr>\n",
       "  </tbody>\n",
       "</table>\n",
       "</div>"
      ],
      "text/plain": [
       "         sentence_id  token_id     class before  after\n",
       "6832527       492799         2  VERBATIM      .  точка\n",
       "6832528       492799         3  VERBATIM      .  точка\n",
       "6832529       492799         4  VERBATIM      .  точка"
      ]
     },
     "execution_count": 55,
     "metadata": {},
     "output_type": "execute_result"
    }
   ],
   "source": [
    "train_punct_errors[(train_punct_errors.before == '.')]"
   ]
  },
  {
   "cell_type": "markdown",
   "metadata": {},
   "source": [
    "What is the difference between a dot from \"PUNCT\" class and the one from \"VERBATIM\"?"
   ]
  },
  {
   "cell_type": "code",
   "execution_count": 64,
   "metadata": {},
   "outputs": [
    {
     "data": {
      "text/html": [
       "<div>\n",
       "<style>\n",
       "    .dataframe thead tr:only-child th {\n",
       "        text-align: right;\n",
       "    }\n",
       "\n",
       "    .dataframe thead th {\n",
       "        text-align: left;\n",
       "    }\n",
       "\n",
       "    .dataframe tbody tr th {\n",
       "        vertical-align: top;\n",
       "    }\n",
       "</style>\n",
       "<table border=\"1\" class=\"dataframe\">\n",
       "  <thead>\n",
       "    <tr style=\"text-align: right;\">\n",
       "      <th></th>\n",
       "      <th>sentence_id</th>\n",
       "      <th>token_id</th>\n",
       "      <th>class</th>\n",
       "      <th>before</th>\n",
       "      <th>after</th>\n",
       "    </tr>\n",
       "  </thead>\n",
       "  <tbody>\n",
       "    <tr>\n",
       "      <th>6832525</th>\n",
       "      <td>492799</td>\n",
       "      <td>0</td>\n",
       "      <td>VERBATIM</td>\n",
       "      <td>—</td>\n",
       "      <td>—</td>\n",
       "    </tr>\n",
       "    <tr>\n",
       "      <th>6832526</th>\n",
       "      <td>492799</td>\n",
       "      <td>1</td>\n",
       "      <td>VERBATIM</td>\n",
       "      <td>«</td>\n",
       "      <td>кавычка</td>\n",
       "    </tr>\n",
       "    <tr>\n",
       "      <th>6832527</th>\n",
       "      <td>492799</td>\n",
       "      <td>2</td>\n",
       "      <td>VERBATIM</td>\n",
       "      <td>.</td>\n",
       "      <td>точка</td>\n",
       "    </tr>\n",
       "    <tr>\n",
       "      <th>6832528</th>\n",
       "      <td>492799</td>\n",
       "      <td>3</td>\n",
       "      <td>VERBATIM</td>\n",
       "      <td>.</td>\n",
       "      <td>точка</td>\n",
       "    </tr>\n",
       "    <tr>\n",
       "      <th>6832529</th>\n",
       "      <td>492799</td>\n",
       "      <td>4</td>\n",
       "      <td>VERBATIM</td>\n",
       "      <td>.</td>\n",
       "      <td>точка</td>\n",
       "    </tr>\n",
       "  </tbody>\n",
       "</table>\n",
       "</div>"
      ],
      "text/plain": [
       "         sentence_id  token_id     class before    after\n",
       "6832525       492799         0  VERBATIM      —        —\n",
       "6832526       492799         1  VERBATIM      «  кавычка\n",
       "6832527       492799         2  VERBATIM      .    точка\n",
       "6832528       492799         3  VERBATIM      .    точка\n",
       "6832529       492799         4  VERBATIM      .    точка"
      ]
     },
     "execution_count": 64,
     "metadata": {},
     "output_type": "execute_result"
    }
   ],
   "source": [
    "train[train.sentence_id == 492799]"
   ]
  },
  {
   "cell_type": "code",
   "execution_count": 57,
   "metadata": {},
   "outputs": [
    {
     "name": "stdout",
     "output_type": "stream",
     "text": [
      "920258\n"
     ]
    }
   ],
   "source": [
    "print (len(data[\"PUNCT\"][data[\"PUNCT\"].before == '.'])) # The majority"
   ]
  },
  {
   "cell_type": "markdown",
   "metadata": {},
   "source": [
    "We can see all the other dots are actually punctuation marks, so the sentence $id=492799$ is just a trash. We will simply remove this sentence from the dataset"
   ]
  },
  {
   "cell_type": "code",
   "execution_count": 90,
   "metadata": {},
   "outputs": [
    {
     "data": {
      "text/plain": [
       "True"
      ]
     },
     "execution_count": 90,
     "metadata": {},
     "output_type": "execute_result"
    }
   ],
   "source": [
    "train.iloc[6832525].before == u'\\u2014'"
   ]
  },
  {
   "cell_type": "code",
   "execution_count": 56,
   "metadata": {},
   "outputs": [
    {
     "data": {
      "text/plain": [
       "dtype('O')"
      ]
     },
     "execution_count": 56,
     "metadata": {},
     "output_type": "execute_result"
    }
   ],
   "source": [
    "train.before.dtype"
   ]
  },
  {
   "cell_type": "code",
   "execution_count": null,
   "metadata": {
    "collapsed": true
   },
   "outputs": [],
   "source": []
  },
  {
   "cell_type": "markdown",
   "metadata": {},
   "source": [
    "#### Predict class label "
   ]
  },
  {
   "cell_type": "code",
   "execution_count": 189,
   "metadata": {},
   "outputs": [],
   "source": [
    "def has_numbers(inputString):\n",
    "    return any(char.isdigit() for char in inputString)\n",
    "\n",
    "def predict_punct_class(row):\n",
    "    value = row['before']\n",
    "    if (len(value) == 1 or value.startswith('-')) and value in punctuations:\n",
    "        if value == u'\\u2014':\n",
    "            token_id_dash = row['token_id']\n",
    "            if token_id_dash > 1:\n",
    "                sentence_id = row['sentence_id']\n",
    "                token_id_before = token_id_dash - 2\n",
    "                token_id_after = token_id_dash + 1\n",
    "                sentence = train[(train.sentence_id == sentence_id)]\n",
    "\n",
    "                value_before = sentence.loc[sentence.token_id == token_id_before, 'before'].values[0].lower()\n",
    "                value_after = sentence.loc[sentence.token_id == token_id_after, 'before'].values[0].lower()\n",
    "\n",
    "                if value_before == u'от' or value_before == u'с':\n",
    "                    if not has_numbers(value_after):\n",
    "                        return 'PUNCT'\n",
    "                    else:\n",
    "                        return 'PLAIN'\n",
    "        return 'PUNCT'\n",
    "    else:\n",
    "        return 'OTHER'"
   ]
  },
  {
   "cell_type": "code",
   "execution_count": null,
   "metadata": {
    "collapsed": true
   },
   "outputs": [],
   "source": [
    "train['class_predicted'] = train.apply(predict_punct_class, axis=1)"
   ]
  },
  {
   "cell_type": "markdown",
   "metadata": {},
   "source": [
    "### 2. Predict 'after' value"
   ]
  },
  {
   "cell_type": "code",
   "execution_count": null,
   "metadata": {
    "collapsed": true
   },
   "outputs": [],
   "source": [
    "def predict_punct_class(row):\n",
    "    if row['class'] == 'PLAIN' and row['before'] in punctuations:\n",
    "        return u'до'\n",
    "\n",
    "    return row['before']"
   ]
  },
  {
   "cell_type": "code",
   "execution_count": null,
   "metadata": {
    "collapsed": true
   },
   "outputs": [],
   "source": [
    "train['after_predicted'] = train.apply(lambda row: predict_punct_after(row))"
   ]
  }
 ],
 "metadata": {
  "kernelspec": {
   "display_name": "Python 2",
   "language": "python",
   "name": "python2"
  },
  "language_info": {
   "codemirror_mode": {
    "name": "ipython",
    "version": 2
   },
   "file_extension": ".py",
   "mimetype": "text/x-python",
   "name": "python",
   "nbconvert_exporter": "python",
   "pygments_lexer": "ipython2",
   "version": "2.7.13"
  }
 },
 "nbformat": 4,
 "nbformat_minor": 2
}
